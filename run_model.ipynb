{
 "metadata": {
  "name": "run_model"
 },
 "nbformat": 3,
 "nbformat_minor": 0,
 "worksheets": [
  {
   "cells": [
    {
     "cell_type": "heading",
     "level": 2,
     "metadata": {},
     "source": [
      "Parcel model quick setup and run"
     ]
    },
    {
     "cell_type": "code",
     "collapsed": false,
     "input": [
      "from lognorm import Lognorm\n",
      "from parcel import ParcelModel, AerosolSpecies\n",
      "from micro import kohler_crit\n",
      "import pandas"
     ],
     "language": "python",
     "metadata": {},
     "outputs": [],
     "prompt_number": 1
    },
    {
     "cell_type": "heading",
     "level": 4,
     "metadata": {},
     "source": [
      "Set the parcel's initial environmental conditions"
     ]
    },
    {
     "cell_type": "code",
     "collapsed": false,
     "input": [
      "P0 = 95000. # Pressure, Pa\n",
      "T0 = 285.2 # Temperature, K\n",
      "S0 = -0.02 # Supersaturation. 1-RH from wv term\n",
      "V = 0.5 # m/s"
     ],
     "language": "python",
     "metadata": {},
     "outputs": [],
     "prompt_number": 2
    },
    {
     "cell_type": "heading",
     "level": 4,
     "metadata": {},
     "source": [
      "Add aerosols to the parcel"
     ]
    },
    {
     "cell_type": "code",
     "collapsed": false,
     "input": [
      "aerosol1 = AerosolSpecies('(NH4)2SO4', Lognorm(mu=0.05, sigma=2.0, N=500.),\n",
      "                          bins=200, kappa=0.6)\n",
      "aerosol2 = AerosolSpecies('NaCl', {'r_drys': [0.25, ], 'Nis': [1500.0, ]}, kappa=0.2)\n",
      "\n",
      "initial_aerosols = [aerosol1, aerosol2, ]\n",
      "\n",
      "aer_species = [a.species for a in initial_aerosols]\n",
      "aer_dict = dict()\n",
      "for aerosol in initial_aerosols:\n",
      "    aer_dict[aerosol.species] = aerosol\n",
      "\n",
      "## Plot the size distribution:\n",
      "figure(2, figsize=(12,10))\n",
      "clf()\n",
      "subplot(3,2,1)\n",
      "colors = 'bgrcmyk'\n",
      "for i, aerosol in enumerate(initial_aerosols):\n",
      "    rs, Nis = aerosol.rs, aerosol.Nis\n",
      "    bar(rs[:-1], Nis/np.diff(rs)*1e-6, diff(rs), color=colors[i], alpha=0.5)\n",
      "semilogx()\n",
      "xlabel(r'dry radius ($\\mu$m)'); ylabel(r'N ($m^{-3}$)')"
     ],
     "language": "python",
     "metadata": {},
     "outputs": [
      {
       "output_type": "pyout",
       "prompt_number": 16,
       "text": [
        "<matplotlib.text.Text at 0x10f8a30d0>"
       ]
      },
      {
       "output_type": "display_data",
       "png": "[encoded data removed]"
      }
     ],
     "prompt_number": 16
    },
    {
     "cell_type": "heading",
     "level": 4,
     "metadata": {},
     "source": [
      "Setup and run the model"
     ]
    },
    {
     "cell_type": "code",
     "collapsed": false,
     "input": [
      "z_top = 100.0 # meters\n",
      "dt = 0.01 # seconds\n",
      "\n",
      "pm = ParcelModel(initial_aerosols, V, T0, S0, P0, console=True)\n",
      "parcel, aerosols = pm.run(z_top, dt)\n",
      "\n",
      "print \"...done\""
     ],
     "language": "python",
     "metadata": {},
     "outputs": [
      {
       "output_type": "stream",
       "stream": "stdout",
       "text": [
        "AEROSOL DISTRIBUTION\n",
        "       r      N\n",
        " (NH4)2SO4 2.54e-09 834.0\n",
        " (NH4)2SO4 2.61e-09 1003.3\n",
        " (NH4)2SO4 2.69e-09 1204.7\n",
        " (NH4)2SO4 2.78e-09 1443.9\n",
        " (NH4)2SO4 2.86e-09 1727.4\n",
        " (NH4)2SO4 2.95e-09 2062.7\n",
        " (NH4)2SO4 3.04e-09 2458.4\n",
        " (NH4)2SO4 3.13e-09 2924.6\n",
        " (NH4)2SO4 3.22e-09 3472.8\n",
        " (NH4)2SO4 3.32e-09 4115.9\n",
        " (NH4)2SO4 3.42e-09 4869.1\n",
        " (NH4)2SO4 3.53e-09 5749.4\n",
        " (NH4)2SO4 3.64e-09 6776.1\n",
        " (NH4)2SO4 3.75e-09 7971.3\n",
        " (NH4)2SO4 3.86e-09 9359.9\n",
        " (NH4)2SO4 3.98e-09 10969.8\n",
        " (NH4)2SO4 4.10e-09 12832.6\n",
        " (NH4)2SO4 4.22e-09 14983.8\n",
        " (NH4)2SO4 4.35e-09 17462.9\n",
        " (NH4)2SO4 4.48e-09 20314.2\n",
        " (NH4)2SO4 4.62e-09 23587.1\n",
        " (NH4)2SO4 4.76e-09 27336.1\n",
        " (NH4)2SO4 4.91e-09 31621.9\n",
        " (NH4)2SO4 5.05e-09 36511.5\n",
        " (NH4)2SO4 5.21e-09 42078.4\n",
        " (NH4)2SO4 5.37e-09 48403.7\n",
        " (NH4)2SO4 5.53e-09 55576.0\n",
        " (NH4)2SO4 5.70e-09 63692.0\n",
        " (NH4)2SO4 5.87e-09 72857.0\n",
        " (NH4)2SO4 6.05e-09 83185.5\n",
        " (NH4)2SO4 6.23e-09 94800.9\n",
        " (NH4)2SO4 6.42e-09 107836.8\n",
        " (NH4)2SO4 6.62e-09 122436.3\n",
        " (NH4)2SO4 6.82e-09 138753.1\n",
        " (NH4)2SO4 7.03e-09 156951.1\n",
        " (NH4)2SO4 7.24e-09 177204.7\n",
        " (NH4)2SO4 7.46e-09 199698.7\n",
        " (NH4)2SO4 7.69e-09 224628.3\n",
        " (NH4)2SO4 7.92e-09 252198.7\n",
        " (NH4)2SO4 8.16e-09 282624.8\n",
        " (NH4)2SO4 8.41e-09 316130.9\n",
        " (NH4)2SO4 8.67e-09 352949.6\n",
        " (NH4)2SO4 8.93e-09 393321.5\n",
        " (NH4)2SO4 9.20e-09 437493.6\n",
        " (NH4)2SO4 9.48e-09 485718.9\n",
        " (NH4)2SO4 9.77e-09 538254.2\n",
        " (NH4)2SO4 1.01e-08 595359.1\n",
        " (NH4)2SO4 1.04e-08 657294.1\n",
        " (NH4)2SO4 1.07e-08 724318.6\n",
        " (NH4)2SO4 1.10e-08 796688.8\n",
        " (NH4)2SO4 1.13e-08 874655.3\n",
        " (NH4)2SO4 1.17e-08 958460.6\n",
        " (NH4)2SO4 1.20e-08 1048336.7\n",
        " (NH4)2SO4 1.24e-08 1144501.8\n",
        " (NH4)2SO4 1.28e-08 1247157.5\n",
        " (NH4)2SO4 1.32e-08 1356486.0\n",
        " (NH4)2SO4 1.36e-08 1472646.3\n",
        " (NH4)2SO4 1.40e-08 1595771.7\n",
        " (NH4)2SO4 1.44e-08 1725966.0\n",
        " (NH4)2SO4 1.49e-08 1863300.3\n",
        " (NH4)2SO4 1.53e-08 2007810.1\n",
        " (NH4)2SO4 1.58e-08 2159491.8\n",
        " (NH4)2SO4 1.63e-08 2318300.1\n",
        " (NH4)2SO4 1.68e-08 2484144.8\n",
        " (NH4)2SO4 1.73e-08 2656888.4\n",
        " (NH4)2SO4 1.78e-08 2836343.9\n",
        " (NH4)2SO4 1.83e-08 3022272.4\n",
        " (NH4)2SO4 1.89e-08 3214382.0\n",
        " (NH4)2SO4 1.95e-08 3412326.0\n",
        " (NH4)2SO4 2.01e-08 3615702.7\n",
        " (NH4)2SO4 2.07e-08 3824054.5\n",
        " (NH4)2SO4 2.13e-08 4036868.3\n",
        " (NH4)2SO4 2.19e-08 4253576.5\n",
        " (NH4)2SO4 2.26e-08 4473558.0\n",
        " (NH4)2SO4 2.33e-08 4696140.2\n",
        " (NH4)2SO4 2.40e-08 4920601.5\n",
        " (NH4)2SO4 2.47e-08 5146174.3\n",
        " (NH4)2SO4 2.55e-08 5372048.7\n",
        " (NH4)2SO4 2.63e-08 5597376.9\n",
        " (NH4)2SO4 2.71e-08 5821277.8\n",
        " (NH4)2SO4 2.79e-08 6042842.2\n",
        " (NH4)2SO4 2.87e-08 6261138.8\n",
        " (NH4)2SO4 2.96e-08 6475220.7\n",
        " (NH4)2SO4 3.05e-08 6684131.3\n",
        " (NH4)2SO4 3.14e-08 6886912.0\n",
        " (NH4)2SO4 3.24e-08 7082608.6\n",
        " (NH4)2SO4 3.34e-08 7270279.7\n",
        " (NH4)2SO4 3.44e-08 7449002.9\n",
        " (NH4)2SO4 3.54e-08 7617883.6\n",
        " (NH4)2SO4 3.65e-08 7776061.3\n",
        " (NH4)2SO4 3.76e-08 7922717.6\n",
        " (NH4)2SO4 3.88e-08 8057082.9\n",
        " (NH4)2SO4 3.99e-08 8178443.4\n",
        " (NH4)2SO4 4.12e-08 8286146.8\n",
        " (NH4)2SO4 4.24e-08 8379609.0\n",
        " (NH4)2SO4 4.37e-08 8458318.7\n",
        " (NH4)2SO4 4.50e-08 8521842.2\n",
        " (NH4)2SO4 4.64e-08 8569827.7\n",
        " (NH4)2SO4 4.78e-08 8602008.2\n",
        " (NH4)2SO4 4.93e-08 8618204.0\n",
        " (NH4)2SO4 5.08e-08 8618324.5\n",
        " (NH4)2SO4 5.23e-08 8602369.2\n",
        " (NH4)2SO4 5.39e-08 8570427.1\n",
        " (NH4)2SO4 5.55e-08 8522676.7\n",
        " (NH4)2SO4 5.72e-08 8459383.6\n",
        " (NH4)2SO4 5.90e-08 8380898.5\n",
        " (NH4)2SO4 6.07e-08 8287653.7\n",
        " (NH4)2SO4 6.26e-08 8180159.6\n",
        " (NH4)2SO4 6.45e-08 8058999.1\n",
        " (NH4)2SO4 6.65e-08 7924823.5\n",
        " (NH4)2SO4 6.85e-08 7778345.8\n",
        " (NH4)2SO4 7.06e-08 7620334.8\n",
        " (NH4)2SO4 7.27e-08 7451608.2\n",
        " (NH4)2SO4 7.49e-08 7273025.9\n",
        " (NH4)2SO4 7.72e-08 7085482.2\n",
        " (NH4)2SO4 7.95e-08 6889898.8\n",
        " (NH4)2SO4 8.20e-08 6687217.3\n",
        " (NH4)2SO4 8.45e-08 6478391.4\n",
        " (NH4)2SO4 8.70e-08 6264379.9\n",
        " (NH4)2SO4 8.97e-08 6046139.3\n",
        " (NH4)2SO4 9.24e-08 5824617.0\n",
        " (NH4)2SO4 9.52e-08 5600744.3\n",
        " (NH4)2SO4 9.81e-08 5375430.9\n",
        " (NH4)2SO4 1.01e-07 5149558.2\n",
        " (NH4)2SO4 1.04e-07 4923974.8\n",
        " (NH4)2SO4 1.07e-07 4699491.0\n",
        " (NH4)2SO4 1.11e-07 4476875.1\n",
        " (NH4)2SO4 1.14e-07 4256849.5\n",
        " (NH4)2SO4 1.17e-07 4040087.5\n",
        " (NH4)2SO4 1.21e-07 3827211.0\n",
        " (NH4)2SO4 1.25e-07 3618788.4\n",
        " (NH4)2SO4 1.28e-07 3415333.7\n",
        " (NH4)2SO4 1.32e-07 3217305.1\n",
        " (NH4)2SO4 1.36e-07 3025105.3\n",
        " (NH4)2SO4 1.41e-07 2839081.9\n",
        " (NH4)2SO4 1.45e-07 2659527.5\n",
        " (NH4)2SO4 1.49e-07 2486681.8\n",
        " (NH4)2SO4 1.54e-07 2320732.6\n",
        " (NH4)2SO4 1.58e-07 2161818.1\n",
        " (NH4)2SO4 1.63e-07 2010029.1\n",
        " (NH4)2SO4 1.68e-07 1865411.7\n",
        " (NH4)2SO4 1.73e-07 1727970.0\n",
        " (NH4)2SO4 1.79e-07 1597669.2\n",
        " (NH4)2SO4 1.84e-07 1474438.6\n",
        " (NH4)2SO4 1.90e-07 1358174.8\n",
        " (NH4)2SO4 1.95e-07 1248745.1\n",
        " (NH4)2SO4 2.01e-07 1145990.7\n",
        " (NH4)2SO4 2.07e-07 1049729.8\n",
        " (NH4)2SO4 2.14e-07 959761.1\n",
        " (NH4)2SO4 2.20e-07 875866.5\n",
        " (NH4)2SO4 2.27e-07 797814.3\n",
        " (NH4)2SO4 2.34e-07 725362.2\n",
        " (NH4)2SO4 2.41e-07 658259.5\n",
        " (NH4)2SO4 2.48e-07 596250.2\n",
        " (NH4)2SO4 2.56e-07 539074.8\n",
        " (NH4)2SO4 2.64e-07 486473.0\n",
        " (NH4)2SO4 2.72e-07 438185.1\n",
        " (NH4)2SO4 2.80e-07 393954.1\n",
        " (NH4)2SO4 2.88e-07 353527.1\n",
        " (NH4)2SO4 2.97e-07 316657.0\n",
        " (NH4)2SO4 3.06e-07 283103.1\n",
        " (NH4)2SO4 3.16e-07 252632.5\n",
        " (NH4)2SO4 3.25e-07 225021.0\n",
        " (NH4)2SO4 3.35e-07 200053.4\n",
        " (NH4)2SO4 3.45e-07 177524.4\n",
        " (NH4)2SO4 3.56e-07 157238.6\n",
        " (NH4)2SO4 3.67e-07 139011.2\n",
        " (NH4)2SO4 3.78e-07 122667.4\n",
        " (NH4)2SO4 3.89e-07 108043.3\n",
        " (NH4)2SO4 4.01e-07 94985.2\n",
        " (NH4)2SO4 4.13e-07 83349.5\n",
        " (NH4)2SO4 4.26e-07 73002.7\n",
        " (NH4)2SO4 4.39e-07 63821.1\n",
        " (NH4)2SO4 4.52e-07 55690.2\n",
        " (NH4)2SO4 4.66e-07 48504.6\n",
        " (NH4)2SO4 4.80e-07 42167.3\n",
        " (NH4)2SO4 4.95e-07 36589.6\n",
        " (NH4)2SO4 5.10e-07 31690.4\n",
        " (NH4)2SO4 5.25e-07 27396.1\n",
        " (NH4)2SO4 5.41e-07 23639.5\n",
        " (NH4)2SO4 5.58e-07 20359.9\n",
        " (NH4)2SO4 5.75e-07 17502.7\n",
        " (NH4)2SO4 5.92e-07 15018.3\n",
        " (NH4)2SO4 6.10e-07 12862.6\n",
        " (NH4)2SO4 6.29e-07 10995.7\n",
        " (NH4)2SO4 6.48e-07 9382.2\n",
        " (NH4)2SO4 6.67e-07 7990.6\n",
        " (NH4)2SO4 6.88e-07 6792.7\n",
        " (NH4)2SO4 7.09e-07 5763.6\n",
        " (NH4)2SO4 7.30e-07 4881.3\n",
        " (NH4)2SO4 7.52e-07 4126.3\n",
        " (NH4)2SO4 7.75e-07 3481.7\n",
        " (NH4)2SO4 7.99e-07 2932.2\n",
        " (NH4)2SO4 8.23e-07 2464.9\n",
        " (NH4)2SO4 8.48e-07 2068.1\n",
        " (NH4)2SO4 8.74e-07 1732.0\n",
        " (NH4)2SO4 9.00e-07 1447.8\n",
        " (NH4)2SO4 9.28e-07 1208.0\n",
        " (NH4)2SO4 9.56e-07 1006.0\n",
        " (NH4)2SO4 9.85e-07 836.3\n",
        "      NaCl 2.50e-07 1500000000.0\n",
        "\n",
        "--------------------------------------------\n",
        "calculating seeds for equilibrium solver...\n",
        " done"
       ]
      },
      {
       "output_type": "stream",
       "stream": "stdout",
       "text": [
        "\n",
        "PARCEL INITIAL CONDITIONS"
       ]
      },
      {
       "output_type": "stream",
       "stream": "stdout",
       "text": [
        "\n",
        "     P (hPa)    T (K)       wv       wc        S\n",
        "      950.0   285.20  9.5e-03   9.3e-07   -0.02\n",
        "\n",
        "n_steps = 20001\n",
        "\n",
        "Integration successful."
       ]
      },
      {
       "output_type": "stream",
       "stream": "stdout",
       "text": [
        "\n",
        "...done"
       ]
      },
      {
       "output_type": "stream",
       "stream": "stdout",
       "text": [
        "\n"
       ]
      }
     ],
     "prompt_number": 17
    },
    {
     "cell_type": "code",
     "collapsed": false,
     "input": [
      "parcel['S'].plot()"
     ],
     "language": "python",
     "metadata": {},
     "outputs": [
      {
       "output_type": "pyout",
       "prompt_number": 18,
       "text": [
        "<matplotlib.axes.AxesSubplot at 0x107f9cb90>"
       ]
      },
      {
       "output_type": "display_data",
       "png": "[encoded data removed]"
      }
     ],
     "prompt_number": 18
    },
    {
     "cell_type": "heading",
     "level": 3,
     "metadata": {},
     "source": [
      "Activation analysis"
     ]
    },
    {
     "cell_type": "code",
     "collapsed": false,
     "input": [
      "xs = np.arange(501)\n",
      "parcel = parcel.ix[parcel.index % 1 == 0]\n",
      "aero_subset = {}\n",
      "for key in aerosols:\n",
      "    aerosol = aerosols[key]\n",
      "    subset = aerosol.ix[aerosol.index % 1 == 0]\n",
      "    aero_subset[key] = subset\n",
      "aerosols2 = aero_subset\n",
      "\n",
      "for species in aer_species:\n",
      "\n",
      "    print species\n",
      "    aerosol = aerosols2[species]\n",
      "    aer_meta = aer_dict[species]\n",
      "    Nis = aer_meta.Nis\n",
      "\n",
      "    Neq = []\n",
      "    Nkn = []\n",
      "    Nunact = []\n",
      "    S_max = S0\n",
      "\n",
      "    for S, T, i in zip(parcel.S, parcel['T'], xrange(len(parcel.S))):\n",
      "\n",
      "        r_crits, s_crits = zip(*[kohler_crit(T, r_dry, aer_meta.kappa) for r_dry in aer_meta.r_drys])\n",
      "        s_crits = np.array(s_crits)\n",
      "        r_crits = np.array(r_crits)\n",
      "        if S > S_max: S_max = S\n",
      "\n",
      "        big_s =  S_max >= s_crits\n",
      "        Neq.append(np.sum(Nis[big_s]))\n",
      "\n",
      "        rstep = np.array(aerosol.ix[i])\n",
      "        #active_radii = (S > s_crits) | (rstep > r_crits)\n",
      "        active_radii = (rstep > r_crits)\n",
      "        #sar = np.min(active_radii) if len(active_radii) > 0 else 1e99\n",
      "        if len(active_radii) > 0:\n",
      "            Nkn.append(np.sum(Nis[active_radii]))\n",
      "            Nunact.append(np.sum(Nis[(rstep < r_crits)]))\n",
      "        else:\n",
      "            Nkn.append(0.0)\n",
      "            Nunact.append(np.sum(Nis))\n",
      "\n",
      "        print parcel.index[i], Neq[i], Nkn[i], Nunact[i], S_max, S\n",
      "\n",
      "    Neq = np.array(Neq)\n",
      "    Nkn = np.array(Nkn)\n",
      "    Nunact = np.array(Nunact)\n",
      "\n",
      "    parcel[species+'_Neq'] = Neq\n",
      "    parcel[species+'_Nkn'] = Nkn\n",
      "    parcel[species+'_Nunact'] = Nunact\n",
      "\n",
      "    alphaz = Nkn/Neq\n",
      "    alphaz[isnan(alphaz)] = 0.\n",
      "    phiz = Nunact/Nkn\n",
      "    phiz[phiz == inf] = 1.\n",
      "\n",
      "    parcel[species+'_alpha'] = alphaz\n",
      "    parcel[species+'_phi'] = phiz\n",
      "\n",
      "    figure(2)\n",
      "    ax = subplot(3,2,5)\n",
      "    parcel[[species+'_Neq', species+'_Nkn']].plot(ax=ax, grid=True)\n",
      "    xlabel(\"Height\")\n",
      "\n",
      "    subplot(3,2,6)\n",
      "    parcel[species+'_alpha'].plot()\n",
      "    parcel[species+'_phi'].plot()\n",
      "    ylim(0, 1)\n",
      "    xlabel(\"Height\"); ylabel(r'$\\alpha(z),\\quad\\phi(z)$')\n",
      "    print alphaz[-1]\n",
      "\n",
      "    print \"==\"*35\n",
      "    print species + \" Summary - \"\n",
      "    print \"Max activated fraction\"\n",
      "    print \"   Eq: \", Neq.max()/np.sum(aer_meta.Nis)\n",
      "    print \"  Kin: \", Nkn.max()/np.sum(aer_meta.Nis)\n",
      "    print \"\"\n",
      "    print \"Alpha maximum: %2.2f\" % alphaz.max()\n",
      "    print \"  Phi maximum: %2.2f\" % phiz.max()\n",
      "    print \"==\"*35"
     ],
     "language": "python",
     "metadata": {},
     "outputs": [
      {
       "output_type": "stream",
       "stream": "stdout",
       "text": [
        "(NH4)2SO4\n",
        "0.0"
       ]
      },
      {
       "output_type": "stream",
       "stream": "stdout",
       "text": [
        " 0.0 0.0 500067031.807 -0.02 -0.02\n",
        "1.0"
       ]
      },
      {
       "output_type": "stream",
       "stream": "stdout",
       "text": [
        " 0.0 0.0 500067031.807 -0.018874304853 -0.018874304853\n",
        "2.0"
       ]
      },
      {
       "output_type": "stream",
       "stream": "stdout",
       "text": [
        " 0.0 0.0 500067031.807 -0.0177489995859 -0.0177489995859\n",
        "3.0"
       ]
      },
      {
       "output_type": "stream",
       "stream": "stdout",
       "text": [
        " 0.0 0.0 500067031.807 -0.0166239788005 -0.0166239788005\n",
        "4.0"
       ]
      },
      {
       "output_type": "stream",
       "stream": "stdout",
       "text": [
        " 0.0 0.0 500067031.807 -0.0154995711011 -0.0154995711011\n",
        "5.0"
       ]
      },
      {
       "output_type": "stream",
       "stream": "stdout",
       "text": [
        " 0.0 0.0 500067031.807 -0.0143761979422 -0.0143761979422\n",
        "6.0"
       ]
      },
      {
       "output_type": "stream",
       "stream": "stdout",
       "text": [
        " 0.0 0.0 500067031.807 -0.0132544048422 -0.0132544048422\n",
        "7.0"
       ]
      },
      {
       "output_type": "stream",
       "stream": "stdout",
       "text": [
        " 0.0 0.0 500067031.807 -0.0121349082905 -0.0121349082905\n",
        "8.0"
       ]
      },
      {
       "output_type": "stream",
       "stream": "stdout",
       "text": [
        " 0.0 0.0 500067031.807 -0.0110186649674 -0.0110186649674\n",
        "9.0"
       ]
      },
      {
       "output_type": "stream",
       "stream": "stdout",
       "text": [
        " 0.0 0.0 500067031.807 -0.00990697547059 -0.00990697547059\n",
        "10.0"
       ]
      },
      {
       "output_type": "stream",
       "stream": "stdout",
       "text": [
        " 0.0 0.0 500067031.807 -0.00880164247856 -0.00880164247856\n",
        "11.0"
       ]
      },
      {
       "output_type": "stream",
       "stream": "stdout",
       "text": [
        " 0.0 0.0 500067031.807 -0.00770521567119 -0.00770521567119\n",
        "12.0"
       ]
      },
      {
       "output_type": "stream",
       "stream": "stdout",
       "text": [
        " 0.0 0.0 500067031.807 -0.00662137481679 -0.00662137481679\n",
        "13.0"
       ]
      },
      {
       "output_type": "stream",
       "stream": "stdout",
       "text": [
        " 0.0 0.0 500067031.807 -0.0055555281629 -0.0055555281629\n",
        "14.0"
       ]
      },
      {
       "output_type": "stream",
       "stream": "stdout",
       "text": [
        " 0.0 0.0 500067031.807 -0.00451572470313 -0.00451572470313\n",
        "15.0"
       ]
      },
      {
       "output_type": "stream",
       "stream": "stdout",
       "text": [
        " 0.0 0.0 500067031.807 -0.00351394848307 -0.00351394848307\n",
        "16.0"
       ]
      },
      {
       "output_type": "stream",
       "stream": "stdout",
       "text": [
        " 0.0 0.0 500067031.807 -0.00256764428266 -0.00256764428266\n",
        "17.0"
       ]
      },
      {
       "output_type": "stream",
       "stream": "stdout",
       "text": [
        " 0.0 0.0 500067031.807 -0.00170066904447 -0.00170066904447\n",
        "18.0"
       ]
      },
      {
       "output_type": "stream",
       "stream": "stdout",
       "text": [
        " 0.0 0.0 500067031.807 -0.000941727410464 -0.000941727410464\n",
        "19.0"
       ]
      },
      {
       "output_type": "stream",
       "stream": "stdout",
       "text": [
        " 0.0 0.0 500067031.807 -0.000317933047537 -0.000317933047537\n",
        "20.0"
       ]
      },
      {
       "output_type": "stream",
       "stream": "stdout",
       "text": [
        " 5503105.22622 0.0 500067031.807 0.000155862446306 0.000155862446306\n",
        "21.0"
       ]
      },
      {
       "output_type": "stream",
       "stream": "stdout",
       "text": [
        " 56610000.6293 0.0 500067031.807 0.000485368199704 0.000485368199704\n",
        "22.0"
       ]
      },
      {
       "output_type": "stream",
       "stream": "stdout",
       "text": [
        " 96917541.3934 0.0 500067031.807 0.000695266453979 0.000695266453979\n",
        "23.0"
       ]
      },
      {
       "output_type": "stream",
       "stream": "stdout",
       "text": [
        " 122393669.367 0.0 500067031.807 0.000818694995952 0.000818694995952\n",
        "24.0"
       ]
      },
      {
       "output_type": "stream",
       "stream": "stdout",
       "text": [
        " 136369050.388 0.0 500067031.807 0.000886213159852 0.000886213159852\n",
        "25.0"
       ]
      },
      {
       "output_type": "stream",
       "stream": "stdout",
       "text": [
        " 143642076.287 0.0 500067031.807 0.000920336993512 0.000920336993512\n",
        "26.0"
       ]
      },
      {
       "output_type": "stream",
       "stream": "stdout",
       "text": [
        " 143642076.287 0.0 500067031.807 0.000935409220837 0.000935409220837\n",
        "27.0"
       ]
      },
      {
       "output_type": "stream",
       "stream": "stdout",
       "text": [
        " 143642076.287 0.0 500067031.807 0.000939794170644 0.000939794170644\n",
        "28.0"
       ]
      },
      {
       "output_type": "stream",
       "stream": "stdout",
       "text": [
        " 143642076.287 0.0 500067031.807 0.000939794170644 0.000938166882998\n",
        "29.0"
       ]
      },
      {
       "output_type": "stream",
       "stream": "stdout",
       "text": [
        " 143642076.287 0.0 500067031.807 0.000939794170644 0.000933122380393\n",
        "30.0"
       ]
      },
      {
       "output_type": "stream",
       "stream": "stdout",
       "text": [
        " 143642076.287 22846931.4726 477220100.334 0.000939794170644 0.000926125891418\n",
        "31.0"
       ]
      },
      {
       "output_type": "stream",
       "stream": "stdout",
       "text": [
        " 143642076.287 54839601.8963 445227429.91 0.000939794170644 0.000918028996093\n",
        "32.0"
       ]
      },
      {
       "output_type": "stream",
       "stream": "stdout",
       "text": [
        " 143642076.287 69823756.2726 430243275.534 0.000939794170644 0.000909342067908\n",
        "33.0"
       ]
      },
      {
       "output_type": "stream",
       "stream": "stdout",
       "text": [
        " 143642076.287 73650967.273 426416064.534 0.000939794170644 0.000900379117665\n",
        "34.0"
       ]
      },
      {
       "output_type": "stream",
       "stream": "stdout",
       "text": [
        " 143642076.287 80685089.3808 419381942.426 0.000939794170644 0.000891337001682\n",
        "35.0"
       ]
      },
      {
       "output_type": "stream",
       "stream": "stdout",
       "text": [
        " 143642076.287 90792293.2609 409274738.546 0.000939794170644 0.000882340370238\n",
        "36.0"
       ]
      },
      {
       "output_type": "stream",
       "stream": "stdout",
       "text": [
        " 143642076.287 93817398.5792 406249633.227 0.000939794170644 0.000873468150098\n",
        "37.0"
       ]
      },
      {
       "output_type": "stream",
       "stream": "stdout",
       "text": [
        " 143642076.287 96656480.4337 403410551.373 0.000939794170644 0.000864769685037\n",
        "38.0"
       ]
      },
      {
       "output_type": "stream",
       "stream": "stdout",
       "text": [
        " 143642076.287 96656480.4337 403410551.373 0.000939794170644 0.000856274862427\n",
        "39.0"
       ]
      },
      {
       "output_type": "stream",
       "stream": "stdout",
       "text": [
        " 143642076.287 99316007.9343 400751023.872 0.000939794170644 0.000848000622833\n",
        "40.0"
       ]
      },
      {
       "output_type": "stream",
       "stream": "stdout",
       "text": [
        " 143642076.287 101802689.722 398264342.085 0.000939794170644 0.000839955229958\n",
        "41.0"
       ]
      },
      {
       "output_type": "stream",
       "stream": "stdout",
       "text": [
        " 143642076.287 101802689.722 398264342.085 0.000939794170644 0.000832141118816\n",
        "42.0"
       ]
      },
      {
       "output_type": "stream",
       "stream": "stdout",
       "text": [
        " 143642076.287 104123422.296 395943609.511 0.000939794170644 0.000824556821807\n",
        "43.0"
       ]
      },
      {
       "output_type": "stream",
       "stream": "stdout",
       "text": [
        " 143642076.287 106285240.349 393781791.458 0.000939794170644 0.000817198285467\n",
        "44.0"
       ]
      },
      {
       "output_type": "stream",
       "stream": "stdout",
       "text": [
        " 143642076.287 106285240.349 393781791.458 0.000939794170644 0.00081005977805\n",
        "45.0"
       ]
      },
      {
       "output_type": "stream",
       "stream": "stdout",
       "text": [
        " 143642076.287 108295269.411 391771762.396 0.000939794170644 0.000803134518831\n",
        "46.0"
       ]
      },
      {
       "output_type": "stream",
       "stream": "stdout",
       "text": [
        " 143642076.287 101405370.582 398661661.224 0.000939794170644 0.000796415116575\n",
        "47.0"
       ]
      },
      {
       "output_type": "stream",
       "stream": "stdout",
       "text": [
        " 143642076.287 101405370.582 398661661.224 0.000939794170644 0.000789893876166\n",
        "48.0"
       ]
      },
      {
       "output_type": "stream",
       "stream": "stdout",
       "text": [
        " 143642076.287 103270782.258 396796249.548 0.000939794170644 0.000783563012546\n",
        "49.0"
       ]
      },
      {
       "output_type": "stream",
       "stream": "stdout",
       "text": [
        " 143642076.287 103270782.258 396796249.548 0.000939794170644 0.000777414797311\n",
        "50.0"
       ]
      },
      {
       "output_type": "stream",
       "stream": "stdout",
       "text": [
        " 143642076.287 104998752.27 395068279.537 0.000939794170644 0.000771441654692\n",
        "51.0"
       ]
      },
      {
       "output_type": "stream",
       "stream": "stdout",
       "text": [
        " 143642076.287 104998752.27 395068279.537 0.000939794170644 0.000765636220139\n",
        "52.0"
       ]
      },
      {
       "output_type": "stream",
       "stream": "stdout",
       "text": [
        " 143642076.287 104998752.27 395068279.537 0.000939794170644 0.00075999137399\n",
        "53.0"
       ]
      },
      {
       "output_type": "stream",
       "stream": "stdout",
       "text": [
        " 143642076.287 106596421.488 393470610.318 0.000939794170644 0.000754500262372\n",
        "54.0"
       ]
      },
      {
       "output_type": "stream",
       "stream": "stdout",
       "text": [
        " 143642076.287 106596421.488 393470610.318 0.000939794170644 0.000749156314884\n",
        "55.0"
       ]
      },
      {
       "output_type": "stream",
       "stream": "stdout",
       "text": [
        " 143642076.287 106596421.488 393470610.318 0.000939794170644 0.000743953263294\n",
        "56.0"
       ]
      },
      {
       "output_type": "stream",
       "stream": "stdout",
       "text": [
        " 143642076.287 108070860.085 391996171.722 0.000939794170644 0.000738885159368\n",
        "57.0"
       ]
      },
      {
       "output_type": "stream",
       "stream": "stdout",
       "text": [
        " 143642076.287 108070860.085 391996171.722 0.000939794170644 0.000733946385424\n",
        "58.0"
       ]
      },
      {
       "output_type": "stream",
       "stream": "stdout",
       "text": [
        " 143642076.287 108070860.085 391996171.722 0.000939794170644 0.000729131650197\n",
        "59.0"
       ]
      },
      {
       "output_type": "stream",
       "stream": "stdout",
       "text": [
        " 143642076.287 109429034.891 390637996.915 0.000939794170644 0.000724435965916\n",
        "60.0"
       ]
      },
      {
       "output_type": "stream",
       "stream": "stdout",
       "text": [
        " 143642076.287 109429034.891 390637996.915 0.000939794170644 0.000719854608666\n",
        "61.0"
       ]
      },
      {
       "output_type": "stream",
       "stream": "stdout",
       "text": [
        " 143642076.287 109429034.891 390637996.915 0.000939794170644 0.00071538307072\n",
        "62.0"
       ]
      },
      {
       "output_type": "stream",
       "stream": "stdout",
       "text": [
        " 143642076.287 109429034.891 390637996.915 0.000939794170644 0.000711017016871\n",
        "63.0"
       ]
      },
      {
       "output_type": "stream",
       "stream": "stdout",
       "text": [
        " 143642076.287 103990562.716 396076469.091 0.000939794170644 0.000706752255174\n",
        "64.0"
       ]
      },
      {
       "output_type": "stream",
       "stream": "stdout",
       "text": [
        " 143642076.287 103990562.716 396076469.091 0.000939794170644 0.000702584726821\n",
        "65.0"
       ]
      },
      {
       "output_type": "stream",
       "stream": "stdout",
       "text": [
        " 143642076.287 103990562.716 396076469.091 0.000939794170644 0.000698510513699\n",
        "66.0"
       ]
      },
      {
       "output_type": "stream",
       "stream": "stdout",
       "text": [
        " 143642076.287 103990562.716 396076469.091 0.000939794170644 0.000694525858449\n",
        "67.0"
       ]
      },
      {
       "output_type": "stream",
       "stream": "stdout",
       "text": [
        " 143642076.287 103990562.716 396076469.091 0.000939794170644 0.000690627191317\n",
        "68.0"
       ]
      },
      {
       "output_type": "stream",
       "stream": "stdout",
       "text": [
        " 143642076.287 105136553.427 394930478.379 0.000939794170644 0.000686811159201\n",
        "69.0"
       ]
      },
      {
       "output_type": "stream",
       "stream": "stdout",
       "text": [
        " 143642076.287 105136553.427 394930478.379 0.000939794170644 0.000683074652854\n",
        "70.0"
       ]
      },
      {
       "output_type": "stream",
       "stream": "stdout",
       "text": [
        " 143642076.287 105136553.427 394930478.379 0.000939794170644 0.000679414827073\n",
        "71.0"
       ]
      },
      {
       "output_type": "stream",
       "stream": "stdout",
       "text": [
        " 143642076.287 105136553.427 394930478.379 0.000939794170644 0.000675829106421\n",
        "72.0"
       ]
      },
      {
       "output_type": "stream",
       "stream": "stdout",
       "text": [
        " 143642076.287 105136553.427 394930478.379 0.000939794170644 0.000672315168023\n",
        "73.0"
       ]
      },
      {
       "output_type": "stream",
       "stream": "stdout",
       "text": [
        " 143642076.287 106186283.274 393880748.533 0.000939794170644 0.000668870896557\n",
        "74.0"
       ]
      },
      {
       "output_type": "stream",
       "stream": "stdout",
       "text": [
        " 143642076.287 106186283.274 393880748.533 0.000939794170644 0.000665494315732\n",
        "75.0"
       ]
      },
      {
       "output_type": "stream",
       "stream": "stdout",
       "text": [
        " 143642076.287 106186283.274 393880748.533 0.000939794170644 0.000662183511818\n",
        "76.0"
       ]
      },
      {
       "output_type": "stream",
       "stream": "stdout",
       "text": [
        " 143642076.287 106186283.274 393880748.533 0.000939794170644 0.000658936570605\n",
        "77.0"
       ]
      },
      {
       "output_type": "stream",
       "stream": "stdout",
       "text": [
        " 143642076.287 106186283.274 393880748.533 0.000939794170644 0.000655751544162\n",
        "78.0"
       ]
      },
      {
       "output_type": "stream",
       "stream": "stdout",
       "text": [
        " 143642076.287 107146044.387 392920987.419 0.000939794170644 0.000652626450587\n",
        "79.0"
       ]
      },
      {
       "output_type": "stream",
       "stream": "stdout",
       "text": [
        " 143642076.287 107146044.387 392920987.419 0.000939794170644 0.00064955929731\n",
        "80.0"
       ]
      },
      {
       "output_type": "stream",
       "stream": "stdout",
       "text": [
        " 143642076.287 107146044.387 392920987.419 0.000939794170644 0.000646548113221\n",
        "81.0"
       ]
      },
      {
       "output_type": "stream",
       "stream": "stdout",
       "text": [
        " 143642076.287 107146044.387 392920987.419 0.000939794170644 0.000643590977443\n",
        "82.0"
       ]
      },
      {
       "output_type": "stream",
       "stream": "stdout",
       "text": [
        " 143642076.287 107146044.387 392920987.419 0.000939794170644 0.000640686038537\n",
        "83.0"
       ]
      },
      {
       "output_type": "stream",
       "stream": "stdout",
       "text": [
        " 143642076.287 107146044.387 392920987.419 0.000939794170644 0.000637831523293\n",
        "84.0"
       ]
      },
      {
       "output_type": "stream",
       "stream": "stdout",
       "text": [
        " 143642076.287 107146044.387 392920987.419 0.000939794170644 0.000635025737187\n",
        "85.0"
       ]
      },
      {
       "output_type": "stream",
       "stream": "stdout",
       "text": [
        " 143642076.287 108021910.875 392045120.932 0.000939794170644 0.00063226705939\n",
        "86.0"
       ]
      },
      {
       "output_type": "stream",
       "stream": "stdout",
       "text": [
        " 143642076.287 108021910.875 392045120.932 0.000939794170644 0.000629553934897\n",
        "87.0"
       ]
      },
      {
       "output_type": "stream",
       "stream": "stdout",
       "text": [
        " 143642076.287 108021910.875 392045120.932 0.000939794170644 0.000626884865644\n",
        "88.0"
       ]
      },
      {
       "output_type": "stream",
       "stream": "stdout",
       "text": [
        " 143642076.287 108021910.875 392045120.932 0.000939794170644 0.000624258401998\n",
        "89.0"
       ]
      },
      {
       "output_type": "stream",
       "stream": "stdout",
       "text": [
        " 143642076.287 108021910.875 392045120.932 0.000939794170644 0.000621673135711\n",
        "90.0"
       ]
      },
      {
       "output_type": "stream",
       "stream": "stdout",
       "text": [
        " 143642076.287 108021910.875 392045120.932 0.000939794170644 0.000619127695604\n",
        "91.0"
       ]
      },
      {
       "output_type": "stream",
       "stream": "stdout",
       "text": [
        " 143642076.287 101543519.46 398523512.347 0.000939794170644 0.000616620747681\n",
        "92.0"
       ]
      },
      {
       "output_type": "stream",
       "stream": "stdout",
       "text": [
        " 143642076.287 102341333.777 397725698.029 0.000939794170644 0.000614151002037\n",
        "93.0"
       ]
      },
      {
       "output_type": "stream",
       "stream": "stdout",
       "text": [
        " 143642076.287 102341333.777 397725698.029 0.000939794170644 0.000611717229631\n",
        "94.0"
       ]
      },
      {
       "output_type": "stream",
       "stream": "stdout",
       "text": [
        " 143642076.287 102341333.777 397725698.029 0.000939794170644 0.000609318291908\n",
        "95.0"
       ]
      },
      {
       "output_type": "stream",
       "stream": "stdout",
       "text": [
        " 143642076.287 102341333.777 397725698.029 0.000939794170644 0.000606953184209\n",
        "96.0"
       ]
      },
      {
       "output_type": "stream",
       "stream": "stdout",
       "text": [
        " 143642076.287 102341333.777 397725698.029 0.000939794170644 0.000604621088196\n",
        "97.0"
       ]
      },
      {
       "output_type": "stream",
       "stream": "stdout",
       "text": [
        " 143642076.287 102341333.777 397725698.029 0.000939794170644 0.000602321418456\n",
        "98.0"
       ]
      },
      {
       "output_type": "stream",
       "stream": "stdout",
       "text": [
        " 143642076.287 102341333.777 397725698.029 0.000939794170644 0.000600053837287\n",
        "99.0"
       ]
      },
      {
       "output_type": "stream",
       "stream": "stdout",
       "text": [
        " 143642076.287 102341333.777 397725698.029 0.000939794170644 0.000597818209732\n",
        "100.0"
       ]
      },
      {
       "output_type": "stream",
       "stream": "stdout",
       "text": [
        " 143642076.287 103066695.94 397000335.866 0.000939794170644 0.00059561449027\n",
        "0.717524409312"
       ]
      },
      {
       "output_type": "stream",
       "stream": "stdout",
       "text": [
        "\n",
        "======================================================================\n",
        "(NH4)2SO4 Summary - \n",
        "Max activated fraction\n",
        "   Eq:  0.287245643385\n",
        "  Kin:  0.218828732812\n",
        "\n",
        "Alpha maximum: 0.76\n",
        "  Phi maximum: 20.89\n",
        "======================================================================\n",
        "NaCl\n",
        "0.0 0.0 0.0 1500000000.0 -0.02 -0.02\n",
        "1.0 0.0 0.0 1500000000.0 -0.018874304853 -0.018874304853\n",
        "2.0 0.0 0.0 1500000000.0 -0.0177489995859 -0.0177489995859\n",
        "3.0 0.0 0.0 1500000000.0 -0.0166239788005 -0.0166239788005\n",
        "4.0 0.0 0.0 1500000000.0 -0.0154995711011 -0.0154995711011\n",
        "5.0 0.0 0.0 1500000000.0 -0.0143761979422 -0.0143761979422\n",
        "6.0 0.0 0.0 1500000000.0 -0.0132544048422 -0.0132544048422\n",
        "7.0 0.0 0.0 1500000000.0 -0.0121349082905 -0.0121349082905\n",
        "8.0 0.0 0.0 1500000000.0 -0.0110186649674 -0.0110186649674\n",
        "9.0 0.0 0.0 1500000000.0 -0.00990697547059 -0.00990697547059\n",
        "10.0 0.0 0.0 1500000000.0 -0.00880164247856 -0.00880164247856\n",
        "11.0 0.0 0.0 1500000000.0 -0.00770521567119 -0.00770521567119\n",
        "12.0 0.0 0.0 1500000000.0 -0.00662137481679 -0.00662137481679\n",
        "13.0 0.0 0.0 1500000000.0 -0.0055555281629 -0.0055555281629\n",
        "14.0 0.0 0.0 1500000000.0 -0.00451572470313 -0.00451572470313\n",
        "15.0 0.0 0.0 1500000000.0 -0.00351394848307 -0.00351394848307\n",
        "16.0 0.0 0.0 1500000000.0 -0.00256764428266 -0.00256764428266\n",
        "17.0 0.0 0.0 1500000000.0 -0.00170066904447 -0.00170066904447\n",
        "18.0 0.0 0.0 1500000000.0 -0.000941727410464 -0.000941727410464\n",
        "19.0 0.0 0.0 1500000000.0 -0.000317933047537 -0.000317933047537\n",
        "20.0 0.0 0.0 1500000000.0 0.000155862446306 0.000155862446306\n",
        "21.0 1500000000.0 0.0 1500000000.0 0.000485368199704 0.000485368199704\n",
        "22.0"
       ]
      },
      {
       "output_type": "stream",
       "stream": "stdout",
       "text": [
        " 1500000000.0 0.0 1500000000.0 0.000695266453979 0.000695266453979\n",
        "23.0 1500000000.0 0.0 1500000000.0 0.000818694995952 0.000818694995952\n",
        "24.0 1500000000.0 0.0 1500000000.0 0.000886213159852 0.000886213159852\n",
        "25.0 1500000000.0 0.0 1500000000.0 0.000920336993512 0.000920336993512\n",
        "26.0 1500000000.0 0.0 1500000000.0 0.000935409220837 0.000935409220837\n",
        "27.0 1500000000.0 0.0 1500000000.0 0.000939794170644 0.000939794170644\n",
        "28.0 1500000000.0 0.0 1500000000.0 0.000939794170644 0.000938166882998\n",
        "29.0 1500000000.0 0.0 1500000000.0 0.000939794170644 0.000933122380393\n",
        "30.0 1500000000.0 0.0 1500000000.0 0.000939794170644 0.000926125891418\n",
        "31.0 1500000000.0 0.0 1500000000.0 0.000939794170644 0.000918028996093\n",
        "32.0 1500000000.0 0.0 1500000000.0 0.000939794170644 0.000909342067908\n",
        "33.0 1500000000.0 0.0 1500000000.0 0.000939794170644 0.000900379117665\n",
        "34.0 1500000000.0 0.0 1500000000.0 0.000939794170644 0.000891337001682\n",
        "35.0 1500000000.0 0.0 1500000000.0 0.000939794170644 0.000882340370238\n",
        "36.0 1500000000.0 0.0 1500000000.0 0.000939794170644 0.000873468150098\n",
        "37.0 1500000000.0 0.0 1500000000.0 0.000939794170644 0.000864769685037\n",
        "38.0 1500000000.0 0.0 1500000000.0 0.000939794170644 0.000856274862427\n",
        "39.0 1500000000.0 0.0 1500000000.0 0.000939794170644 0.000848000622833\n",
        "40.0 1500000000.0 0.0 1500000000.0 0.000939794170644 0.000839955229958\n",
        "41.0 1500000000.0 0.0 1500000000.0 0.000939794170644 0.000832141118816\n",
        "42.0 1500000000.0 0.0 1500000000.0 0.000939794170644 0.000824556821807\n",
        "43.0 1500000000.0 0.0 1500000000.0 0.000939794170644 0.000817198285467\n",
        "44.0 1500000000.0 0.0 1500000000.0 0.000939794170644 0.00081005977805\n",
        "45.0"
       ]
      },
      {
       "output_type": "stream",
       "stream": "stdout",
       "text": [
        " 1500000000.0 0.0 1500000000.0 0.000939794170644 0.000803134518831\n",
        "46.0 1500000000.0 0.0 1500000000.0 0.000939794170644 0.000796415116575\n",
        "47.0 1500000000.0 0.0 1500000000.0 0.000939794170644 0.000789893876166\n",
        "48.0 1500000000.0 0.0 1500000000.0 0.000939794170644 0.000783563012546\n",
        "49.0 1500000000.0 0.0 1500000000.0 0.000939794170644 0.000777414797311\n",
        "50.0 1500000000.0 1500000000.0 0.0 0.000939794170644 0.000771441654692\n",
        "51.0 1500000000.0 1500000000.0 0.0 0.000939794170644 0.000765636220139\n",
        "52.0 1500000000.0 1500000000.0 0.0 0.000939794170644 0.00075999137399\n",
        "53.0 1500000000.0 1500000000.0 0.0 0.000939794170644 0.000754500262372\n",
        "54.0 1500000000.0 1500000000.0 0.0 0.000939794170644 0.000749156314884\n",
        "55.0 1500000000.0 1500000000.0 0.0 0.000939794170644 0.000743953263294\n",
        "56.0 1500000000.0 1500000000.0 0.0 0.000939794170644 0.000738885159368\n",
        "57.0 1500000000.0 1500000000.0 0.0 0.000939794170644 0.000733946385424\n",
        "58.0 1500000000.0 1500000000.0 0.0 0.000939794170644 0.000729131650197\n",
        "59.0 1500000000.0 1500000000.0 0.0 0.000939794170644 0.000724435965916\n",
        "60.0 1500000000.0 1500000000.0 0.0 0.000939794170644 0.000719854608666\n",
        "61.0 1500000000.0 1500000000.0 0.0 0.000939794170644 0.00071538307072\n",
        "62.0 1500000000.0 1500000000.0 0.0 0.000939794170644 0.000711017016871\n",
        "63.0 1500000000.0 1500000000.0 0.0 0.000939794170644 0.000706752255174\n",
        "64.0 1500000000.0 1500000000.0 0.0 0.000939794170644 0.000702584726821\n",
        "65.0 1500000000.0 1500000000.0 0.0 0.000939794170644 0.000698510513699\n",
        "66.0 1500000000.0 1500000000.0 0.0 0.000939794170644 0.000694525858449\n",
        "67.0"
       ]
      },
      {
       "output_type": "stream",
       "stream": "stdout",
       "text": [
        " 1500000000.0 1500000000.0 0.0 0.000939794170644 0.000690627191317\n",
        "68.0 1500000000.0 1500000000.0 0.0 0.000939794170644 0.000686811159201\n",
        "69.0 1500000000.0 1500000000.0 0.0 0.000939794170644 0.000683074652854\n",
        "70.0 1500000000.0 1500000000.0 0.0 0.000939794170644 0.000679414827073\n",
        "71.0 1500000000.0 1500000000.0 0.0 0.000939794170644 0.000675829106421\n",
        "72.0 1500000000.0 1500000000.0 0.0 0.000939794170644 0.000672315168023\n",
        "73.0 1500000000.0 1500000000.0 0.0 0.000939794170644 0.000668870896557\n",
        "74.0 1500000000.0 1500000000.0 0.0 0.000939794170644 0.000665494315732\n",
        "75.0 1500000000.0 1500000000.0 0.0 0.000939794170644 0.000662183511818\n",
        "76.0 1500000000.0 1500000000.0 0.0 0.000939794170644 0.000658936570605\n",
        "77.0 1500000000.0 1500000000.0 0.0 0.000939794170644 0.000655751544162\n",
        "78.0 1500000000.0 1500000000.0 0.0 0.000939794170644 0.000652626450587\n",
        "79.0 1500000000.0 1500000000.0 0.0 0.000939794170644 0.00064955929731\n",
        "80.0 1500000000.0 1500000000.0 0.0 0.000939794170644 0.000646548113221\n",
        "81.0 1500000000.0 1500000000.0 0.0 0.000939794170644 0.000643590977443\n",
        "82.0 1500000000.0 1500000000.0 0.0 0.000939794170644 0.000640686038537\n",
        "83.0 1500000000.0 1500000000.0 0.0 0.000939794170644 0.000637831523293\n",
        "84.0 1500000000.0 1500000000.0 0.0 0.000939794170644 0.000635025737187\n",
        "85.0 1500000000.0 1500000000.0 0.0 0.000939794170644 0.00063226705939\n",
        "86.0 1500000000.0 1500000000.0 0.0 0.000939794170644 0.000629553934897\n",
        "87.0 1500000000.0 1500000000.0 0.0 0.000939794170644 0.000626884865644\n",
        "88.0 1500000000.0 1500000000.0 0.0 0.000939794170644 0.000624258401998\n",
        "89.0 1500000000.0 1500000000.0 0.0 0.000939794170644 0.000621673135711\n",
        "90.0 1500000000.0 1500000000.0 0.0 0.000939794170644 0.000619127695604\n",
        "91.0 1500000000.0 1500000000.0 0.0 0.000939794170644 0.000616620747681\n",
        "92.0"
       ]
      },
      {
       "output_type": "stream",
       "stream": "stdout",
       "text": [
        " 1500000000.0 1500000000.0 0.0 0.000939794170644 0.000614151002037\n",
        "93.0 1500000000.0 1500000000.0 0.0 0.000939794170644 0.000611717229631\n",
        "94.0 1500000000.0 1500000000.0 0.0 0.000939794170644 0.000609318291908\n",
        "95.0 1500000000.0 1500000000.0 0.0 0.000939794170644 0.000606953184209\n",
        "96.0 1500000000.0 1500000000.0 0.0 0.000939794170644 0.000604621088196\n",
        "97.0 1500000000.0 1500000000.0 0.0 0.000939794170644 0.000602321418456\n",
        "98.0 1500000000.0 1500000000.0 0.0 0.000939794170644 0.000600053837287\n",
        "99.0 1500000000.0 1500000000.0 0.0 0.000939794170644 0.000597818209732\n",
        "100.0 1500000000.0 1500000000.0 0.0 0.000939794170644 0.00059561449027\n",
        "1.0\n",
        "======================================================================\n",
        "NaCl Summary - \n",
        "Max activated fraction\n",
        "   Eq:  1.0\n",
        "  Kin:  1.0\n",
        "\n",
        "Alpha maximum: 1.00\n",
        "  Phi maximum: 1.00\n",
        "======================================================================\n"
       ]
      },
      {
       "output_type": "display_data",
       "png": "[encoded data removed]"
      }
     ],
     "prompt_number": 19
    },
    {
     "cell_type": "code",
     "collapsed": false,
     "input": [
      "active_radii"
     ],
     "language": "python",
     "metadata": {},
     "outputs": [
      {
       "output_type": "pyout",
       "prompt_number": 18,
       "text": [
        "array([False, False, False, False, False, False, False, False, False,\n",
        "       False, False, False, False, False, False, False, False, False,\n",
        "       False, False, False, False, False, False, False, False, False,\n",
        "       False, False, False, False, False, False, False, False, False,\n",
        "       False, False, False, False, False, False, False, False, False,\n",
        "       False, False, False, False, False, False, False, False, False,\n",
        "       False, False, False, False, False, False, False, False, False,\n",
        "       False, False, False, False, False, False, False, False, False,\n",
        "       False, False, False, False, False, False, False, False, False,\n",
        "       False, False, False, False, False, False, False, False, False,\n",
        "       False, False, False, False, False, False, False, False, False,\n",
        "       False, False, False, False, False, False, False, False, False,\n",
        "       False, False, False, False, False, False, False, False, False,\n",
        "       False, False, False, False, False, False, False, False, False,\n",
        "       False, False, False, False, False, False, False, False, False,\n",
        "       False, False, False, False, False, False, False, False, False,\n",
        "       False, False, False, False, False, False, False, False, False,\n",
        "       False, False, False, False, False, False, False, False, False,\n",
        "       False, False, False, False, False, False, False, False, False,\n",
        "       False, False, False, False, False, False, False, False, False,\n",
        "       False, False, False, False, False, False, False, False, False,\n",
        "       False, False, False, False, False, False, False, False, False,\n",
        "       False, False], dtype=bool)"
       ]
      }
     ],
     "prompt_number": 18
    },
    {
     "cell_type": "code",
     "collapsed": false,
     "input": [
      "aerosols['NaCl']"
     ],
     "language": "python",
     "metadata": {},
     "outputs": [
      {
       "output_type": "pyout",
       "prompt_number": 21,
       "text": [
        "<class 'pandas.core.frame.DataFrame'>\n",
        "Index: 20001 entries, 0.0 to 100.0\n",
        "Columns: 200 entries, r000 to r199\n",
        "dtypes: float64(200)"
       ]
      }
     ],
     "prompt_number": 21
    },
    {
     "cell_type": "code",
     "collapsed": false,
     "input": [
      "pm.aerosols[1]"
     ],
     "language": "python",
     "metadata": {},
     "outputs": [
      {
       "output_type": "pyout",
       "prompt_number": 23,
       "text": [
        "NaCl - {'r_drys': [0.25], 'Nis': [5000.0]}"
       ]
      }
     ],
     "prompt_number": 23
    },
    {
     "cell_type": "code",
     "collapsed": false,
     "input": [],
     "language": "python",
     "metadata": {},
     "outputs": []
    }
   ],
   "metadata": {}
  }
 ]
}