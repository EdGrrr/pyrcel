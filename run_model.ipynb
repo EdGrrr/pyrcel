{
 "metadata": {
  "name": "run_model"
 },
 "nbformat": 3,
 "nbformat_minor": 0,
 "worksheets": [
  {
   "cells": [
    {
     "cell_type": "heading",
     "level": 2,
     "metadata": {},
     "source": [
      "Parcel model quick setup and run"
     ]
    },
    {
     "cell_type": "code",
     "collapsed": false,
     "input": [
      "from lognorm import Lognorm\n",
      "from parcel import ParcelModel, AerosolSpecies\n",
      "from micro import kohler_crit, Rd\n",
      "import pandas\n",
      "import time"
     ],
     "language": "python",
     "metadata": {},
     "outputs": [],
     "prompt_number": 1
    },
    {
     "cell_type": "heading",
     "level": 4,
     "metadata": {},
     "source": [
      "Set the parcel's initial environmental conditions"
     ]
    },
    {
     "cell_type": "code",
     "collapsed": false,
     "input": [
      "P0 = 80000. # Pressure, Pa\n",
      "T0 = 283.15 # Temperature, K\n",
      "S0 = -0.00 # Supersaturation. 1-RH from wv term\n",
      "V = 0.7076312079 # m/s"
     ],
     "language": "python",
     "metadata": {},
     "outputs": [],
     "prompt_number": 2
    },
    {
     "cell_type": "heading",
     "level": 4,
     "metadata": {},
     "source": [
      "Add aerosols to the parcel"
     ]
    },
    {
     "cell_type": "code",
     "collapsed": false,
     "input": [
      "aerosol1 = AerosolSpecies('(NH4)2SO4', Lognorm(mu=0.02494149518, sigma=1.301854178, N=2299.298741 ),\n",
      "                          bins=200, kappa=0.4983795899)\n",
      "initial_aerosols = [aerosol1, ]\n",
      "\n",
      "aer_species = [a.species for a in initial_aerosols]\n",
      "aer_dict = dict()\n",
      "for aerosol in initial_aerosols:\n",
      "    aer_dict[aerosol.species] = aerosol"
     ],
     "language": "python",
     "metadata": {},
     "outputs": [],
     "prompt_number": 3
    },
    {
     "cell_type": "heading",
     "level": 4,
     "metadata": {},
     "source": [
      "Setup and run the model"
     ]
    },
    {
     "cell_type": "code",
     "collapsed": false,
     "input": [
      "z_top = 50.0 # meters\n",
      "dt = 0.01 # seconds\n",
      "\n",
      "pm = ParcelModel(initial_aerosols, V, T0, S0, P0, console=True)\n",
      "start = time.time()\n",
      "parcel, aerosols = pm.run(z_top, incremental=True, dt=dt)\n",
      "end = time.time()\n",
      "\n",
      "print \"...done\"\n",
      "print aerosol1.bins, end-start\n",
      "\n",
      "xs = np.arange(501)\n",
      "#parcel = parcel.ix[parcel.index % 1 == 0]\n",
      "aero_subset = {}\n",
      "for key in aerosols:\n",
      "    aerosol = aerosols[key]\n",
      "    #subset = aerosol.ix[aerosol.index % 1 == 0]\n",
      "    subset = aerosol.ix[:]\n",
      "    aero_subset[key] = subset\n",
      "aerosols2 = aero_subset"
     ],
     "language": "python",
     "metadata": {},
     "outputs": [
      {
       "output_type": "stream",
       "stream": "stdout",
       "text": [
        "AEROSOL DISTRIBUTION\n",
        "       r      N\n",
        " (NH4)2SO4 1.94e-09  0.0\n",
        " (NH4)2SO4 1.99e-09  0.0\n",
        " (NH4)2SO4 2.04e-09  0.0\n",
        " (NH4)2SO4 2.10e-09  0.0\n",
        " (NH4)2SO4 2.15e-09  0.0\n",
        " (NH4)2SO4 2.21e-09  0.0\n",
        " (NH4)2SO4 2.26e-09  0.0\n",
        " (NH4)2SO4 2.32e-09  0.0\n",
        " (NH4)2SO4 2.38e-09  0.0\n",
        " (NH4)2SO4 2.44e-09  0.0\n",
        " (NH4)2SO4 2.51e-09  0.0\n",
        " (NH4)2SO4 2.57e-09  0.0\n",
        " (NH4)2SO4 2.64e-09  0.0\n",
        " (NH4)2SO4 2.71e-09  0.0\n",
        " (NH4)2SO4 2.78e-09  0.0\n",
        " (NH4)2SO4 2.85e-09  0.0\n",
        " (NH4)2SO4 2.93e-09  0.0\n",
        " (NH4)2SO4 3.00e-09  0.0\n",
        " (NH4)2SO4 3.08e-09  0.0\n",
        " (NH4)2SO4 3.16e-09  0.0\n",
        " (NH4)2SO4 3.24e-09  0.0\n",
        " (NH4)2SO4 3.33e-09  0.0\n",
        " (NH4)2SO4 3.41e-09  0.0\n",
        " (NH4)2SO4 3.50e-09  0.0\n",
        " (NH4)2SO4 3.59e-09  0.0\n",
        " (NH4)2SO4 3.69e-09  0.0\n",
        " (NH4)2SO4 3.78e-09  0.0\n",
        " (NH4)2SO4 3.88e-09  0.0\n",
        " (NH4)2SO4 3.98e-09  0.0\n",
        " (NH4)2SO4 4.08e-09  0.0\n",
        " (NH4)2SO4 4.19e-09  0.0\n",
        " (NH4)2SO4 4.30e-09  0.0\n",
        " (NH4)2SO4 4.41e-09  0.0\n",
        " (NH4)2SO4 4.53e-09  0.1\n",
        " (NH4)2SO4 4.64e-09  0.1\n",
        " (NH4)2SO4 4.76e-09  0.3\n",
        " (NH4)2SO4 4.89e-09  0.5\n",
        " (NH4)2SO4 5.02e-09  0.9\n",
        " (NH4)2SO4 5.15e-09  1.6\n",
        " (NH4)2SO4 5.28e-09  2.8\n",
        " (NH4)2SO4 5.42e-09  4.9\n",
        " (NH4)2SO4 5.56e-09  8.5\n",
        " (NH4)2SO4 5.70e-09 14.8\n",
        " (NH4)2SO4 5.85e-09 25.3\n",
        " (NH4)2SO4 6.00e-09 42.9\n",
        " (NH4)2SO4 6.16e-09 72.1\n",
        " (NH4)2SO4 6.32e-09 120.1\n",
        " (NH4)2SO4 6.48e-09 198.2\n",
        " (NH4)2SO4 6.65e-09 323.8\n",
        " (NH4)2SO4 6.82e-09 524.2\n",
        " (NH4)2SO4 7.00e-09 840.6\n",
        " (NH4)2SO4 7.18e-09 1335.2\n",
        " (NH4)2SO4 7.37e-09 2101.0\n",
        " (NH4)2SO4 7.56e-09 3275.0\n",
        " (NH4)2SO4 7.76e-09 5056.9\n",
        " (NH4)2SO4 7.96e-09 7735.0\n",
        " (NH4)2SO4 8.17e-09 11720.1\n",
        " (NH4)2SO4 8.38e-09 17591.4\n",
        " (NH4)2SO4 8.60e-09 26155.9\n",
        " (NH4)2SO4 8.82e-09 38524.5\n",
        " (NH4)2SO4 9.05e-09 56208.7\n",
        " (NH4)2SO4 9.29e-09 81239.8\n",
        " (NH4)2SO4 9.53e-09 116314.3\n",
        " (NH4)2SO4 9.77e-09 164966.6\n",
        " (NH4)2SO4 1.00e-08 231770.3\n",
        " (NH4)2SO4 1.03e-08 322565.9\n",
        " (NH4)2SO4 1.06e-08 444711.2\n",
        " (NH4)2SO4 1.08e-08 607346.5\n",
        " (NH4)2SO4 1.11e-08 821663.3\n",
        " (NH4)2SO4 1.14e-08 1101159.3\n",
        " (NH4)2SO4 1.17e-08 1461858.4\n",
        " (NH4)2SO4 1.20e-08 1922469.4\n",
        " (NH4)2SO4 1.23e-08 2504450.8\n",
        " (NH4)2SO4 1.26e-08 3231949.2\n",
        " (NH4)2SO4 1.30e-08 4131573.8\n",
        " (NH4)2SO4 1.33e-08 5231972.8\n",
        " (NH4)2SO4 1.36e-08 6563181.7\n",
        " (NH4)2SO4 1.40e-08 8155721.2\n",
        " (NH4)2SO4 1.44e-08 10039436.1\n",
        " (NH4)2SO4 1.47e-08 12242081.9\n",
        " (NH4)2SO4 1.51e-08 14787687.4\n",
        " (NH4)2SO4 1.55e-08 17694743.3\n",
        " (NH4)2SO4 1.59e-08 20974291.9\n",
        " (NH4)2SO4 1.63e-08 24628013.9\n",
        " (NH4)2SO4 1.68e-08 28646430.8\n",
        " (NH4)2SO4 1.72e-08 33007353.2\n",
        " (NH4)2SO4 1.76e-08 37674711.9\n",
        " (NH4)2SO4 1.81e-08 42597905.2\n",
        " (NH4)2SO4 1.86e-08 47711779.4\n",
        " (NH4)2SO4 1.90e-08 52937332.8\n",
        " (NH4)2SO4 1.95e-08 58183196.0\n",
        " (NH4)2SO4 2.01e-08 63347892.2\n",
        " (NH4)2SO4 2.06e-08 68322829.9\n",
        " (NH4)2SO4 2.11e-08 72995923.4\n",
        " (NH4)2SO4 2.17e-08 77255685.8\n",
        " (NH4)2SO4 2.22e-08 80995592.1\n",
        " (NH4)2SO4 2.28e-08 84118477.7\n",
        " (NH4)2SO4 2.34e-08 86540721.7\n",
        " (NH4)2SO4 2.40e-08 88195963.6\n",
        " (NH4)2SO4 2.46e-08 89038122.6\n",
        " (NH4)2SO4 2.53e-08 89043529.5\n",
        " (NH4)2SO4 2.59e-08 88212031.6\n",
        " (NH4)2SO4 2.66e-08 86567000.0\n",
        " (NH4)2SO4 2.73e-08 84154238.1\n",
        " (NH4)2SO4 2.80e-08 81039862.9\n",
        " (NH4)2SO4 2.87e-08 77307295.5\n",
        " (NH4)2SO4 2.95e-08 73053551.9\n",
        " (NH4)2SO4 3.02e-08 68385064.7\n",
        " (NH4)2SO4 3.10e-08 63413285.4\n",
        " (NH4)2SO4 3.18e-08 58250318.9\n",
        " (NH4)2SO4 3.27e-08 53004826.3\n",
        " (NH4)2SO4 3.35e-08 47778397.0\n",
        " (NH4)2SO4 3.44e-08 42662546.9\n",
        " (NH4)2SO4 3.53e-08 37736448.2\n",
        " (NH4)2SO4 3.62e-08 33065439.1\n",
        " (NH4)2SO4 3.71e-08 28700310.3\n",
        " (NH4)2SO4 3.81e-08 24677315.1\n",
        " (NH4)2SO4 3.91e-08 21018815.0\n",
        " (NH4)2SO4 4.01e-08 17734442.9\n",
        " (NH4)2SO4 4.11e-08 14822650.4\n",
        " (NH4)2SO4 4.22e-08 12272503.4\n",
        " (NH4)2SO4 4.33e-08 10065594.4\n",
        " (NH4)2SO4 4.44e-08 8177953.9\n",
        " (NH4)2SO4 4.56e-08 6581863.0\n",
        " (NH4)2SO4 4.68e-08 5247494.1\n",
        " (NH4)2SO4 4.80e-08 4144326.9\n",
        " (NH4)2SO4 4.92e-08 3242313.3\n",
        " (NH4)2SO4 5.05e-08 2512782.2\n",
        " (NH4)2SO4 5.18e-08 1929095.0\n",
        " (NH4)2SO4 5.32e-08 1467071.4\n",
        " (NH4)2SO4 5.46e-08 1105217.5\n",
        " (NH4)2SO4 5.60e-08 824789.5\n",
        " (NH4)2SO4 5.74e-08 609729.7\n",
        " (NH4)2SO4 5.89e-08 446509.1\n",
        " (NH4)2SO4 6.05e-08 323908.4\n",
        " (NH4)2SO4 6.20e-08 232762.4\n",
        " (NH4)2SO4 6.36e-08 165692.2\n",
        " (NH4)2SO4 6.53e-08 116839.7\n",
        " (NH4)2SO4 6.70e-08 81616.4\n",
        " (NH4)2SO4 6.87e-08 56475.9\n",
        " (NH4)2SO4 7.05e-08 38712.1\n",
        " (NH4)2SO4 7.24e-08 26286.3\n",
        " (NH4)2SO4 7.42e-08 17681.2\n",
        " (NH4)2SO4 7.62e-08 11781.3\n",
        " (NH4)2SO4 7.81e-08 7776.3\n",
        " (NH4)2SO4 8.02e-08 5084.5\n",
        " (NH4)2SO4 8.23e-08 3293.3\n",
        " (NH4)2SO4 8.44e-08 2113.0\n",
        " (NH4)2SO4 8.66e-08 1343.0\n",
        " (NH4)2SO4 8.88e-08 845.6\n",
        " (NH4)2SO4 9.12e-08 527.4\n",
        " (NH4)2SO4 9.35e-08 325.8\n",
        " (NH4)2SO4 9.60e-08 199.4\n",
        " (NH4)2SO4 9.84e-08 120.9\n",
        " (NH4)2SO4 1.01e-07 72.6\n",
        " (NH4)2SO4 1.04e-07 43.2\n",
        " (NH4)2SO4 1.06e-07 25.5\n",
        " (NH4)2SO4 1.09e-07 14.9\n",
        " (NH4)2SO4 1.12e-07  8.6\n",
        " (NH4)2SO4 1.15e-07  4.9\n",
        " (NH4)2SO4 1.18e-07  2.8\n",
        " (NH4)2SO4 1.21e-07  1.6\n",
        " (NH4)2SO4 1.24e-07  0.9\n",
        " (NH4)2SO4 1.27e-07  0.5\n",
        " (NH4)2SO4 1.31e-07  0.3\n",
        " (NH4)2SO4 1.34e-07  0.1\n",
        " (NH4)2SO4 1.37e-07  0.1\n",
        " (NH4)2SO4 1.41e-07  0.0\n",
        " (NH4)2SO4 1.45e-07  0.0\n",
        " (NH4)2SO4 1.48e-07  0.0\n",
        " (NH4)2SO4 1.52e-07  0.0\n",
        " (NH4)2SO4 1.56e-07  0.0\n",
        " (NH4)2SO4 1.60e-07  0.0\n",
        " (NH4)2SO4 1.64e-07  0.0\n",
        " (NH4)2SO4 1.69e-07  0.0\n",
        " (NH4)2SO4 1.73e-07  0.0\n",
        " (NH4)2SO4 1.78e-07  0.0\n",
        " (NH4)2SO4 1.82e-07  0.0\n",
        " (NH4)2SO4 1.87e-07  0.0\n",
        " (NH4)2SO4 1.92e-07  0.0\n",
        " (NH4)2SO4 1.97e-07  0.0\n",
        " (NH4)2SO4 2.02e-07  0.0\n",
        " (NH4)2SO4 2.07e-07  0.0\n",
        " (NH4)2SO4 2.13e-07  0.0\n",
        " (NH4)2SO4 2.18e-07  0.0\n",
        " (NH4)2SO4 2.24e-07  0.0\n",
        " (NH4)2SO4 2.30e-07  0.0\n",
        " (NH4)2SO4 2.36e-07  0.0\n",
        " (NH4)2SO4 2.42e-07  0.0\n",
        " (NH4)2SO4 2.48e-07  0.0\n",
        " (NH4)2SO4 2.54e-07  0.0\n",
        " (NH4)2SO4 2.61e-07  0.0\n",
        " (NH4)2SO4 2.68e-07  0.0\n",
        " (NH4)2SO4 2.75e-07  0.0\n",
        " (NH4)2SO4 2.82e-07  0.0\n",
        " (NH4)2SO4 2.89e-07  0.0\n",
        " (NH4)2SO4 2.97e-07  0.0\n",
        " (NH4)2SO4 3.05e-07  0.0\n",
        " (NH4)2SO4 3.12e-07  0.0\n",
        " (NH4)2SO4 3.21e-07  0.0\n",
        "\n",
        "--------------------------------------------\n",
        "PARCEL INITIAL CONDITIONS"
       ]
      },
      {
       "output_type": "stream",
       "stream": "stdout",
       "text": [
        "\n",
        "     P (hPa)    T (K)       wv       wc        S\n",
        "      800.0   283.15  9.7e-03   1.1e-08   -0.000\n",
        "\n",
        "n_steps = 7067\n",
        "\n",
        "SIMULATION STATUS\n",
        "    z (m) |    T (K) |        S |  time elapsed (s)\n",
        "    0.000 | 80000.00 | -0.00000 |     0.00/0.00     \n",
        "    1.000 | 79990.35 |  0.00054 |     0.39/0.39     "
       ]
      },
      {
       "output_type": "stream",
       "stream": "stdout",
       "text": [
        "\n",
        "    2.000 | 79980.71 |  0.00108 |     0.15/0.54     "
       ]
      },
      {
       "output_type": "stream",
       "stream": "stdout",
       "text": [
        "\n",
        "    3.000 | 79971.06 |  0.00163 |     0.17/0.72     "
       ]
      },
      {
       "output_type": "stream",
       "stream": "stdout",
       "text": [
        "\n",
        "    4.000 | 79961.42 |  0.00217 |     0.17/0.88     "
       ]
      },
      {
       "output_type": "stream",
       "stream": "stdout",
       "text": [
        "\n",
        "    5.000 | 79951.77 |  0.00271 |     0.17/1.06     "
       ]
      },
      {
       "output_type": "stream",
       "stream": "stdout",
       "text": [
        "\n",
        "    6.000 | 79942.13 |  0.00323 |     0.18/1.23     "
       ]
      },
      {
       "output_type": "stream",
       "stream": "stdout",
       "text": [
        "\n",
        "    7.000 | 79932.49 |  0.00372 |     0.23/1.47     "
       ]
      },
      {
       "output_type": "stream",
       "stream": "stdout",
       "text": [
        "\n",
        "    8.000 | 79922.85 |  0.00409 |     0.24/1.71     "
       ]
      },
      {
       "output_type": "stream",
       "stream": "stdout",
       "text": [
        "\n",
        "    9.000 | 79913.21 |  0.00421 |     0.23/1.94     "
       ]
      },
      {
       "output_type": "stream",
       "stream": "stdout",
       "text": [
        "\n",
        "   10.000 | 79903.57 |  0.00403 |     0.20/2.14     "
       ]
      },
      {
       "output_type": "stream",
       "stream": "stdout",
       "text": [
        "\n",
        "...done\n",
        "200 3.26788282394\n"
       ]
      }
     ],
     "prompt_number": 6
    },
    {
     "cell_type": "markdown",
     "metadata": {},
     "source": [
      "#### Print activation stuff"
     ]
    },
    {
     "cell_type": "code",
     "collapsed": false,
     "input": [
      "ghan_Smax, ghan_ratio = arg2000(V, T0, P0, initial_aerosols)\n",
      "nenes_Smax, nenes_ratio = fn2005(V, T0, P0, initial_aerosols)\n",
      "pce1_Smax, pce1_ratio = pce_deg1(V, T0, P0, initial_aerosols[0])\n",
      "pce2_Smax, pce2_ratio = pce_deg2(V, T0, P0, initial_aerosols[0])\n",
      "pce3_Smax, pce3_ratio = pce_deg3(V, T0, P0, initial_aerosols[0])\n",
      "pce4_Smax, pce4_ratio = pce_deg4(V, T0, P0, initial_aerosols[0])\n",
      "#ming_Smax, ming_ratio = activate_ming(V, T0, P0, initial_aerosols[0])\n",
      "\n",
      "aer = initial_aerosols[0]\n",
      "aer_par = aerosols2[aer.species].ix[-1].values\n",
      "\n",
      "parcel_ratio, _ = act_fraction(parcel.S.max(), T0, aer_par, aer.kappa, aer.r_drys, aer.Nis)\n",
      "\n",
      "print \"       Smax\"\n",
      "print \" Nenes\", nenes_Smax\n",
      "print \"  Ghan\", ghan_Smax\n",
      "#print \"  Ming\", ming_Smax\n",
      "print \"Parcel\", parcel.S.max()\n",
      "print \"  PCE1\", pce1_Smax\n",
      "print \"  PCE2\", pce2_Smax\n",
      "print \"  PCE3\", pce3_Smax\n",
      "print \"  PCE4\", pce4_Smax"
     ],
     "language": "python",
     "metadata": {},
     "outputs": []
    },
    {
     "cell_type": "code",
     "collapsed": false,
     "input": [
      "parcel.S.plot()"
     ],
     "language": "python",
     "metadata": {},
     "outputs": []
    },
    {
     "cell_type": "markdown",
     "metadata": {},
     "source": [
      "### Profiling"
     ]
    },
    {
     "cell_type": "code",
     "collapsed": false,
     "input": [
      "import pstats, cProfile\n",
      "\n",
      "cProfile.runctx(\"arg2000(V, T0, P0, initial_aerosols)\", globals(), locals(), \"arg.prof\")\n",
      "cProfile.runctx(\"fn2005(V, T0, P0, initial_aerosols)\", globals(), locals(), \"nenes.prof\")\n",
      "\n",
      "cProfile.runctx(\"pce_deg3(V, T0, P0, initial_aerosols[0])\", globals(), locals(), \"pce_deg3.prof\")\n",
      "\n",
      "s = pstats.Stats(\"arg.prof\")\n",
      "s.strip_dirs().sort_stats(\"time\").print_stats()\n",
      "\n",
      "#s = pstats.Stats(\"nenes.prof\")\n",
      "#s.strip_dirs().sort_stats(\"time\").print_stats()\n",
      "\n",
      "s = pstats.Stats(\"pce_deg3.prof\")\n",
      "s.strip_dirs().sort_stats(\"time\").print_stats()"
     ],
     "language": "python",
     "metadata": {},
     "outputs": []
    },
    {
     "cell_type": "code",
     "collapsed": false,
     "input": [],
     "language": "python",
     "metadata": {},
     "outputs": []
    }
   ],
   "metadata": {}
  }
 ]
}