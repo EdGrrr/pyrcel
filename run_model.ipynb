{
 "metadata": {
  "name": "run_model"
 },
 "nbformat": 3,
 "nbformat_minor": 0,
 "worksheets": [
  {
   "cells": [
    {
     "cell_type": "heading",
     "level": 2,
     "metadata": {},
     "source": [
      "Parcel model quick setup and run"
     ]
    },
    {
     "cell_type": "code",
     "collapsed": false,
     "input": [
      "from lognorm import Lognorm\n",
      "from parcel import ParcelModel, AerosolSpecies\n",
      "from micro import kohler_crit, Rd, r_eff, activation\n",
      "import pandas"
     ],
     "language": "python",
     "metadata": {},
     "outputs": [],
     "prompt_number": 1
    },
    {
     "cell_type": "heading",
     "level": 4,
     "metadata": {},
     "source": [
      "Set the parcel's initial environmental conditions"
     ]
    },
    {
     "cell_type": "code",
     "collapsed": false,
     "input": [
      "P0 = 100000. # Pressure, Pa\n",
      "T0 = 279.0 # Temperature, K\n",
      "S0 = -0.00 # Supersaturation. 1-RH from wv term\n",
      "V = 1.0 # m/s"
     ],
     "language": "python",
     "metadata": {},
     "outputs": [],
     "prompt_number": 11
    },
    {
     "cell_type": "heading",
     "level": 4,
     "metadata": {},
     "source": [
      "Add aerosols to the parcel"
     ]
    },
    {
     "cell_type": "code",
     "collapsed": false,
     "input": [
      "aerosol1 = AerosolSpecies('(NH4)2SO4', Lognorm(mu=0.05, sigma=2.0, N=1000.),\n",
      "                          bins=200, kappa=0.7)\n",
      "#aerosol2 = AerosolSpecies('NaCl', {'r_drys': [0.05, ], 'Nis': [10000.0, ]}, kappa=0.1)\n",
      "aerosol2 = AerosolSpecies('NaCl', Lognorm(mu=0.05, sigma=2.0, N=100.),\n",
      "                          bins=200, kappa=0.05)\n",
      "\n",
      "initial_aerosols = [aerosol1, aerosol2, ]\n",
      "initial_aerosols = [aerosol1, ]\n",
      "\n",
      "aer_species = [a.species for a in initial_aerosols]\n",
      "aer_dict = dict()\n",
      "for aerosol in initial_aerosols:\n",
      "    aer_dict[aerosol.species] = aerosol\n",
      "\n",
      "## Plot the size distribution:\n",
      "figure(2, figsize=(12,10))\n",
      "clf()\n",
      "subplot(3,2,1)\n",
      "colors = 'bgrcmyk'\n",
      "for i, aerosol in enumerate(initial_aerosols):\n",
      "    rs, Nis = aerosol.rs, aerosol.Nis\n",
      "    bar(rs[:-1], Nis/np.diff(rs)*1e-6, diff(rs), color=colors[i], alpha=0.5)\n",
      "semilogx()\n",
      "xlabel(r'dry radius ($\\mu$m)'); ylabel(r'N ($m^{-3}$)')"
     ],
     "language": "python",
     "metadata": {},
     "outputs": [
      {
       "output_type": "pyout",
       "prompt_number": 10,
       "text": [
        "<matplotlib.text.Text at 0x107bddad0>"
       ]
      },
      {
       "output_type": "display_data",
       "png": "[encoded data removed]"
      }
     ],
     "prompt_number": 10
    },
    {
     "cell_type": "heading",
     "level": 4,
     "metadata": {},
     "source": [
      "Setup and run the model"
     ]
    },
    {
     "cell_type": "code",
     "collapsed": false,
     "input": [
      "z_top = 100.0 # meters\n",
      "dt = 0.01 # seconds\n",
      "\n",
      "pm = ParcelModel(initial_aerosols, V, T0, S0, P0, console=True)\n",
      "parcel, aerosols = pm.run(z_top, dt)\n",
      "\n",
      "print \"...done\"\n",
      "\n",
      "xs = np.arange(501)\n",
      "parcel = parcel.ix[parcel.index % 1 == 0]\n",
      "aero_subset = {}\n",
      "for key in aerosols:\n",
      "    aerosol = aerosols[key]\n",
      "    subset = aerosol.ix[aerosol.index % 1 == 0]\n",
      "    aero_subset[key] = subset\n",
      "aerosols2 = aero_subset\n"
     ],
     "language": "python",
     "metadata": {},
     "outputs": [
      {
       "output_type": "stream",
       "stream": "stdout",
       "text": [
        "AEROSOL DISTRIBUTION\n",
        "       r      N\n",
        " (NH4)2SO4 2.54e-09 1667.9\n",
        " (NH4)2SO4 2.61e-09 2006.6\n",
        " (NH4)2SO4 2.69e-09 2409.5\n",
        " (NH4)2SO4 2.78e-09 2887.9\n",
        " (NH4)2SO4 2.86e-09 3454.8\n",
        " (NH4)2SO4 2.95e-09 4125.4\n",
        " (NH4)2SO4 3.04e-09 4916.9\n",
        " (NH4)2SO4 3.13e-09 5849.3\n",
        " (NH4)2SO4 3.22e-09 6945.5\n",
        " (NH4)2SO4 3.32e-09 8231.9\n",
        " (NH4)2SO4 3.42e-09 9738.2\n",
        " (NH4)2SO4 3.53e-09 11498.8\n",
        " (NH4)2SO4 3.64e-09 13552.3\n",
        " (NH4)2SO4 3.75e-09 15942.7\n",
        " (NH4)2SO4 3.86e-09 18719.8\n",
        " (NH4)2SO4 3.98e-09 21939.6\n",
        " (NH4)2SO4 4.10e-09 25665.2\n",
        " (NH4)2SO4 4.22e-09 29967.5\n",
        " (NH4)2SO4 4.35e-09 34925.8\n",
        " (NH4)2SO4 4.48e-09 40628.5\n",
        " (NH4)2SO4 4.62e-09 47174.1\n",
        " (NH4)2SO4 4.76e-09 54672.2\n",
        " (NH4)2SO4 4.91e-09 63243.9\n",
        " (NH4)2SO4 5.05e-09 73022.9\n",
        " (NH4)2SO4 5.21e-09 84156.9\n",
        " (NH4)2SO4 5.37e-09 96807.4\n",
        " (NH4)2SO4 5.53e-09 111152.0\n",
        " (NH4)2SO4 5.70e-09 127384.0\n",
        " (NH4)2SO4 5.87e-09 145714.1\n",
        " (NH4)2SO4 6.05e-09 166370.9\n",
        " (NH4)2SO4 6.23e-09 189601.8\n",
        " (NH4)2SO4 6.42e-09 215673.5\n",
        " (NH4)2SO4 6.62e-09 244872.6\n",
        " (NH4)2SO4 6.82e-09 277506.2\n",
        " (NH4)2SO4 7.03e-09 313902.2\n",
        " (NH4)2SO4 7.24e-09 354409.4\n",
        " (NH4)2SO4 7.46e-09 399397.4\n",
        " (NH4)2SO4 7.69e-09 449256.6\n",
        " (NH4)2SO4 7.92e-09 504397.3\n",
        " (NH4)2SO4 8.16e-09 565249.6\n",
        " (NH4)2SO4 8.41e-09 632261.7\n",
        " (NH4)2SO4 8.67e-09 705899.2\n",
        " (NH4)2SO4 8.93e-09 786642.9\n",
        " (NH4)2SO4 9.20e-09 874987.3\n",
        " (NH4)2SO4 9.48e-09 971437.8\n",
        " (NH4)2SO4 9.77e-09 1076508.4\n",
        " (NH4)2SO4 1.01e-08 1190718.3\n",
        " (NH4)2SO4 1.04e-08 1314588.3\n",
        " (NH4)2SO4 1.07e-08 1448637.2\n",
        " (NH4)2SO4 1.10e-08 1593377.6\n",
        " (NH4)2SO4 1.13e-08 1749310.5\n",
        " (NH4)2SO4 1.17e-08 1916921.2\n",
        " (NH4)2SO4 1.20e-08 2096673.4\n",
        " (NH4)2SO4 1.24e-08 2289003.6\n",
        " (NH4)2SO4 1.28e-08 2494315.0\n",
        " (NH4)2SO4 1.32e-08 2712971.9\n",
        " (NH4)2SO4 1.36e-08 2945292.6\n",
        " (NH4)2SO4 1.40e-08 3191543.4\n",
        " (NH4)2SO4 1.44e-08 3451931.9\n",
        " (NH4)2SO4 1.49e-08 3726600.5\n",
        " (NH4)2SO4 1.53e-08 4015620.1\n",
        " (NH4)2SO4 1.58e-08 4318983.6\n",
        " (NH4)2SO4 1.63e-08 4636600.2\n",
        " (NH4)2SO4 1.68e-08 4968289.6\n",
        " (NH4)2SO4 1.73e-08 5313776.8\n",
        " (NH4)2SO4 1.78e-08 5672687.7\n",
        " (NH4)2SO4 1.83e-08 6044544.8\n",
        " (NH4)2SO4 1.89e-08 6428763.9\n",
        " (NH4)2SO4 1.95e-08 6824652.1\n",
        " (NH4)2SO4 2.01e-08 7231405.4\n",
        " (NH4)2SO4 2.07e-08 7648108.9\n",
        " (NH4)2SO4 2.13e-08 8073736.6\n",
        " (NH4)2SO4 2.19e-08 8507153.0\n",
        " (NH4)2SO4 2.26e-08 8947116.0\n",
        " (NH4)2SO4 2.33e-08 9392280.4\n",
        " (NH4)2SO4 2.40e-08 9841202.9\n",
        " (NH4)2SO4 2.47e-08 10292348.5\n",
        " (NH4)2SO4 2.55e-08 10744097.4\n",
        " (NH4)2SO4 2.63e-08 11194753.9\n",
        " (NH4)2SO4 2.71e-08 11642555.6\n",
        " (NH4)2SO4 2.79e-08 12085684.3\n",
        " (NH4)2SO4 2.87e-08 12522277.7\n",
        " (NH4)2SO4 2.96e-08 12950441.4\n",
        " (NH4)2SO4 3.05e-08 13368262.7\n",
        " (NH4)2SO4 3.14e-08 13773823.9\n",
        " (NH4)2SO4 3.24e-08 14165217.3\n",
        " (NH4)2SO4 3.34e-08 14540559.3\n",
        " (NH4)2SO4 3.44e-08 14898005.9\n",
        " (NH4)2SO4 3.54e-08 15235767.2\n",
        " (NH4)2SO4 3.65e-08 15552122.6\n",
        " (NH4)2SO4 3.76e-08 15845435.2\n",
        " (NH4)2SO4 3.88e-08 16114165.9\n",
        " (NH4)2SO4 3.99e-08 16356886.7\n",
        " (NH4)2SO4 4.12e-08 16572293.6\n",
        " (NH4)2SO4 4.24e-08 16759218.0\n",
        " (NH4)2SO4 4.37e-08 16916637.3\n",
        " (NH4)2SO4 4.50e-08 17043684.4\n",
        " (NH4)2SO4 4.64e-08 17139655.4\n",
        " (NH4)2SO4 4.78e-08 17204016.4\n",
        " (NH4)2SO4 4.93e-08 17236408.0\n",
        " (NH4)2SO4 5.08e-08 17236649.1\n",
        " (NH4)2SO4 5.23e-08 17204738.3\n",
        " (NH4)2SO4 5.39e-08 17140854.2\n",
        " (NH4)2SO4 5.55e-08 17045353.4\n",
        " (NH4)2SO4 5.72e-08 16918767.1\n",
        " (NH4)2SO4 5.90e-08 16761796.9\n",
        " (NH4)2SO4 6.07e-08 16575307.5\n",
        " (NH4)2SO4 6.26e-08 16360319.1\n",
        " (NH4)2SO4 6.45e-08 16117998.2\n",
        " (NH4)2SO4 6.65e-08 15849647.0\n",
        " (NH4)2SO4 6.85e-08 15556691.6\n",
        " (NH4)2SO4 7.06e-08 15240669.6\n",
        " (NH4)2SO4 7.27e-08 14903216.5\n",
        " (NH4)2SO4 7.49e-08 14546051.8\n",
        " (NH4)2SO4 7.72e-08 14170964.4\n",
        " (NH4)2SO4 7.95e-08 13779797.7\n",
        " (NH4)2SO4 8.20e-08 13374434.6\n",
        " (NH4)2SO4 8.45e-08 12956782.8\n",
        " (NH4)2SO4 8.70e-08 12528759.8\n",
        " (NH4)2SO4 8.97e-08 12092278.7\n",
        " (NH4)2SO4 9.24e-08 11649233.9\n",
        " (NH4)2SO4 9.52e-08 11201488.6\n",
        " (NH4)2SO4 9.81e-08 10750861.7\n",
        " (NH4)2SO4 1.01e-07 10299116.4\n",
        " (NH4)2SO4 1.04e-07 9847949.5\n",
        " (NH4)2SO4 1.07e-07 9398982.0\n",
        " (NH4)2SO4 1.11e-07 8953750.3\n",
        " (NH4)2SO4 1.14e-07 8513699.1\n",
        " (NH4)2SO4 1.17e-07 8080175.1\n",
        " (NH4)2SO4 1.21e-07 7654422.0\n",
        " (NH4)2SO4 1.25e-07 7237576.9\n",
        " (NH4)2SO4 1.28e-07 6830667.3\n",
        " (NH4)2SO4 1.32e-07 6434610.1\n",
        " (NH4)2SO4 1.36e-07 6050210.6\n",
        " (NH4)2SO4 1.41e-07 5678163.7\n",
        " (NH4)2SO4 1.45e-07 5319055.0\n",
        " (NH4)2SO4 1.49e-07 4973363.6\n",
        " (NH4)2SO4 1.54e-07 4641465.1\n",
        " (NH4)2SO4 1.58e-07 4323636.1\n",
        " (NH4)2SO4 1.63e-07 4020058.1\n",
        " (NH4)2SO4 1.68e-07 3730823.4\n",
        " (NH4)2SO4 1.73e-07 3455940.0\n",
        " (NH4)2SO4 1.79e-07 3195338.4\n",
        " (NH4)2SO4 1.84e-07 2948877.2\n",
        " (NH4)2SO4 1.90e-07 2716349.6\n",
        " (NH4)2SO4 1.95e-07 2497490.3\n",
        " (NH4)2SO4 2.01e-07 2291981.4\n",
        " (NH4)2SO4 2.07e-07 2099459.7\n",
        " (NH4)2SO4 2.14e-07 1919522.2\n",
        " (NH4)2SO4 2.20e-07 1751733.0\n",
        " (NH4)2SO4 2.27e-07 1595628.6\n",
        " (NH4)2SO4 2.34e-07 1450724.3\n",
        " (NH4)2SO4 2.41e-07 1316519.0\n",
        " (NH4)2SO4 2.48e-07 1192500.3\n",
        " (NH4)2SO4 2.56e-07 1078149.6\n",
        " (NH4)2SO4 2.64e-07 972946.0\n",
        " (NH4)2SO4 2.72e-07 876370.2\n",
        " (NH4)2SO4 2.80e-07 787908.2\n",
        " (NH4)2SO4 2.88e-07 707054.3\n",
        " (NH4)2SO4 2.97e-07 633314.0\n",
        " (NH4)2SO4 3.06e-07 566206.1\n",
        " (NH4)2SO4 3.16e-07 505265.0\n",
        " (NH4)2SO4 3.25e-07 450041.9\n",
        " (NH4)2SO4 3.35e-07 400106.8\n",
        " (NH4)2SO4 3.45e-07 355048.8\n",
        " (NH4)2SO4 3.56e-07 314477.3\n",
        " (NH4)2SO4 3.67e-07 278022.3\n",
        " (NH4)2SO4 3.78e-07 245334.8\n",
        " (NH4)2SO4 3.89e-07 216086.7\n",
        " (NH4)2SO4 4.01e-07 189970.3\n",
        " (NH4)2SO4 4.13e-07 166698.9\n",
        " (NH4)2SO4 4.26e-07 146005.4\n",
        " (NH4)2SO4 4.39e-07 127642.2\n",
        " (NH4)2SO4 4.52e-07 111380.4\n",
        " (NH4)2SO4 4.66e-07 97009.1\n",
        " (NH4)2SO4 4.80e-07 84334.5\n",
        " (NH4)2SO4 4.95e-07 73179.1\n",
        " (NH4)2SO4 5.10e-07 63380.9\n",
        " (NH4)2SO4 5.25e-07 54792.2\n",
        " (NH4)2SO4 5.41e-07 47279.0\n",
        " (NH4)2SO4 5.58e-07 40719.9\n",
        " (NH4)2SO4 5.75e-07 35005.3\n",
        " (NH4)2SO4 5.92e-07 30036.6\n",
        " (NH4)2SO4 6.10e-07 25725.1\n",
        " (NH4)2SO4 6.29e-07 21991.4\n",
        " (NH4)2SO4 6.48e-07 18764.5\n",
        " (NH4)2SO4 6.67e-07 15981.2\n",
        " (NH4)2SO4 6.88e-07 13585.4\n",
        " (NH4)2SO4 7.09e-07 11527.2\n",
        " (NH4)2SO4 7.30e-07 9762.6\n",
        " (NH4)2SO4 7.52e-07 8252.7\n",
        " (NH4)2SO4 7.75e-07 6963.3\n",
        " (NH4)2SO4 7.99e-07 5864.4\n",
        " (NH4)2SO4 8.23e-07 4929.7\n",
        " (NH4)2SO4 8.48e-07 4136.3\n",
        " (NH4)2SO4 8.74e-07 3464.0\n",
        " (NH4)2SO4 9.00e-07 2895.7\n",
        " (NH4)2SO4 9.28e-07 2416.0\n",
        " (NH4)2SO4 9.56e-07 2012.1\n",
        " (NH4)2SO4 9.85e-07 1672.5\n",
        "\n",
        "--------------------------------------------\n",
        "calculating seeds for equilibrium solver...\n",
        " done"
       ]
      },
      {
       "output_type": "stream",
       "stream": "stdout",
       "text": [
        "\n",
        "PARCEL INITIAL CONDITIONS"
       ]
      },
      {
       "output_type": "stream",
       "stream": "stdout",
       "text": [
        "\n",
        "     P (hPa)    T (K)       wv       wc        S\n",
        "      1000.0   279.00  5.8e-03   9.9e-06   -0.00\n",
        "\n",
        "n_steps = 1001\n",
        "\n",
        "Integration successful."
       ]
      },
      {
       "output_type": "stream",
       "stream": "stdout",
       "text": [
        "\n",
        "...done\n"
       ]
      }
     ],
     "prompt_number": 12
    },
    {
     "cell_type": "code",
     "collapsed": false,
     "input": [
      "print parcel.S.max()\n",
      "plot(parcel.P/100., parcel['S'])\n",
      "\n",
      "ghan = pandas.read_csv(\"/Users/daniel/workspace/subgrid/test.csv\")\n",
      "plot(ghan.pressure, ghan.S)\n",
      "\n",
      "xlim(ghan.pressure.min()*0.9999, ghan.pressure.max()*1.0001)\n",
      "\n",
      "figure()"
     ],
     "language": "python",
     "metadata": {},
     "outputs": [
      {
       "output_type": "stream",
       "stream": "stdout",
       "text": [
        "0.0123063053393\n"
       ]
      },
      {
       "output_type": "pyout",
       "prompt_number": 13,
       "text": [
        "<matplotlib.figure.Figure at 0x107bdd790>"
       ]
      },
      {
       "output_type": "display_data",
       "png": "[encoded data removed]"
      }
     ],
     "prompt_number": 13
    },
    {
     "cell_type": "heading",
     "level": 3,
     "metadata": {},
     "source": [
      "Activation analysis"
     ]
    },
    {
     "cell_type": "code",
     "collapsed": false,
     "input": [
      "## Parameterization -\n",
      "Smax, actfracs = activation(V, T0, P0, initial_aerosols)\n",
      "  \n",
      "print \"Ghan/Abdul-Razzak\"\n",
      "print \" frac: %1.3f (%1.4f)\" % (actfrac, Smax)\n",
      "print \"\""
     ],
     "language": "python",
     "metadata": {},
     "outputs": [
      {
       "output_type": "stream",
       "stream": "stdout",
       "text": [
        "Ghan/Abdul-Razzak\n",
        " frac: 0.723 (0.0010)\n",
        "\n"
       ]
      }
     ],
     "prompt_number": 55
    },
    {
     "cell_type": "code",
     "collapsed": false,
     "input": [
      "\n",
      "for actfrac, species in zip(actfracs, aer_species):\n",
      "\n",
      "    print species\n",
      "    aerosol = aerosols2[species]\n",
      "    aer_meta = aer_dict[species]\n",
      "    Nis = aer_meta.Nis\n",
      "\n",
      "    Neq = []\n",
      "    Nkn = []\n",
      "    Nunact = []\n",
      "    S_max = S0\n",
      "\n",
      "    for S, T, i in zip(parcel.S, parcel['T'], xrange(len(parcel.S))):\n",
      "\n",
      "        r_crits, s_crits = zip(*[kohler_crit(T, r_dry, aer_meta.kappa) for r_dry in aer_meta.r_drys])\n",
      "        s_crits = np.array(s_crits)\n",
      "        r_crits = np.array(r_crits)\n",
      "        if S > S_max: S_max = S\n",
      "\n",
      "        big_s =  S_max >= s_crits\n",
      "        Neq.append(np.sum(Nis[big_s]))\n",
      "\n",
      "        rstep = np.array(aerosol.ix[i])\n",
      "        #active_radii = (S > s_crits) | (rstep > r_crits)\n",
      "        active_radii = (rstep > r_crits)\n",
      "        #sar = np.min(active_radii) if len(active_radii) > 0 else 1e99\n",
      "        if len(active_radii) > 0:\n",
      "            Nkn.append(np.sum(Nis[active_radii]))\n",
      "            Nunact.append(np.sum(Nis[(rstep < r_crits)]))\n",
      "        else:\n",
      "            Nkn.append(0.0)\n",
      "            Nunact.append(np.sum(Nis))\n",
      "\n",
      "        print parcel.index[i], Neq[i], Nkn[i], Nunact[i], S_max, S\n",
      "\n",
      "    Neq = np.array(Neq)\n",
      "    Nkn = np.array(Nkn)\n",
      "    Nunact = np.array(Nunact)\n",
      "\n",
      "    parcel[species+'_Neq'] = Neq\n",
      "    parcel[species+'_Nkn'] = Nkn\n",
      "    parcel[species+'_Nunact'] = Nunact\n",
      "\n",
      "    alphaz = Nkn/Neq\n",
      "    alphaz[isnan(alphaz)] = 0.\n",
      "    phiz = Nunact/Nkn\n",
      "    phiz[phiz == inf] = 1.\n",
      "\n",
      "    parcel[species+'_alpha'] = alphaz\n",
      "    parcel[species+'_phi'] = phiz\n",
      "\n",
      "    figure(2)\n",
      "    ax = subplot(3,2,5)\n",
      "    parcel[[species+'_Neq', species+'_Nkn']].plot(ax=ax, grid=True)\n",
      "    xlabel(\"Height\")\n",
      "\n",
      "    subplot(3,2,6)\n",
      "    parcel[species+'_alpha'].plot()\n",
      "    parcel[species+'_phi'].plot()\n",
      "    ylim(0, 1)\n",
      "    xlabel(\"Height\"); ylabel(r'$\\alpha(z),\\quad\\phi(z)$')\n",
      "    print alphaz[-1]    \n",
      "    print \"==\"*35\n",
      "    print species + \" Summary - \"\n",
      "    print \"Max activated fraction (%1.4f)\" % parcel.S.max()\n",
      "    print \"   Eq: \", Neq.max()/np.sum(aer_meta.Nis)\n",
      "    print \"  Kin: \", Nkn.max()/np.sum(aer_meta.Nis)\n",
      "    print \"Ghan/Abdul-Razzak\"\n",
      "    print \" frac: %1.3f (%1.4f)\" % (actfrac, Smax)\n",
      "    print \"\"\n",
      "    print \"Alpha maximum: %2.2f\" % alphaz.max()\n",
      "    print \"  Phi maximum: %2.2f\" % phiz.max()\n",
      "    print \"==\"*35"
     ],
     "language": "python",
     "metadata": {},
     "outputs": [
      {
       "output_type": "stream",
       "stream": "stdout",
       "text": [
        "(NH4)2SO4\n",
        "0.0"
       ]
      },
      {
       "output_type": "stream",
       "stream": "stdout",
       "text": [
        " 0.0 0.0 1000134063.61 -0.0 -0\n",
        "1.0"
       ]
      },
      {
       "output_type": "stream",
       "stream": "stdout",
       "text": [
        " 397888002.086 0.0 1000134063.61 0.000426449191818 0.000426449191818\n",
        "2.0"
       ]
      },
      {
       "output_type": "stream",
       "stream": "stdout",
       "text": [
        " 619068074.164 0.0 1000134063.61 0.000742318071637 0.000742318071637\n",
        "3.0"
       ]
      },
      {
       "output_type": "stream",
       "stream": "stdout",
       "text": [
        " 713070457.546 0.0 1000134063.61 0.00097573908366 0.00097573908366\n",
        "4.0"
       ]
      },
      {
       "output_type": "stream",
       "stream": "stdout",
       "text": [
        " 755550058.067 0.0 1000134063.61 0.00114513844378 0.00114513844378\n",
        "5.0"
       ]
      },
      {
       "output_type": "stream",
       "stream": "stdout",
       "text": [
        " 781868762.166 0.0 1000134063.61 0.0012642840411 0.0012642840411\n",
        "6.0"
       ]
      },
      {
       "output_type": "stream",
       "stream": "stdout",
       "text": [
        " 806476724.173 0.0 1000134063.61 0.00134418264018 0.00134418264018\n",
        "7.0"
       ]
      },
      {
       "output_type": "stream",
       "stream": "stdout",
       "text": [
        " 818119279.746 0.0 1000134063.61 0.00139389617347 0.00139389617347\n",
        "8.0"
       ]
      },
      {
       "output_type": "stream",
       "stream": "stdout",
       "text": [
        " 818119279.746 172956308.88 827177754.733 0.00142090956983 0.00142090956983\n",
        "9.0"
       ]
      },
      {
       "output_type": "stream",
       "stream": "stdout",
       "text": [
        " 818119279.746 281672601.023 718461462.591 0.00143132284166 0.00143132284166\n",
        "10.0"
       ]
      },
      {
       "output_type": "stream",
       "stream": "stdout",
       "text": [
        " 818119279.746 328636266.108 671497797.505 0.00143132284166 0.00142999433909\n",
        "11.0"
       ]
      },
      {
       "output_type": "stream",
       "stream": "stdout",
       "text": [
        " 818119279.746 362822473.697 637311589.917 0.00143132284166 0.00142068679892\n",
        "12.0"
       ]
      },
      {
       "output_type": "stream",
       "stream": "stdout",
       "text": [
        " 818119279.746 408588722.088 591545341.525 0.00143132284166 0.00140622740396\n",
        "13.0"
       ]
      },
      {
       "output_type": "stream",
       "stream": "stdout",
       "text": [
        " 818119279.746 441524348.68 558609714.933 0.00143132284166 0.00138867446792\n",
        "14.0"
       ]
      },
      {
       "output_type": "stream",
       "stream": "stdout",
       "text": [
        " 818119279.746 457642346.907 542491716.706 0.00143132284166 0.00136947828043\n",
        "15.0"
       ]
      },
      {
       "output_type": "stream",
       "stream": "stdout",
       "text": [
        " 818119279.746 473491993.919 526642069.694 0.00143132284166 0.00134962561344\n",
        "16.0"
       ]
      },
      {
       "output_type": "stream",
       "stream": "stdout",
       "text": [
        " 818119279.746 489048685.528 511085378.085 0.00143132284166 0.00132976184234\n",
        "17.0"
       ]
      },
      {
       "output_type": "stream",
       "stream": "stdout",
       "text": [
        " 818119279.746 504289355.112 495844708.501 0.00143132284166 0.00131028895778\n",
        "18.0"
       ]
      },
      {
       "output_type": "stream",
       "stream": "stdout",
       "text": [
        " 818119279.746 519192571.599 480941492.014 0.00143132284166 0.00129144085623\n",
        "19.0"
       ]
      },
      {
       "output_type": "stream",
       "stream": "stdout",
       "text": [
        " 818119279.746 519192571.599 480941492.014 0.00143132284166 0.00127333905186\n",
        "20.0"
       ]
      },
      {
       "output_type": "stream",
       "stream": "stdout",
       "text": [
        " 818119279.746 533738623.397 466395440.216 0.00143132284166 0.00125603256487\n",
        "21.0"
       ]
      },
      {
       "output_type": "stream",
       "stream": "stdout",
       "text": [
        " 818119279.746 535823903.462 464310160.151 0.00143132284166 0.00123952550566\n",
        "22.0"
       ]
      },
      {
       "output_type": "stream",
       "stream": "stdout",
       "text": [
        " 818119279.746 535823903.462 464310160.151 0.00143132284166 0.00122379530584\n",
        "23.0"
       ]
      },
      {
       "output_type": "stream",
       "stream": "stdout",
       "text": [
        " 818119279.746 549603701.119 450530362.494 0.00143132284166 0.0012088042655\n",
        "24.0"
       ]
      },
      {
       "output_type": "stream",
       "stream": "stdout",
       "text": [
        " 818119279.746 549603701.119 450530362.494 0.00143132284166 0.00119450704777\n",
        "25.0"
       ]
      },
      {
       "output_type": "stream",
       "stream": "stdout",
       "text": [
        " 818119279.746 562978135.72 437155927.893 0.00143132284166 0.00118085625436\n",
        "26.0"
       ]
      },
      {
       "output_type": "stream",
       "stream": "stdout",
       "text": [
        " 818119279.746 562978135.72 437155927.893 0.00143132284166 0.00116780694196\n",
        "27.0"
       ]
      },
      {
       "output_type": "stream",
       "stream": "stdout",
       "text": [
        " 818119279.746 575934918.55 424199145.064 0.00143132284166 0.00115531941155\n",
        "28.0"
       ]
      },
      {
       "output_type": "stream",
       "stream": "stdout",
       "text": [
        " 818119279.746 575934918.55 424199145.064 0.00143132284166 0.00114335918057\n",
        "29.0"
       ]
      },
      {
       "output_type": "stream",
       "stream": "stdout",
       "text": [
        " 818119279.746 588463678.398 411670385.215 0.00143132284166 0.00113189472653\n",
        "30.0"
       ]
      },
      {
       "output_type": "stream",
       "stream": "stdout",
       "text": [
        " 818119279.746 588463678.398 411670385.215 0.00143132284166 0.00112089534196\n",
        "31.0"
       ]
      },
      {
       "output_type": "stream",
       "stream": "stdout",
       "text": [
        " 818119279.746 588463678.398 411670385.215 0.00143132284166 0.00111033060602\n",
        "32.0"
       ]
      },
      {
       "output_type": "stream",
       "stream": "stdout",
       "text": [
        " 818119279.746 600555957.067 399578106.546 0.00143132284166 0.00110017102928\n",
        "33.0"
       ]
      },
      {
       "output_type": "stream",
       "stream": "stdout",
       "text": [
        " 818119279.746 600555957.067 399578106.546 0.00143132284166 0.00109038882793\n",
        "34.0"
       ]
      },
      {
       "output_type": "stream",
       "stream": "stdout",
       "text": [
        " 818119279.746 600555957.067 399578106.546 0.00143132284166 0.00108095829178\n",
        "35.0"
       ]
      },
      {
       "output_type": "stream",
       "stream": "stdout",
       "text": [
        " 818119279.746 612205190.991 387928872.622 0.00143132284166 0.00107185571183\n",
        "36.0"
       ]
      },
      {
       "output_type": "stream",
       "stream": "stdout",
       "text": [
        " 818119279.746 612205190.991 387928872.622 0.00143132284166 0.00106305899714\n",
        "37.0"
       ]
      },
      {
       "output_type": "stream",
       "stream": "stdout",
       "text": [
        " 818119279.746 612205190.991 387928872.622 0.00143132284166 0.00105454708522\n",
        "38.0"
       ]
      },
      {
       "output_type": "stream",
       "stream": "stdout",
       "text": [
        " 818119279.746 623406679.626 376727383.988 0.00143132284166 0.00104629919694\n",
        "39.0"
       ]
      },
      {
       "output_type": "stream",
       "stream": "stdout",
       "text": [
        " 818119279.746 623406679.626 376727383.988 0.00143132284166 0.00103829403303\n",
        "40.0"
       ]
      },
      {
       "output_type": "stream",
       "stream": "stdout",
       "text": [
        " 818119279.746 610884401.938 389249661.675 0.00143132284166 0.00103050936229\n",
        "41.0"
       ]
      },
      {
       "output_type": "stream",
       "stream": "stdout",
       "text": [
        " 818119279.746 610884401.938 389249661.675 0.00143132284166 0.00102292344129\n",
        "42.0"
       ]
      },
      {
       "output_type": "stream",
       "stream": "stdout",
       "text": [
        " 818119279.746 621635263.656 378498799.957 0.00143132284166 0.00101552068974\n",
        "43.0"
       ]
      },
      {
       "output_type": "stream",
       "stream": "stdout",
       "text": [
        " 818119279.746 621635263.656 378498799.957 0.00143132284166 0.00100830018148\n",
        "44.0"
       ]
      },
      {
       "output_type": "stream",
       "stream": "stdout",
       "text": [
        " 818119279.746 621635263.656 378498799.957 0.00143132284166 0.00100127485257\n",
        "45.0"
       ]
      },
      {
       "output_type": "stream",
       "stream": "stdout",
       "text": [
        " 818119279.746 621635263.656 378498799.957 0.00143132284166 0.000994455958977\n",
        "46.0"
       ]
      },
      {
       "output_type": "stream",
       "stream": "stdout",
       "text": [
        " 818119279.746 631934380.044 368199683.569 0.00143132284166 0.000987841804474\n",
        "47.0"
       ]
      },
      {
       "output_type": "stream",
       "stream": "stdout",
       "text": [
        " 818119279.746 631934380.044 368199683.569 0.00143132284166 0.000981420816734\n",
        "48.0"
       ]
      },
      {
       "output_type": "stream",
       "stream": "stdout",
       "text": [
        " 818119279.746 631934380.044 368199683.569 0.00143132284166 0.000975178673427\n",
        "49.0"
       ]
      },
      {
       "output_type": "stream",
       "stream": "stdout",
       "text": [
        " 818119279.746 631934380.044 368199683.569 0.00143132284166 0.000969102274424\n",
        "50.0"
       ]
      },
      {
       "output_type": "stream",
       "stream": "stdout",
       "text": [
        " 818119279.746 631934380.044 368199683.569 0.00143132284166 0.000963180747998\n",
        "51.0"
       ]
      },
      {
       "output_type": "stream",
       "stream": "stdout",
       "text": [
        " 818119279.746 641782329.551 358351734.062 0.00143132284166 0.000957405199569\n",
        "52.0"
       ]
      },
      {
       "output_type": "stream",
       "stream": "stdout",
       "text": [
        " 818119279.746 641782329.551 358351734.062 0.00143132284166 0.000951768189807\n",
        "53.0"
       ]
      },
      {
       "output_type": "stream",
       "stream": "stdout",
       "text": [
        " 818119279.746 641782329.551 358351734.062 0.00143132284166 0.000946263288662\n",
        "54.0"
       ]
      },
      {
       "output_type": "stream",
       "stream": "stdout",
       "text": [
        " 818119279.746 641782329.551 358351734.062 0.00143132284166 0.000940884767987\n",
        "55.0"
       ]
      },
      {
       "output_type": "stream",
       "stream": "stdout",
       "text": [
        " 818119279.746 641782329.551 358351734.062 0.00143132284166 0.00093562740766\n",
        "56.0"
       ]
      },
      {
       "output_type": "stream",
       "stream": "stdout",
       "text": [
        " 818119279.746 651181311.537 348952752.076 0.00143132284166 0.000930486377242\n",
        "57.0"
       ]
      },
      {
       "output_type": "stream",
       "stream": "stdout",
       "text": [
        " 818119279.746 651181311.537 348952752.076 0.00143132284166 0.000925457163416\n",
        "58.0"
       ]
      },
      {
       "output_type": "stream",
       "stream": "stdout",
       "text": [
        " 818119279.746 651181311.537 348952752.076 0.00143132284166 0.000920535523793\n",
        "59.0"
       ]
      },
      {
       "output_type": "stream",
       "stream": "stdout",
       "text": [
        " 818119279.746 651181311.537 348952752.076 0.00143132284166 0.000915717455655\n",
        "60.0"
       ]
      },
      {
       "output_type": "stream",
       "stream": "stdout",
       "text": [
        " 818119279.746 651181311.537 348952752.076 0.00143132284166 0.00091099917314\n",
        "61.0"
       ]
      },
      {
       "output_type": "stream",
       "stream": "stdout",
       "text": [
        " 818119279.746 651181311.537 348952752.076 0.00143132284166 0.000906377089364\n",
        "62.0"
       ]
      },
      {
       "output_type": "stream",
       "stream": "stdout",
       "text": [
        " 818119279.746 660135061.825 339999001.788 0.00143132284166 0.000901847801547\n",
        "63.0"
       ]
      },
      {
       "output_type": "stream",
       "stream": "stdout",
       "text": [
        " 818119279.746 660135061.825 339999001.788 0.00143132284166 0.000897408078138\n",
        "64.0"
       ]
      },
      {
       "output_type": "stream",
       "stream": "stdout",
       "text": [
        " 818119279.746 660135061.825 339999001.788 0.00143132284166 0.000893054847355\n",
        "65.0"
       ]
      },
      {
       "output_type": "stream",
       "stream": "stdout",
       "text": [
        " 818119279.746 660135061.825 339999001.788 0.00143132284166 0.000888785186821\n",
        "66.0"
       ]
      },
      {
       "output_type": "stream",
       "stream": "stdout",
       "text": [
        " 818119279.746 660135061.825 339999001.788 0.00143132284166 0.000884596314108\n",
        "67.0"
       ]
      },
      {
       "output_type": "stream",
       "stream": "stdout",
       "text": [
        " 818119279.746 660135061.825 339999001.788 0.00143132284166 0.000880485578045\n",
        "68.0"
       ]
      },
      {
       "output_type": "stream",
       "stream": "stdout",
       "text": [
        " 818119279.746 668648760.907 331485302.706 0.00143132284166 0.00087645045071\n",
        "69.0"
       ]
      },
      {
       "output_type": "stream",
       "stream": "stdout",
       "text": [
        " 818119279.746 668648760.907 331485302.706 0.00143132284166 0.000872488520028\n",
        "70.0"
       ]
      },
      {
       "output_type": "stream",
       "stream": "stdout",
       "text": [
        " 818119279.746 668648760.907 331485302.706 0.00143132284166 0.000868597482912\n",
        "71.0"
       ]
      },
      {
       "output_type": "stream",
       "stream": "stdout",
       "text": [
        " 818119279.746 668648760.907 331485302.706 0.00143132284166 0.000864775138913\n",
        "72.0"
       ]
      },
      {
       "output_type": "stream",
       "stream": "stdout",
       "text": [
        " 818119279.746 668648760.907 331485302.706 0.00143132284166 0.000861019384309\n",
        "73.0"
       ]
      },
      {
       "output_type": "stream",
       "stream": "stdout",
       "text": [
        " 818119279.746 668648760.907 331485302.706 0.00143132284166 0.000857328206627\n",
        "74.0"
       ]
      },
      {
       "output_type": "stream",
       "stream": "stdout",
       "text": [
        " 818119279.746 668648760.907 331485302.706 0.00143132284166 0.000853699679531\n",
        "75.0"
       ]
      },
      {
       "output_type": "stream",
       "stream": "stdout",
       "text": [
        " 818119279.746 668648760.907 331485302.706 0.00143132284166 0.000850131958068\n",
        "76.0"
       ]
      },
      {
       "output_type": "stream",
       "stream": "stdout",
       "text": [
        " 818119279.746 676728935.977 323405127.636 0.00143132284166 0.00084662327423\n",
        "77.0"
       ]
      },
      {
       "output_type": "stream",
       "stream": "stdout",
       "text": [
        " 818119279.746 676728935.977 323405127.636 0.00143132284166 0.000843171932816\n",
        "78.0"
       ]
      },
      {
       "output_type": "stream",
       "stream": "stdout",
       "text": [
        " 818119279.746 676728935.977 323405127.636 0.00143132284166 0.000839776307565\n",
        "79.0"
       ]
      },
      {
       "output_type": "stream",
       "stream": "stdout",
       "text": [
        " 818119279.746 676728935.977 323405127.636 0.00143132284166 0.000836434837537\n",
        "80.0"
       ]
      },
      {
       "output_type": "stream",
       "stream": "stdout",
       "text": [
        " 818119279.746 676728935.977 323405127.636 0.00143132284166 0.000833146023727\n",
        "81.0"
       ]
      },
      {
       "output_type": "stream",
       "stream": "stdout",
       "text": [
        " 818119279.746 676728935.977 323405127.636 0.00143132284166 0.000829908425902\n",
        "82.0"
       ]
      },
      {
       "output_type": "stream",
       "stream": "stdout",
       "text": [
        " 818119279.746 676728935.977 323405127.636 0.00143132284166 0.00082672065962\n",
        "83.0"
       ]
      },
      {
       "output_type": "stream",
       "stream": "stdout",
       "text": [
        " 818119279.746 676728935.977 323405127.636 0.00143132284166 0.000823581393448\n",
        "84.0"
       ]
      },
      {
       "output_type": "stream",
       "stream": "stdout",
       "text": [
        " 818119279.746 684383357.977 315750705.636 0.00143132284166 0.00082048934634\n",
        "85.0"
       ]
      },
      {
       "output_type": "stream",
       "stream": "stdout",
       "text": [
        " 818119279.746 684383357.977 315750705.636 0.00143132284166 0.000817443285181\n",
        "86.0"
       ]
      },
      {
       "output_type": "stream",
       "stream": "stdout",
       "text": [
        " 818119279.746 684383357.977 315750705.636 0.00143132284166 0.00081444202247\n",
        "87.0"
       ]
      },
      {
       "output_type": "stream",
       "stream": "stdout",
       "text": [
        " 818119279.746 684383357.977 315750705.636 0.00143132284166 0.000811484414147\n",
        "88.0"
       ]
      },
      {
       "output_type": "stream",
       "stream": "stdout",
       "text": [
        " 818119279.746 684383357.977 315750705.636 0.00143132284166 0.000808569357539\n",
        "89.0"
       ]
      },
      {
       "output_type": "stream",
       "stream": "stdout",
       "text": [
        " 818119279.746 684383357.977 315750705.636 0.00143132284166 0.000805695789431\n",
        "90.0"
       ]
      },
      {
       "output_type": "stream",
       "stream": "stdout",
       "text": [
        " 818119279.746 684383357.977 315750705.636 0.00143132284166 0.000802862684246\n",
        "91.0"
       ]
      },
      {
       "output_type": "stream",
       "stream": "stdout",
       "text": [
        " 818119279.746 684383357.977 315750705.636 0.00143132284166 0.000800069052323\n",
        "92.0"
       ]
      },
      {
       "output_type": "stream",
       "stream": "stdout",
       "text": [
        " 818119279.746 684383357.977 315750705.636 0.00143132284166 0.000797313938296\n",
        "93.0"
       ]
      },
      {
       "output_type": "stream",
       "stream": "stdout",
       "text": [
        " 818119279.746 684383357.977 315750705.636 0.00143132284166 0.000794596419563\n",
        "94.0"
       ]
      },
      {
       "output_type": "stream",
       "stream": "stdout",
       "text": [
        " 818119279.746 691620934.859 308513128.754 0.00143132284166 0.000791915604832\n",
        "95.0"
       ]
      },
      {
       "output_type": "stream",
       "stream": "stdout",
       "text": [
        " 818119279.746 691620934.859 308513128.754 0.00143132284166 0.000789270632753\n",
        "96.0"
       ]
      },
      {
       "output_type": "stream",
       "stream": "stdout",
       "text": [
        " 818119279.746 691620934.859 308513128.754 0.00143132284166 0.000786660670621\n",
        "97.0"
       ]
      },
      {
       "output_type": "stream",
       "stream": "stdout",
       "text": [
        " 818119279.746 691620934.859 308513128.754 0.00143132284166 0.000784084913144\n",
        "98.0"
       ]
      },
      {
       "output_type": "stream",
       "stream": "stdout",
       "text": [
        " 818119279.746 691620934.859 308513128.754 0.00143132284166 0.000781542581283\n",
        "99.0"
       ]
      },
      {
       "output_type": "stream",
       "stream": "stdout",
       "text": [
        " 818119279.746 691620934.859 308513128.754 0.00143132284166 0.000779032921144\n",
        "100.0"
       ]
      },
      {
       "output_type": "stream",
       "stream": "stdout",
       "text": [
        " 818119279.746 691620934.859 308513128.754 0.00143132284166 0.000776555202933\n",
        "0.845379093221"
       ]
      },
      {
       "output_type": "stream",
       "stream": "stdout",
       "text": [
        "\n",
        "======================================================================\n",
        "(NH4)2SO4 Summary - \n",
        "Max activated fraction (0.0014)\n",
        "   Eq:  0.818009614422\n",
        "  Kin:  0.691528226086\n",
        "Ghan/Abdul-Razzak\n",
        " frac: 0.723 (0.0010)\n",
        "\n",
        "Alpha maximum: 0.85\n",
        "  Phi maximum: 4.78\n",
        "======================================================================\n"
       ]
      },
      {
       "output_type": "display_data",
       "png": "[encoded data removed]"
      }
     ],
     "prompt_number": 54
    },
    {
     "cell_type": "code",
     "collapsed": false,
     "input": [
      "from micro import *\n",
      "from scipy.special import erfc, erf\n",
      "\n",
      "T = T0 # K\n",
      "P = P0 # Pa\n",
      "\n",
      "## Sulfate aerosol, 1 mode\n",
      "sigma = aerosol1.distribution.sigma\n",
      "am = aerosol1.distribution.mu*1e-6\n",
      "N = aerosol1.distribution.N*1e6\n",
      "kappa = aerosol1.kappa\n",
      "Ma = 132.*1e-3\n",
      "rhoa = 1.77*1e3\n",
      "\n",
      "fi = 0.5*np.exp(2.5*(np.log(sigma)**2))\n",
      "gi = 1.0 + 0.25*np.log(sigma)\n",
      "\n",
      "## Smi = (2./np.sqrt(Bi))*((A/(3.*am))**(3./2.))\n",
      "A = (2.*sigma_w(T)*Mw)/(rho_w*R*T)\n",
      "Bi = (3.*1.*1.*Mw*rhoa)/(Ma*rho_w)\n",
      "Smi = (2./np.sqrt(Bi))*((A/(3.*am))**1.5)\n",
      "_, Smi2 = kohler_crit(T, am, kappa)\n",
      "\n",
      "print Smi, Smi2\n",
      "\n",
      "G_a = (rho_w*R*T)/(es(T-273.15)*Dv*Mw)\n",
      "G_b = (L*rho_w*((L*Mw/(R*T))-1))/(ka(T)*T)\n",
      "G = 1./(G_a + G_b)\n",
      "\n",
      "alpha = (g*Mw*L)/(Cp*R*(T**2)) - (G*Ma)/(R*T)\n",
      "gamma = (R*T)/(es(T-273.15)*Mw) + (Mw*(L**2))/(Cp*Ma*T*P)\n",
      "\n",
      "zeta = (2./3.)*A*(np.sqrt(alpha*V/G))\n",
      "etai = ((alpha*V/G)**(3./2.))/(N*gamma*rho_w*2.*np.pi)\n",
      "\n",
      "##\n",
      "Spa = fi*((zeta/etai)**(1.5))\n",
      "Spb = gi*(((Smi**2)/(etai + 3.*zeta))**(0.75))\n",
      "S_part = (1./(Smi**2))*(Spa + Spb)\n",
      "Smax = 1./np.sqrt(S_part)\n",
      "\n",
      "ac = am*((Smi/Smax)**(2./3.))\n",
      "u = 2.*np.log(Smi/Smax)/(3.*np.sqrt(2)*np.log(sigma))\n",
      "u2 = 2.*np.log(Smi2/Smax)/(3.*np.sqrt(2)*np.log(sigma))\n",
      "\n",
      "N_act = 0.5*N*erfc(u)\n",
      "N_act2 = 0.5*N*erfc(u2)\n",
      "\n",
      "print Smax\n",
      "print \"osmotic\", N_act, N_act/N\n",
      "print \"kappa\", N_act2, N_act2/N\n",
      "print \"parcel\", Neq.max(), Neq.max()/np.sum(aer_meta.Nis)\n",
      "\n",
      "x = np.linspace(-3, 3, 1000)\n",
      "plot(x, erfc(x))\n",
      "plot(u, erfc(u), marker='o', markersize=14)\n",
      "plot(u2, erfc(u2), marker='d', color='r', markersize=14)"
     ],
     "language": "python",
     "metadata": {},
     "outputs": [
      {
       "output_type": "stream",
       "stream": "stdout",
       "text": [
        "0.00142360920628 0.00156508511166\n",
        "0.00479801709565\n",
        "osmotic 87871558.7945 0.878715587945\n",
        "kappa 85936366.3345 0.859363663345\n",
        "parcel 81811927.9746 0.818009614422\n"
       ]
      },
      {
       "output_type": "pyout",
       "prompt_number": 14,
       "text": [
        "[<matplotlib.lines.Line2D at 0x10c7cfc90>]"
       ]
      },
      {
       "output_type": "display_data",
       "png": "[encoded data removed]"
      }
     ],
     "prompt_number": 14
    },
    {
     "cell_type": "code",
     "collapsed": false,
     "input": [
      "print G_a\n",
      "print G_b\n",
      "print G"
     ],
     "language": "python",
     "metadata": {},
     "outputs": [
      {
       "output_type": "stream",
       "stream": "stdout",
       "text": [
        "1836299021.13\n",
        "5850759802.18\n",
        "1.30088766456e-10\n"
       ]
      }
     ],
     "prompt_number": 15
    },
    {
     "cell_type": "code",
     "collapsed": false,
     "input": [
      "f = figure()\n",
      "ax1 = f.add_subplot(111)\n",
      "rp = aerosols['NaCl'].r000.plot()\n",
      "sp = parcel.S.plot(ax=ax1, secondary_y=True, color='r')\n",
      "ylim(-0.02, 0.02)\n",
      "\n",
      "max_idx = np.argmax(parcel.S)\n",
      "t_at_max = parcel['T'][max_idx]\n",
      "z_at_max = parcel.index[max_idx]\n",
      "print parcel.S.max(), t_at_max\n",
      "\n",
      "rcs, scs = kohler_crit(t_at_max, aerosol2.r_drys[0], aerosol2.kappa)\n",
      "print rcs, scs\n",
      "plot(z_at_max, scs, marker='o', color='r')\n",
      "ax1.plot(z_at_max, rcs, marker='o')"
     ],
     "language": "python",
     "metadata": {},
     "outputs": [
      {
       "output_type": "stream",
       "stream": "stdout",
       "text": [
        "0.00396607892506 285.109613557\n",
        "1.04005961952e-09 1.54491577539\n"
       ]
      },
      {
       "output_type": "pyout",
       "prompt_number": 69,
       "text": [
        "[<matplotlib.lines.Line2D at 0x1116b14d0>]"
       ]
      },
      {
       "output_type": "display_data",
       "png": "[encoded data removed]"
      }
     ],
     "prompt_number": 69
    },
    {
     "cell_type": "code",
     "collapsed": false,
     "input": [
      "parcel.Tv = (1. + 0.61*parcel.wv)*parcel['T']\n",
      "parcel.rho = parcel.P/(Rd*parcel.Tv)\n",
      "r_eff_eq = r_eff(parcel.rho, parcel.wc, parcel['(NH4)2SO4_Neq'])*1e6\n",
      "r_eff_kn = r_eff(parcel.rho, parcel.wc, parcel['(NH4)2SO4_Nkn'])*1e6\n",
      "\n",
      "plot(parcel.index, r_eff_eq)\n",
      "plot(parcel.index, r_eff_kn)"
     ],
     "language": "python",
     "metadata": {},
     "outputs": [
      {
       "output_type": "pyout",
       "prompt_number": 42,
       "text": [
        "[<matplotlib.lines.Line2D at 0x10b494b10>]"
       ]
      },
      {
       "output_type": "display_data",
       "png": "[encoded data removed]"
      }
     ],
     "prompt_number": 42
    },
    {
     "cell_type": "code",
     "collapsed": false,
     "input": [],
     "language": "python",
     "metadata": {},
     "outputs": []
    }
   ],
   "metadata": {}
  }
 ]
}