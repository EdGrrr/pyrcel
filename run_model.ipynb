{
 "metadata": {
  "name": "run_model"
 },
 "nbformat": 3,
 "nbformat_minor": 0,
 "worksheets": [
  {
   "cells": [
    {
     "cell_type": "heading",
     "level": 2,
     "metadata": {},
     "source": [
      "Parcel model quick setup and run"
     ]
    },
    {
     "cell_type": "code",
     "collapsed": false,
     "input": [
      "from lognorm import Lognorm\n",
      "from parcel import ParcelModel, AerosolSpecies\n",
      "#from micro import kohler_crit, Rd, r_eff, activation\n",
      "import pandas"
     ],
     "language": "python",
     "metadata": {},
     "outputs": [],
     "prompt_number": 2
    },
    {
     "cell_type": "heading",
     "level": 4,
     "metadata": {},
     "source": [
      "Set the parcel's initial environmental conditions"
     ]
    },
    {
     "cell_type": "code",
     "collapsed": false,
     "input": [
      "P0 = 80000. # Pressure, Pa\n",
      "T0 = 283.15 # Temperature, K\n",
      "S0 = -0.00 # Supersaturation. 1-RH from wv term\n",
      "V = 1.0 # m/s"
     ],
     "language": "python",
     "metadata": {},
     "outputs": [],
     "prompt_number": 3
    },
    {
     "cell_type": "heading",
     "level": 4,
     "metadata": {},
     "source": [
      "Add aerosols to the parcel"
     ]
    },
    {
     "cell_type": "code",
     "collapsed": false,
     "input": [
      "aerosol1 = AerosolSpecies('(NH4)2SO4', Lognorm(mu=0.04, sigma=2.5, N=1000.),\n",
      "                          bins=200, kappa=0.71)\n",
      "aerosol1.rho = 1760.\n",
      "#aerosol2 = AerosolSpecies('NaCl', {'r_drys': [0.05, ], 'Nis': [10000.0, ]}, kappa=0.1)\n",
      "aerosol2 = AerosolSpecies('NaCl', Lognorm(mu=0.05, sigma=2.0, N=100.),\n",
      "                          bins=200, kappa=0.05)\n",
      "\n",
      "#initial_aerosols = [aerosol1, aerosol2, ]\n",
      "initial_aerosols = [aerosol1, ]\n",
      "\n",
      "aer_species = [a.species for a in initial_aerosols]\n",
      "aer_dict = dict()\n",
      "for aerosol in initial_aerosols:\n",
      "    aer_dict[aerosol.species] = aerosol\n",
      "\n",
      "## Plot the size distribution:\n",
      "figure(2, figsize=(12,10))\n",
      "clf()\n",
      "subplot(3,2,1)\n",
      "colors = 'bgrcmyk'\n",
      "for i, aerosol in enumerate(initial_aerosols):\n",
      "    rs, Nis = aerosol.rs, aerosol.Nis\n",
      "    bar(rs[:-1], Nis/np.diff(rs)*1e-6, diff(rs), color=colors[i], alpha=0.5)\n",
      "semilogx()\n",
      "xlabel(r'dry radius ($\\mu$m)'); ylabel(r'N ($m^{-3}$)')"
     ],
     "language": "python",
     "metadata": {},
     "outputs": [
      {
       "output_type": "pyout",
       "prompt_number": 4,
       "text": [
        "<matplotlib.text.Text at 0x107597490>"
       ]
      },
      {
       "output_type": "display_data",
       "png": "[encoded data removed]"
      }
     ],
     "prompt_number": 4
    },
    {
     "cell_type": "heading",
     "level": 4,
     "metadata": {},
     "source": [
      "Setup and run the model"
     ]
    },
    {
     "cell_type": "code",
     "collapsed": false,
     "input": [
      "z_top = 100.0 # meters\n",
      "dt = 0.01 # seconds\n",
      "\n",
      "pm = ParcelModel(initial_aerosols, V, T0, S0, P0, console=False)\n",
      "parcel, aerosols = pm.run(z_top, dt)\n",
      "\n",
      "print \"...done\"\n",
      "\n",
      "xs = np.arange(501)\n",
      "parcel = parcel.ix[parcel.index % 1 == 0]\n",
      "aero_subset = {}\n",
      "for key in aerosols:\n",
      "    aerosol = aerosols[key]\n",
      "    subset = aerosol.ix[aerosol.index % 1 == 0]\n",
      "    aero_subset[key] = subset\n",
      "aerosols2 = aero_subset\n",
      "\n",
      "###\n",
      "## Unpack the aerosol data for the Ghan code\n",
      "na = [a.N for a in initial_aerosols]\n",
      "sig = [a.sigma for a in initial_aerosols]\n",
      "rhodry = [a.rho*1e-3 for a in initial_aerosols]\n",
      "hygro = [a.kappa for a in initial_aerosols]\n",
      "rad = [a.mu for a in initial_aerosols]\n",
      "\n",
      "## Call Ghan code\n",
      "#import ghan_act\n",
      "#fn, smax = ghan_act.activation(T0, P0/100., V*100., True,\n",
      "#                               na, sig, rhodry, hygro, rad)"
     ],
     "language": "python",
     "metadata": {},
     "outputs": [
      {
       "output_type": "stream",
       "stream": "stdout",
       "text": [
        "...done\n"
       ]
      }
     ],
     "prompt_number": 5
    },
    {
     "cell_type": "code",
     "collapsed": false,
     "input": [
      "print parcel.S.max()\n",
      "plot(parcel.P/100., parcel['S'])\n",
      "\n",
      "ghan = pandas.read_csv(\"fort.100\")\n",
      "plot(ghan.press, ghan.supersat)\n",
      "\n",
      "xlim(ghan.press.min()*0.9999, ghan.press.max()*1.0001)\n",
      "\n",
      "figure()"
     ],
     "language": "python",
     "metadata": {},
     "outputs": [
      {
       "ename": "ValueError",
       "evalue": "could not convert string to float: ",
       "output_type": "pyerr",
       "traceback": [
        "\u001b[0;31m---------------------------------------------------------------------------\u001b[0m\n\u001b[0;31mValueError\u001b[0m                                Traceback (most recent call last)",
        "\u001b[0;32m<ipython-input-6-3f89f094c65c>\u001b[0m in \u001b[0;36m<module>\u001b[0;34m()\u001b[0m\n\u001b[1;32m      3\u001b[0m \u001b[0;34m\u001b[0m\u001b[0m\n\u001b[1;32m      4\u001b[0m \u001b[0mghan\u001b[0m \u001b[0;34m=\u001b[0m \u001b[0mpandas\u001b[0m\u001b[0;34m.\u001b[0m\u001b[0mread_csv\u001b[0m\u001b[0;34m(\u001b[0m\u001b[0;34m\"fort.100\"\u001b[0m\u001b[0;34m)\u001b[0m\u001b[0;34m\u001b[0m\u001b[0m\n\u001b[0;32m----> 5\u001b[0;31m \u001b[0mplot\u001b[0m\u001b[0;34m(\u001b[0m\u001b[0mghan\u001b[0m\u001b[0;34m.\u001b[0m\u001b[0mpress\u001b[0m\u001b[0;34m,\u001b[0m \u001b[0mghan\u001b[0m\u001b[0;34m.\u001b[0m\u001b[0msupersat\u001b[0m\u001b[0;34m)\u001b[0m\u001b[0;34m\u001b[0m\u001b[0m\n\u001b[0m\u001b[1;32m      6\u001b[0m \u001b[0;34m\u001b[0m\u001b[0m\n\u001b[1;32m      7\u001b[0m \u001b[0mxlim\u001b[0m\u001b[0;34m(\u001b[0m\u001b[0mghan\u001b[0m\u001b[0;34m.\u001b[0m\u001b[0mpress\u001b[0m\u001b[0;34m.\u001b[0m\u001b[0mmin\u001b[0m\u001b[0;34m(\u001b[0m\u001b[0;34m)\u001b[0m\u001b[0;34m*\u001b[0m\u001b[0;36m0.9999\u001b[0m\u001b[0;34m,\u001b[0m \u001b[0mghan\u001b[0m\u001b[0;34m.\u001b[0m\u001b[0mpress\u001b[0m\u001b[0;34m.\u001b[0m\u001b[0mmax\u001b[0m\u001b[0;34m(\u001b[0m\u001b[0;34m)\u001b[0m\u001b[0;34m*\u001b[0m\u001b[0;36m1.0001\u001b[0m\u001b[0;34m)\u001b[0m\u001b[0;34m\u001b[0m\u001b[0m\n",
        "\u001b[0;32m/Users/daniel/anaconda/lib/python2.7/site-packages/matplotlib/pyplot.pyc\u001b[0m in \u001b[0;36mplot\u001b[0;34m(*args, **kwargs)\u001b[0m\n\u001b[1;32m   2815\u001b[0m         \u001b[0max\u001b[0m\u001b[0;34m.\u001b[0m\u001b[0mhold\u001b[0m\u001b[0;34m(\u001b[0m\u001b[0mhold\u001b[0m\u001b[0;34m)\u001b[0m\u001b[0;34m\u001b[0m\u001b[0m\n\u001b[1;32m   2816\u001b[0m     \u001b[0;32mtry\u001b[0m\u001b[0;34m:\u001b[0m\u001b[0;34m\u001b[0m\u001b[0m\n\u001b[0;32m-> 2817\u001b[0;31m         \u001b[0mret\u001b[0m \u001b[0;34m=\u001b[0m \u001b[0max\u001b[0m\u001b[0;34m.\u001b[0m\u001b[0mplot\u001b[0m\u001b[0;34m(\u001b[0m\u001b[0;34m*\u001b[0m\u001b[0margs\u001b[0m\u001b[0;34m,\u001b[0m \u001b[0;34m**\u001b[0m\u001b[0mkwargs\u001b[0m\u001b[0;34m)\u001b[0m\u001b[0;34m\u001b[0m\u001b[0m\n\u001b[0m\u001b[1;32m   2818\u001b[0m         \u001b[0mdraw_if_interactive\u001b[0m\u001b[0;34m(\u001b[0m\u001b[0;34m)\u001b[0m\u001b[0;34m\u001b[0m\u001b[0m\n\u001b[1;32m   2819\u001b[0m     \u001b[0;32mfinally\u001b[0m\u001b[0;34m:\u001b[0m\u001b[0;34m\u001b[0m\u001b[0m\n",
        "\u001b[0;32m/Users/daniel/anaconda/lib/python2.7/site-packages/matplotlib/axes.pyc\u001b[0m in \u001b[0;36mplot\u001b[0;34m(self, *args, **kwargs)\u001b[0m\n\u001b[1;32m   3995\u001b[0m \u001b[0;34m\u001b[0m\u001b[0m\n\u001b[1;32m   3996\u001b[0m         \u001b[0;32mfor\u001b[0m \u001b[0mline\u001b[0m \u001b[0;32min\u001b[0m \u001b[0mself\u001b[0m\u001b[0;34m.\u001b[0m\u001b[0m_get_lines\u001b[0m\u001b[0;34m(\u001b[0m\u001b[0;34m*\u001b[0m\u001b[0margs\u001b[0m\u001b[0;34m,\u001b[0m \u001b[0;34m**\u001b[0m\u001b[0mkwargs\u001b[0m\u001b[0;34m)\u001b[0m\u001b[0;34m:\u001b[0m\u001b[0;34m\u001b[0m\u001b[0m\n\u001b[0;32m-> 3997\u001b[0;31m             \u001b[0mself\u001b[0m\u001b[0;34m.\u001b[0m\u001b[0madd_line\u001b[0m\u001b[0;34m(\u001b[0m\u001b[0mline\u001b[0m\u001b[0;34m)\u001b[0m\u001b[0;34m\u001b[0m\u001b[0m\n\u001b[0m\u001b[1;32m   3998\u001b[0m             \u001b[0mlines\u001b[0m\u001b[0;34m.\u001b[0m\u001b[0mappend\u001b[0m\u001b[0;34m(\u001b[0m\u001b[0mline\u001b[0m\u001b[0;34m)\u001b[0m\u001b[0;34m\u001b[0m\u001b[0m\n\u001b[1;32m   3999\u001b[0m \u001b[0;34m\u001b[0m\u001b[0m\n",
        "\u001b[0;32m/Users/daniel/anaconda/lib/python2.7/site-packages/matplotlib/axes.pyc\u001b[0m in \u001b[0;36madd_line\u001b[0;34m(self, line)\u001b[0m\n\u001b[1;32m   1505\u001b[0m             \u001b[0mline\u001b[0m\u001b[0;34m.\u001b[0m\u001b[0mset_clip_path\u001b[0m\u001b[0;34m(\u001b[0m\u001b[0mself\u001b[0m\u001b[0;34m.\u001b[0m\u001b[0mpatch\u001b[0m\u001b[0;34m)\u001b[0m\u001b[0;34m\u001b[0m\u001b[0m\n\u001b[1;32m   1506\u001b[0m \u001b[0;34m\u001b[0m\u001b[0m\n\u001b[0;32m-> 1507\u001b[0;31m         \u001b[0mself\u001b[0m\u001b[0;34m.\u001b[0m\u001b[0m_update_line_limits\u001b[0m\u001b[0;34m(\u001b[0m\u001b[0mline\u001b[0m\u001b[0;34m)\u001b[0m\u001b[0;34m\u001b[0m\u001b[0m\n\u001b[0m\u001b[1;32m   1508\u001b[0m         \u001b[0;32mif\u001b[0m \u001b[0;32mnot\u001b[0m \u001b[0mline\u001b[0m\u001b[0;34m.\u001b[0m\u001b[0mget_label\u001b[0m\u001b[0;34m(\u001b[0m\u001b[0;34m)\u001b[0m\u001b[0;34m:\u001b[0m\u001b[0;34m\u001b[0m\u001b[0m\n\u001b[1;32m   1509\u001b[0m             \u001b[0mline\u001b[0m\u001b[0;34m.\u001b[0m\u001b[0mset_label\u001b[0m\u001b[0;34m(\u001b[0m\u001b[0;34m'_line%d'\u001b[0m \u001b[0;34m%\u001b[0m \u001b[0mlen\u001b[0m\u001b[0;34m(\u001b[0m\u001b[0mself\u001b[0m\u001b[0;34m.\u001b[0m\u001b[0mlines\u001b[0m\u001b[0;34m)\u001b[0m\u001b[0;34m)\u001b[0m\u001b[0;34m\u001b[0m\u001b[0m\n",
        "\u001b[0;32m/Users/daniel/anaconda/lib/python2.7/site-packages/matplotlib/axes.pyc\u001b[0m in \u001b[0;36m_update_line_limits\u001b[0;34m(self, line)\u001b[0m\n\u001b[1;32m   1514\u001b[0m     \u001b[0;32mdef\u001b[0m \u001b[0m_update_line_limits\u001b[0m\u001b[0;34m(\u001b[0m\u001b[0mself\u001b[0m\u001b[0;34m,\u001b[0m \u001b[0mline\u001b[0m\u001b[0;34m)\u001b[0m\u001b[0;34m:\u001b[0m\u001b[0;34m\u001b[0m\u001b[0m\n\u001b[1;32m   1515\u001b[0m         \u001b[0;34m\"\"\"Figures out the data limit of the given line, updating self.dataLim.\"\"\"\u001b[0m\u001b[0;34m\u001b[0m\u001b[0m\n\u001b[0;32m-> 1516\u001b[0;31m         \u001b[0mpath\u001b[0m \u001b[0;34m=\u001b[0m \u001b[0mline\u001b[0m\u001b[0;34m.\u001b[0m\u001b[0mget_path\u001b[0m\u001b[0;34m(\u001b[0m\u001b[0;34m)\u001b[0m\u001b[0;34m\u001b[0m\u001b[0m\n\u001b[0m\u001b[1;32m   1517\u001b[0m         \u001b[0;32mif\u001b[0m \u001b[0mpath\u001b[0m\u001b[0;34m.\u001b[0m\u001b[0mvertices\u001b[0m\u001b[0;34m.\u001b[0m\u001b[0msize\u001b[0m \u001b[0;34m==\u001b[0m \u001b[0;36m0\u001b[0m\u001b[0;34m:\u001b[0m\u001b[0;34m\u001b[0m\u001b[0m\n\u001b[1;32m   1518\u001b[0m             \u001b[0;32mreturn\u001b[0m\u001b[0;34m\u001b[0m\u001b[0m\n",
        "\u001b[0;32m/Users/daniel/anaconda/lib/python2.7/site-packages/matplotlib/lines.pyc\u001b[0m in \u001b[0;36mget_path\u001b[0;34m(self)\u001b[0m\n\u001b[1;32m    675\u001b[0m         \"\"\"\n\u001b[1;32m    676\u001b[0m         \u001b[0;32mif\u001b[0m \u001b[0mself\u001b[0m\u001b[0;34m.\u001b[0m\u001b[0m_invalidy\u001b[0m \u001b[0;32mor\u001b[0m \u001b[0mself\u001b[0m\u001b[0;34m.\u001b[0m\u001b[0m_invalidx\u001b[0m\u001b[0;34m:\u001b[0m\u001b[0;34m\u001b[0m\u001b[0m\n\u001b[0;32m--> 677\u001b[0;31m             \u001b[0mself\u001b[0m\u001b[0;34m.\u001b[0m\u001b[0mrecache\u001b[0m\u001b[0;34m(\u001b[0m\u001b[0;34m)\u001b[0m\u001b[0;34m\u001b[0m\u001b[0m\n\u001b[0m\u001b[1;32m    678\u001b[0m         \u001b[0;32mreturn\u001b[0m \u001b[0mself\u001b[0m\u001b[0;34m.\u001b[0m\u001b[0m_path\u001b[0m\u001b[0;34m\u001b[0m\u001b[0m\n\u001b[1;32m    679\u001b[0m \u001b[0;34m\u001b[0m\u001b[0m\n",
        "\u001b[0;32m/Users/daniel/anaconda/lib/python2.7/site-packages/matplotlib/lines.pyc\u001b[0m in \u001b[0;36mrecache\u001b[0;34m(self, always)\u001b[0m\n\u001b[1;32m    399\u001b[0m                 \u001b[0mx\u001b[0m \u001b[0;34m=\u001b[0m \u001b[0mma\u001b[0m\u001b[0;34m.\u001b[0m\u001b[0masarray\u001b[0m\u001b[0;34m(\u001b[0m\u001b[0mxconv\u001b[0m\u001b[0;34m,\u001b[0m \u001b[0mnp\u001b[0m\u001b[0;34m.\u001b[0m\u001b[0mfloat_\u001b[0m\u001b[0;34m)\u001b[0m\u001b[0;34m\u001b[0m\u001b[0m\n\u001b[1;32m    400\u001b[0m             \u001b[0;32melse\u001b[0m\u001b[0;34m:\u001b[0m\u001b[0;34m\u001b[0m\u001b[0m\n\u001b[0;32m--> 401\u001b[0;31m                 \u001b[0mx\u001b[0m \u001b[0;34m=\u001b[0m \u001b[0mnp\u001b[0m\u001b[0;34m.\u001b[0m\u001b[0masarray\u001b[0m\u001b[0;34m(\u001b[0m\u001b[0mxconv\u001b[0m\u001b[0;34m,\u001b[0m \u001b[0mnp\u001b[0m\u001b[0;34m.\u001b[0m\u001b[0mfloat_\u001b[0m\u001b[0;34m)\u001b[0m\u001b[0;34m\u001b[0m\u001b[0m\n\u001b[0m\u001b[1;32m    402\u001b[0m             \u001b[0mx\u001b[0m \u001b[0;34m=\u001b[0m \u001b[0mx\u001b[0m\u001b[0;34m.\u001b[0m\u001b[0mravel\u001b[0m\u001b[0;34m(\u001b[0m\u001b[0;34m)\u001b[0m\u001b[0;34m\u001b[0m\u001b[0m\n\u001b[1;32m    403\u001b[0m         \u001b[0;32melse\u001b[0m\u001b[0;34m:\u001b[0m\u001b[0;34m\u001b[0m\u001b[0m\n",
        "\u001b[0;32m/Users/daniel/anaconda/lib/python2.7/site-packages/numpy/core/numeric.pyc\u001b[0m in \u001b[0;36masarray\u001b[0;34m(a, dtype, order)\u001b[0m\n\u001b[1;32m    318\u001b[0m \u001b[0;34m\u001b[0m\u001b[0m\n\u001b[1;32m    319\u001b[0m     \"\"\"\n\u001b[0;32m--> 320\u001b[0;31m     \u001b[0;32mreturn\u001b[0m \u001b[0marray\u001b[0m\u001b[0;34m(\u001b[0m\u001b[0ma\u001b[0m\u001b[0;34m,\u001b[0m \u001b[0mdtype\u001b[0m\u001b[0;34m,\u001b[0m \u001b[0mcopy\u001b[0m\u001b[0;34m=\u001b[0m\u001b[0mFalse\u001b[0m\u001b[0;34m,\u001b[0m \u001b[0morder\u001b[0m\u001b[0;34m=\u001b[0m\u001b[0morder\u001b[0m\u001b[0;34m)\u001b[0m\u001b[0;34m\u001b[0m\u001b[0m\n\u001b[0m\u001b[1;32m    321\u001b[0m \u001b[0;34m\u001b[0m\u001b[0m\n\u001b[1;32m    322\u001b[0m \u001b[0;32mdef\u001b[0m \u001b[0masanyarray\u001b[0m\u001b[0;34m(\u001b[0m\u001b[0ma\u001b[0m\u001b[0;34m,\u001b[0m \u001b[0mdtype\u001b[0m\u001b[0;34m=\u001b[0m\u001b[0mNone\u001b[0m\u001b[0;34m,\u001b[0m \u001b[0morder\u001b[0m\u001b[0;34m=\u001b[0m\u001b[0mNone\u001b[0m\u001b[0;34m)\u001b[0m\u001b[0;34m:\u001b[0m\u001b[0;34m\u001b[0m\u001b[0m\n",
        "\u001b[0;31mValueError\u001b[0m: could not convert string to float: "
       ]
      },
      {
       "output_type": "stream",
       "stream": "stdout",
       "text": [
        "0.0028331128723\n"
       ]
      },
      {
       "output_type": "display_data",
       "png": "[encoded data removed]"
      }
     ],
     "prompt_number": 6
    },
    {
     "cell_type": "heading",
     "level": 3,
     "metadata": {},
     "source": [
      "Activation analysis"
     ]
    },
    {
     "cell_type": "code",
     "collapsed": false,
     "input": [
      "## Parameterization -\n",
      "Smax, actfracs = activation(V, T0, P0, initial_aerosols)\n",
      "  \n",
      "print \"Ghan/Abdul-Razzak\"\n",
      "print \" frac: %1.3f (%1.4f)\" % (actfrac, Smax)\n",
      "print \"\""
     ],
     "language": "python",
     "metadata": {},
     "outputs": [
      {
       "output_type": "stream",
       "stream": "stdout",
       "text": [
        "Ghan/Abdul-Razzak\n",
        " frac: 0.723 (0.0010)\n",
        "\n"
       ]
      }
     ],
     "prompt_number": 55
    },
    {
     "cell_type": "code",
     "collapsed": false,
     "input": [
      "\n",
      "for actfrac, species in zip(actfracs, aer_species):\n",
      "\n",
      "    print species\n",
      "    aerosol = aerosols2[species]\n",
      "    aer_meta = aer_dict[species]\n",
      "    Nis = aer_meta.Nis\n",
      "\n",
      "    Neq = []\n",
      "    Nkn = []\n",
      "    Nunact = []\n",
      "    S_max = S0\n",
      "\n",
      "    for S, T, i in zip(parcel.S, parcel['T'], xrange(len(parcel.S))):\n",
      "\n",
      "        r_crits, s_crits = zip(*[kohler_crit(T, r_dry, aer_meta.kappa) for r_dry in aer_meta.r_drys])\n",
      "        s_crits = np.array(s_crits)\n",
      "        r_crits = np.array(r_crits)\n",
      "        if S > S_max: S_max = S\n",
      "\n",
      "        big_s =  S_max >= s_crits\n",
      "        Neq.append(np.sum(Nis[big_s]))\n",
      "\n",
      "        rstep = np.array(aerosol.ix[i])\n",
      "        #active_radii = (S > s_crits) | (rstep > r_crits)\n",
      "        active_radii = (rstep > r_crits)\n",
      "        #sar = np.min(active_radii) if len(active_radii) > 0 else 1e99\n",
      "        if len(active_radii) > 0:\n",
      "            Nkn.append(np.sum(Nis[active_radii]))\n",
      "            Nunact.append(np.sum(Nis[(rstep < r_crits)]))\n",
      "        else:\n",
      "            Nkn.append(0.0)\n",
      "            Nunact.append(np.sum(Nis))\n",
      "\n",
      "        print parcel.index[i], Neq[i], Nkn[i], Nunact[i], S_max, S\n",
      "\n",
      "    Neq = np.array(Neq)\n",
      "    Nkn = np.array(Nkn)\n",
      "    Nunact = np.array(Nunact)\n",
      "\n",
      "    parcel[species+'_Neq'] = Neq\n",
      "    parcel[species+'_Nkn'] = Nkn\n",
      "    parcel[species+'_Nunact'] = Nunact\n",
      "\n",
      "    alphaz = Nkn/Neq\n",
      "    alphaz[isnan(alphaz)] = 0.\n",
      "    phiz = Nunact/Nkn\n",
      "    phiz[phiz == inf] = 1.\n",
      "\n",
      "    parcel[species+'_alpha'] = alphaz\n",
      "    parcel[species+'_phi'] = phiz\n",
      "\n",
      "    figure(2)\n",
      "    ax = subplot(3,2,5)\n",
      "    parcel[[species+'_Neq', species+'_Nkn']].plot(ax=ax, grid=True)\n",
      "    xlabel(\"Height\")\n",
      "\n",
      "    subplot(3,2,6)\n",
      "    parcel[species+'_alpha'].plot()\n",
      "    parcel[species+'_phi'].plot()\n",
      "    ylim(0, 1)\n",
      "    xlabel(\"Height\"); ylabel(r'$\\alpha(z),\\quad\\phi(z)$')\n",
      "    print alphaz[-1]    \n",
      "    print \"==\"*35\n",
      "    print species + \" Summary - \"\n",
      "    print \"Max activated fraction (%1.4f)\" % parcel.S.max()\n",
      "    print \"   Eq: \", Neq.max()/np.sum(aer_meta.Nis)\n",
      "    print \"  Kin: \", Nkn.max()/np.sum(aer_meta.Nis)\n",
      "    print \"Ghan/Abdul-Razzak\"\n",
      "    print \" frac: %1.3f (%1.4f)\" % (actfrac, Smax)\n",
      "    print \"\"\n",
      "    print \"Alpha maximum: %2.2f\" % alphaz.max()\n",
      "    print \"  Phi maximum: %2.2f\" % phiz.max()\n",
      "    print \"==\"*35"
     ],
     "language": "python",
     "metadata": {},
     "outputs": [
      {
       "output_type": "stream",
       "stream": "stdout",
       "text": [
        "(NH4)2SO4\n",
        "0.0"
       ]
      },
      {
       "output_type": "stream",
       "stream": "stdout",
       "text": [
        " 0.0 0.0 1000134063.61 -0.0 -0\n",
        "1.0"
       ]
      },
      {
       "output_type": "stream",
       "stream": "stdout",
       "text": [
        " 397888002.086 0.0 1000134063.61 0.000426449191818 0.000426449191818\n",
        "2.0"
       ]
      },
      {
       "output_type": "stream",
       "stream": "stdout",
       "text": [
        " 619068074.164 0.0 1000134063.61 0.000742318071637 0.000742318071637\n",
        "3.0"
       ]
      },
      {
       "output_type": "stream",
       "stream": "stdout",
       "text": [
        " 713070457.546 0.0 1000134063.61 0.00097573908366 0.00097573908366\n",
        "4.0"
       ]
      },
      {
       "output_type": "stream",
       "stream": "stdout",
       "text": [
        " 755550058.067 0.0 1000134063.61 0.00114513844378 0.00114513844378\n",
        "5.0"
       ]
      },
      {
       "output_type": "stream",
       "stream": "stdout",
       "text": [
        " 781868762.166 0.0 1000134063.61 0.0012642840411 0.0012642840411\n",
        "6.0"
       ]
      },
      {
       "output_type": "stream",
       "stream": "stdout",
       "text": [
        " 806476724.173 0.0 1000134063.61 0.00134418264018 0.00134418264018\n",
        "7.0"
       ]
      },
      {
       "output_type": "stream",
       "stream": "stdout",
       "text": [
        " 818119279.746 0.0 1000134063.61 0.00139389617347 0.00139389617347\n",
        "8.0"
       ]
      },
      {
       "output_type": "stream",
       "stream": "stdout",
       "text": [
        " 818119279.746 172956308.88 827177754.733 0.00142090956983 0.00142090956983\n",
        "9.0"
       ]
      },
      {
       "output_type": "stream",
       "stream": "stdout",
       "text": [
        " 818119279.746 281672601.023 718461462.591 0.00143132284166 0.00143132284166\n",
        "10.0"
       ]
      },
      {
       "output_type": "stream",
       "stream": "stdout",
       "text": [
        " 818119279.746 328636266.108 671497797.505 0.00143132284166 0.00142999433909\n",
        "11.0"
       ]
      },
      {
       "output_type": "stream",
       "stream": "stdout",
       "text": [
        " 818119279.746 362822473.697 637311589.917 0.00143132284166 0.00142068679892\n",
        "12.0"
       ]
      },
      {
       "output_type": "stream",
       "stream": "stdout",
       "text": [
        " 818119279.746 408588722.088 591545341.525 0.00143132284166 0.00140622740396\n",
        "13.0"
       ]
      },
      {
       "output_type": "stream",
       "stream": "stdout",
       "text": [
        " 818119279.746 441524348.68 558609714.933 0.00143132284166 0.00138867446792\n",
        "14.0"
       ]
      },
      {
       "output_type": "stream",
       "stream": "stdout",
       "text": [
        " 818119279.746 457642346.907 542491716.706 0.00143132284166 0.00136947828043\n",
        "15.0"
       ]
      },
      {
       "output_type": "stream",
       "stream": "stdout",
       "text": [
        " 818119279.746 473491993.919 526642069.694 0.00143132284166 0.00134962561344\n",
        "16.0"
       ]
      },
      {
       "output_type": "stream",
       "stream": "stdout",
       "text": [
        " 818119279.746 489048685.528 511085378.085 0.00143132284166 0.00132976184234\n",
        "17.0"
       ]
      },
      {
       "output_type": "stream",
       "stream": "stdout",
       "text": [
        " 818119279.746 504289355.112 495844708.501 0.00143132284166 0.00131028895778\n",
        "18.0"
       ]
      },
      {
       "output_type": "stream",
       "stream": "stdout",
       "text": [
        " 818119279.746 519192571.599 480941492.014 0.00143132284166 0.00129144085623\n",
        "19.0"
       ]
      },
      {
       "output_type": "stream",
       "stream": "stdout",
       "text": [
        " 818119279.746 519192571.599 480941492.014 0.00143132284166 0.00127333905186\n",
        "20.0"
       ]
      },
      {
       "output_type": "stream",
       "stream": "stdout",
       "text": [
        " 818119279.746 533738623.397 466395440.216 0.00143132284166 0.00125603256487\n",
        "21.0"
       ]
      },
      {
       "output_type": "stream",
       "stream": "stdout",
       "text": [
        " 818119279.746 535823903.462 464310160.151 0.00143132284166 0.00123952550566\n",
        "22.0"
       ]
      },
      {
       "output_type": "stream",
       "stream": "stdout",
       "text": [
        " 818119279.746 535823903.462 464310160.151 0.00143132284166 0.00122379530584\n",
        "23.0"
       ]
      },
      {
       "output_type": "stream",
       "stream": "stdout",
       "text": [
        " 818119279.746 549603701.119 450530362.494 0.00143132284166 0.0012088042655\n",
        "24.0"
       ]
      },
      {
       "output_type": "stream",
       "stream": "stdout",
       "text": [
        " 818119279.746 549603701.119 450530362.494 0.00143132284166 0.00119450704777\n",
        "25.0"
       ]
      },
      {
       "output_type": "stream",
       "stream": "stdout",
       "text": [
        " 818119279.746 562978135.72 437155927.893 0.00143132284166 0.00118085625436\n",
        "26.0"
       ]
      },
      {
       "output_type": "stream",
       "stream": "stdout",
       "text": [
        " 818119279.746 562978135.72 437155927.893 0.00143132284166 0.00116780694196\n",
        "27.0"
       ]
      },
      {
       "output_type": "stream",
       "stream": "stdout",
       "text": [
        " 818119279.746 575934918.55 424199145.064 0.00143132284166 0.00115531941155\n",
        "28.0"
       ]
      },
      {
       "output_type": "stream",
       "stream": "stdout",
       "text": [
        " 818119279.746 575934918.55 424199145.064 0.00143132284166 0.00114335918057\n",
        "29.0"
       ]
      },
      {
       "output_type": "stream",
       "stream": "stdout",
       "text": [
        " 818119279.746 588463678.398 411670385.215 0.00143132284166 0.00113189472653\n",
        "30.0"
       ]
      },
      {
       "output_type": "stream",
       "stream": "stdout",
       "text": [
        " 818119279.746 588463678.398 411670385.215 0.00143132284166 0.00112089534196\n",
        "31.0"
       ]
      },
      {
       "output_type": "stream",
       "stream": "stdout",
       "text": [
        " 818119279.746 588463678.398 411670385.215 0.00143132284166 0.00111033060602\n",
        "32.0"
       ]
      },
      {
       "output_type": "stream",
       "stream": "stdout",
       "text": [
        " 818119279.746 600555957.067 399578106.546 0.00143132284166 0.00110017102928\n",
        "33.0"
       ]
      },
      {
       "output_type": "stream",
       "stream": "stdout",
       "text": [
        " 818119279.746 600555957.067 399578106.546 0.00143132284166 0.00109038882793\n",
        "34.0"
       ]
      },
      {
       "output_type": "stream",
       "stream": "stdout",
       "text": [
        " 818119279.746 600555957.067 399578106.546 0.00143132284166 0.00108095829178\n",
        "35.0"
       ]
      },
      {
       "output_type": "stream",
       "stream": "stdout",
       "text": [
        " 818119279.746 612205190.991 387928872.622 0.00143132284166 0.00107185571183\n",
        "36.0"
       ]
      },
      {
       "output_type": "stream",
       "stream": "stdout",
       "text": [
        " 818119279.746 612205190.991 387928872.622 0.00143132284166 0.00106305899714\n",
        "37.0"
       ]
      },
      {
       "output_type": "stream",
       "stream": "stdout",
       "text": [
        " 818119279.746 612205190.991 387928872.622 0.00143132284166 0.00105454708522\n",
        "38.0"
       ]
      },
      {
       "output_type": "stream",
       "stream": "stdout",
       "text": [
        " 818119279.746 623406679.626 376727383.988 0.00143132284166 0.00104629919694\n",
        "39.0"
       ]
      },
      {
       "output_type": "stream",
       "stream": "stdout",
       "text": [
        " 818119279.746 623406679.626 376727383.988 0.00143132284166 0.00103829403303\n",
        "40.0"
       ]
      },
      {
       "output_type": "stream",
       "stream": "stdout",
       "text": [
        " 818119279.746 610884401.938 389249661.675 0.00143132284166 0.00103050936229\n",
        "41.0"
       ]
      },
      {
       "output_type": "stream",
       "stream": "stdout",
       "text": [
        " 818119279.746 610884401.938 389249661.675 0.00143132284166 0.00102292344129\n",
        "42.0"
       ]
      },
      {
       "output_type": "stream",
       "stream": "stdout",
       "text": [
        " 818119279.746 621635263.656 378498799.957 0.00143132284166 0.00101552068974\n",
        "43.0"
       ]
      },
      {
       "output_type": "stream",
       "stream": "stdout",
       "text": [
        " 818119279.746 621635263.656 378498799.957 0.00143132284166 0.00100830018148\n",
        "44.0"
       ]
      },
      {
       "output_type": "stream",
       "stream": "stdout",
       "text": [
        " 818119279.746 621635263.656 378498799.957 0.00143132284166 0.00100127485257\n",
        "45.0"
       ]
      },
      {
       "output_type": "stream",
       "stream": "stdout",
       "text": [
        " 818119279.746 621635263.656 378498799.957 0.00143132284166 0.000994455958977\n",
        "46.0"
       ]
      },
      {
       "output_type": "stream",
       "stream": "stdout",
       "text": [
        " 818119279.746 631934380.044 368199683.569 0.00143132284166 0.000987841804474\n",
        "47.0"
       ]
      },
      {
       "output_type": "stream",
       "stream": "stdout",
       "text": [
        " 818119279.746 631934380.044 368199683.569 0.00143132284166 0.000981420816734\n",
        "48.0"
       ]
      },
      {
       "output_type": "stream",
       "stream": "stdout",
       "text": [
        " 818119279.746 631934380.044 368199683.569 0.00143132284166 0.000975178673427\n",
        "49.0"
       ]
      },
      {
       "output_type": "stream",
       "stream": "stdout",
       "text": [
        " 818119279.746 631934380.044 368199683.569 0.00143132284166 0.000969102274424\n",
        "50.0"
       ]
      },
      {
       "output_type": "stream",
       "stream": "stdout",
       "text": [
        " 818119279.746 631934380.044 368199683.569 0.00143132284166 0.000963180747998\n",
        "51.0"
       ]
      },
      {
       "output_type": "stream",
       "stream": "stdout",
       "text": [
        " 818119279.746 641782329.551 358351734.062 0.00143132284166 0.000957405199569\n",
        "52.0"
       ]
      },
      {
       "output_type": "stream",
       "stream": "stdout",
       "text": [
        " 818119279.746 641782329.551 358351734.062 0.00143132284166 0.000951768189807\n",
        "53.0"
       ]
      },
      {
       "output_type": "stream",
       "stream": "stdout",
       "text": [
        " 818119279.746 641782329.551 358351734.062 0.00143132284166 0.000946263288662\n",
        "54.0"
       ]
      },
      {
       "output_type": "stream",
       "stream": "stdout",
       "text": [
        " 818119279.746 641782329.551 358351734.062 0.00143132284166 0.000940884767987\n",
        "55.0"
       ]
      },
      {
       "output_type": "stream",
       "stream": "stdout",
       "text": [
        " 818119279.746 641782329.551 358351734.062 0.00143132284166 0.00093562740766\n",
        "56.0"
       ]
      },
      {
       "output_type": "stream",
       "stream": "stdout",
       "text": [
        " 818119279.746 651181311.537 348952752.076 0.00143132284166 0.000930486377242\n",
        "57.0"
       ]
      },
      {
       "output_type": "stream",
       "stream": "stdout",
       "text": [
        " 818119279.746 651181311.537 348952752.076 0.00143132284166 0.000925457163416\n",
        "58.0"
       ]
      },
      {
       "output_type": "stream",
       "stream": "stdout",
       "text": [
        " 818119279.746 651181311.537 348952752.076 0.00143132284166 0.000920535523793\n",
        "59.0"
       ]
      },
      {
       "output_type": "stream",
       "stream": "stdout",
       "text": [
        " 818119279.746 651181311.537 348952752.076 0.00143132284166 0.000915717455655\n",
        "60.0"
       ]
      },
      {
       "output_type": "stream",
       "stream": "stdout",
       "text": [
        " 818119279.746 651181311.537 348952752.076 0.00143132284166 0.00091099917314\n",
        "61.0"
       ]
      },
      {
       "output_type": "stream",
       "stream": "stdout",
       "text": [
        " 818119279.746 651181311.537 348952752.076 0.00143132284166 0.000906377089364\n",
        "62.0"
       ]
      },
      {
       "output_type": "stream",
       "stream": "stdout",
       "text": [
        " 818119279.746 660135061.825 339999001.788 0.00143132284166 0.000901847801547\n",
        "63.0"
       ]
      },
      {
       "output_type": "stream",
       "stream": "stdout",
       "text": [
        " 818119279.746 660135061.825 339999001.788 0.00143132284166 0.000897408078138\n",
        "64.0"
       ]
      },
      {
       "output_type": "stream",
       "stream": "stdout",
       "text": [
        " 818119279.746 660135061.825 339999001.788 0.00143132284166 0.000893054847355\n",
        "65.0"
       ]
      },
      {
       "output_type": "stream",
       "stream": "stdout",
       "text": [
        " 818119279.746 660135061.825 339999001.788 0.00143132284166 0.000888785186821\n",
        "66.0"
       ]
      },
      {
       "output_type": "stream",
       "stream": "stdout",
       "text": [
        " 818119279.746 660135061.825 339999001.788 0.00143132284166 0.000884596314108\n",
        "67.0"
       ]
      },
      {
       "output_type": "stream",
       "stream": "stdout",
       "text": [
        " 818119279.746 660135061.825 339999001.788 0.00143132284166 0.000880485578045\n",
        "68.0"
       ]
      },
      {
       "output_type": "stream",
       "stream": "stdout",
       "text": [
        " 818119279.746 668648760.907 331485302.706 0.00143132284166 0.00087645045071\n",
        "69.0"
       ]
      },
      {
       "output_type": "stream",
       "stream": "stdout",
       "text": [
        " 818119279.746 668648760.907 331485302.706 0.00143132284166 0.000872488520028\n",
        "70.0"
       ]
      },
      {
       "output_type": "stream",
       "stream": "stdout",
       "text": [
        " 818119279.746 668648760.907 331485302.706 0.00143132284166 0.000868597482912\n",
        "71.0"
       ]
      },
      {
       "output_type": "stream",
       "stream": "stdout",
       "text": [
        " 818119279.746 668648760.907 331485302.706 0.00143132284166 0.000864775138913\n",
        "72.0"
       ]
      },
      {
       "output_type": "stream",
       "stream": "stdout",
       "text": [
        " 818119279.746 668648760.907 331485302.706 0.00143132284166 0.000861019384309\n",
        "73.0"
       ]
      },
      {
       "output_type": "stream",
       "stream": "stdout",
       "text": [
        " 818119279.746 668648760.907 331485302.706 0.00143132284166 0.000857328206627\n",
        "74.0"
       ]
      },
      {
       "output_type": "stream",
       "stream": "stdout",
       "text": [
        " 818119279.746 668648760.907 331485302.706 0.00143132284166 0.000853699679531\n",
        "75.0"
       ]
      },
      {
       "output_type": "stream",
       "stream": "stdout",
       "text": [
        " 818119279.746 668648760.907 331485302.706 0.00143132284166 0.000850131958068\n",
        "76.0"
       ]
      },
      {
       "output_type": "stream",
       "stream": "stdout",
       "text": [
        " 818119279.746 676728935.977 323405127.636 0.00143132284166 0.00084662327423\n",
        "77.0"
       ]
      },
      {
       "output_type": "stream",
       "stream": "stdout",
       "text": [
        " 818119279.746 676728935.977 323405127.636 0.00143132284166 0.000843171932816\n",
        "78.0"
       ]
      },
      {
       "output_type": "stream",
       "stream": "stdout",
       "text": [
        " 818119279.746 676728935.977 323405127.636 0.00143132284166 0.000839776307565\n",
        "79.0"
       ]
      },
      {
       "output_type": "stream",
       "stream": "stdout",
       "text": [
        " 818119279.746 676728935.977 323405127.636 0.00143132284166 0.000836434837537\n",
        "80.0"
       ]
      },
      {
       "output_type": "stream",
       "stream": "stdout",
       "text": [
        " 818119279.746 676728935.977 323405127.636 0.00143132284166 0.000833146023727\n",
        "81.0"
       ]
      },
      {
       "output_type": "stream",
       "stream": "stdout",
       "text": [
        " 818119279.746 676728935.977 323405127.636 0.00143132284166 0.000829908425902\n",
        "82.0"
       ]
      },
      {
       "output_type": "stream",
       "stream": "stdout",
       "text": [
        " 818119279.746 676728935.977 323405127.636 0.00143132284166 0.00082672065962\n",
        "83.0"
       ]
      },
      {
       "output_type": "stream",
       "stream": "stdout",
       "text": [
        " 818119279.746 676728935.977 323405127.636 0.00143132284166 0.000823581393448\n",
        "84.0"
       ]
      },
      {
       "output_type": "stream",
       "stream": "stdout",
       "text": [
        " 818119279.746 684383357.977 315750705.636 0.00143132284166 0.00082048934634\n",
        "85.0"
       ]
      },
      {
       "output_type": "stream",
       "stream": "stdout",
       "text": [
        " 818119279.746 684383357.977 315750705.636 0.00143132284166 0.000817443285181\n",
        "86.0"
       ]
      },
      {
       "output_type": "stream",
       "stream": "stdout",
       "text": [
        " 818119279.746 684383357.977 315750705.636 0.00143132284166 0.00081444202247\n",
        "87.0"
       ]
      },
      {
       "output_type": "stream",
       "stream": "stdout",
       "text": [
        " 818119279.746 684383357.977 315750705.636 0.00143132284166 0.000811484414147\n",
        "88.0"
       ]
      },
      {
       "output_type": "stream",
       "stream": "stdout",
       "text": [
        " 818119279.746 684383357.977 315750705.636 0.00143132284166 0.000808569357539\n",
        "89.0"
       ]
      },
      {
       "output_type": "stream",
       "stream": "stdout",
       "text": [
        " 818119279.746 684383357.977 315750705.636 0.00143132284166 0.000805695789431\n",
        "90.0"
       ]
      },
      {
       "output_type": "stream",
       "stream": "stdout",
       "text": [
        " 818119279.746 684383357.977 315750705.636 0.00143132284166 0.000802862684246\n",
        "91.0"
       ]
      },
      {
       "output_type": "stream",
       "stream": "stdout",
       "text": [
        " 818119279.746 684383357.977 315750705.636 0.00143132284166 0.000800069052323\n",
        "92.0"
       ]
      },
      {
       "output_type": "stream",
       "stream": "stdout",
       "text": [
        " 818119279.746 684383357.977 315750705.636 0.00143132284166 0.000797313938296\n",
        "93.0"
       ]
      },
      {
       "output_type": "stream",
       "stream": "stdout",
       "text": [
        " 818119279.746 684383357.977 315750705.636 0.00143132284166 0.000794596419563\n",
        "94.0"
       ]
      },
      {
       "output_type": "stream",
       "stream": "stdout",
       "text": [
        " 818119279.746 691620934.859 308513128.754 0.00143132284166 0.000791915604832\n",
        "95.0"
       ]
      },
      {
       "output_type": "stream",
       "stream": "stdout",
       "text": [
        " 818119279.746 691620934.859 308513128.754 0.00143132284166 0.000789270632753\n",
        "96.0"
       ]
      },
      {
       "output_type": "stream",
       "stream": "stdout",
       "text": [
        " 818119279.746 691620934.859 308513128.754 0.00143132284166 0.000786660670621\n",
        "97.0"
       ]
      },
      {
       "output_type": "stream",
       "stream": "stdout",
       "text": [
        " 818119279.746 691620934.859 308513128.754 0.00143132284166 0.000784084913144\n",
        "98.0"
       ]
      },
      {
       "output_type": "stream",
       "stream": "stdout",
       "text": [
        " 818119279.746 691620934.859 308513128.754 0.00143132284166 0.000781542581283\n",
        "99.0"
       ]
      },
      {
       "output_type": "stream",
       "stream": "stdout",
       "text": [
        " 818119279.746 691620934.859 308513128.754 0.00143132284166 0.000779032921144\n",
        "100.0"
       ]
      },
      {
       "output_type": "stream",
       "stream": "stdout",
       "text": [
        " 818119279.746 691620934.859 308513128.754 0.00143132284166 0.000776555202933\n",
        "0.845379093221"
       ]
      },
      {
       "output_type": "stream",
       "stream": "stdout",
       "text": [
        "\n",
        "======================================================================\n",
        "(NH4)2SO4 Summary - \n",
        "Max activated fraction (0.0014)\n",
        "   Eq:  0.818009614422\n",
        "  Kin:  0.691528226086\n",
        "Ghan/Abdul-Razzak\n",
        " frac: 0.723 (0.0010)\n",
        "\n",
        "Alpha maximum: 0.85\n",
        "  Phi maximum: 4.78\n",
        "======================================================================\n"
       ]
      },
      {
       "output_type": "display_data",
       "png": "[encoded data removed]"
      }
     ],
     "prompt_number": 54
    },
    {
     "cell_type": "code",
     "collapsed": false,
     "input": [
      "from micro import *\n",
      "from scipy.special import erfc, erf\n",
      "\n",
      "T = T0 # K\n",
      "P = P0 # Pa\n",
      "\n",
      "## Sulfate aerosol, 1 mode\n",
      "sigma = aerosol1.distribution.sigma\n",
      "am = aerosol1.distribution.mu*1e-6\n",
      "N = aerosol1.distribution.N*1e6\n",
      "kappa = aerosol1.kappa\n",
      "Ma = 132.*1e-3\n",
      "rhoa = 1.77*1e3\n",
      "\n",
      "fi = 0.5*np.exp(2.5*(np.log(sigma)**2))\n",
      "gi = 1.0 + 0.25*np.log(sigma)\n",
      "\n",
      "## Smi = (2./np.sqrt(Bi))*((A/(3.*am))**(3./2.))\n",
      "A = (2.*sigma_w(T)*Mw)/(rho_w*R*T)\n",
      "Bi = (3.*1.*1.*Mw*rhoa)/(Ma*rho_w)\n",
      "Smi = (2./np.sqrt(Bi))*((A/(3.*am))**1.5)\n",
      "_, Smi2 = kohler_crit(T, am, kappa)\n",
      "\n",
      "print Smi, Smi2\n",
      "\n",
      "G_a = (rho_w*R*T)/(es(T-273.15)*Dv*Mw)\n",
      "G_b = (L*rho_w*((L*Mw/(R*T))-1))/(ka(T)*T)\n",
      "G = 1./(G_a + G_b)\n",
      "\n",
      "alpha = (g*Mw*L)/(Cp*R*(T**2)) - (G*Ma)/(R*T)\n",
      "gamma = (R*T)/(es(T-273.15)*Mw) + (Mw*(L**2))/(Cp*Ma*T*P)\n",
      "\n",
      "zeta = (2./3.)*A*(np.sqrt(alpha*V/G))\n",
      "etai = ((alpha*V/G)**(3./2.))/(N*gamma*rho_w*2.*np.pi)\n",
      "\n",
      "##\n",
      "Spa = fi*((zeta/etai)**(1.5))\n",
      "Spb = gi*(((Smi**2)/(etai + 3.*zeta))**(0.75))\n",
      "S_part = (1./(Smi**2))*(Spa + Spb)\n",
      "Smax = 1./np.sqrt(S_part)\n",
      "\n",
      "ac = am*((Smi/Smax)**(2./3.))\n",
      "u = 2.*np.log(Smi/Smax)/(3.*np.sqrt(2)*np.log(sigma))\n",
      "u2 = 2.*np.log(Smi2/Smax)/(3.*np.sqrt(2)*np.log(sigma))\n",
      "\n",
      "N_act = 0.5*N*erfc(u)\n",
      "N_act2 = 0.5*N*erfc(u2)\n",
      "\n",
      "print Smax\n",
      "print \"osmotic\", N_act, N_act/N\n",
      "print \"kappa\", N_act2, N_act2/N\n",
      "print \"parcel\", Neq.max(), Neq.max()/np.sum(aer_meta.Nis)\n",
      "\n",
      "x = np.linspace(-3, 3, 1000)\n",
      "plot(x, erfc(x))\n",
      "plot(u, erfc(u), marker='o', markersize=14)\n",
      "plot(u2, erfc(u2), marker='d', color='r', markersize=14)"
     ],
     "language": "python",
     "metadata": {},
     "outputs": [
      {
       "output_type": "stream",
       "stream": "stdout",
       "text": [
        "0.00142360920628 0.00156508511166\n",
        "0.00479801709565\n",
        "osmotic 87871558.7945 0.878715587945\n",
        "kappa 85936366.3345 0.859363663345\n",
        "parcel 81811927.9746 0.818009614422\n"
       ]
      },
      {
       "output_type": "pyout",
       "prompt_number": 14,
       "text": [
        "[<matplotlib.lines.Line2D at 0x10c7cfc90>]"
       ]
      },
      {
       "output_type": "display_data",
       "png": "[encoded data removed]"
      }
     ],
     "prompt_number": 14
    },
    {
     "cell_type": "code",
     "collapsed": false,
     "input": [
      "print G_a\n",
      "print G_b\n",
      "print G"
     ],
     "language": "python",
     "metadata": {},
     "outputs": [
      {
       "output_type": "stream",
       "stream": "stdout",
       "text": [
        "1836299021.13\n",
        "5850759802.18\n",
        "1.30088766456e-10\n"
       ]
      }
     ],
     "prompt_number": 15
    },
    {
     "cell_type": "code",
     "collapsed": false,
     "input": [
      "f = figure()\n",
      "ax1 = f.add_subplot(111)\n",
      "rp = aerosols['NaCl'].r000.plot()\n",
      "sp = parcel.S.plot(ax=ax1, secondary_y=True, color='r')\n",
      "ylim(-0.02, 0.02)\n",
      "\n",
      "max_idx = np.argmax(parcel.S)\n",
      "t_at_max = parcel['T'][max_idx]\n",
      "z_at_max = parcel.index[max_idx]\n",
      "print parcel.S.max(), t_at_max\n",
      "\n",
      "rcs, scs = kohler_crit(t_at_max, aerosol2.r_drys[0], aerosol2.kappa)\n",
      "print rcs, scs\n",
      "plot(z_at_max, scs, marker='o', color='r')\n",
      "ax1.plot(z_at_max, rcs, marker='o')"
     ],
     "language": "python",
     "metadata": {},
     "outputs": [
      {
       "output_type": "stream",
       "stream": "stdout",
       "text": [
        "0.00396607892506 285.109613557\n",
        "1.04005961952e-09 1.54491577539\n"
       ]
      },
      {
       "output_type": "pyout",
       "prompt_number": 69,
       "text": [
        "[<matplotlib.lines.Line2D at 0x1116b14d0>]"
       ]
      },
      {
       "output_type": "display_data",
       "png": "[encoded data removed]"
      }
     ],
     "prompt_number": 69
    },
    {
     "cell_type": "code",
     "collapsed": false,
     "input": [
      "parcel.Tv = (1. + 0.61*parcel.wv)*parcel['T']\n",
      "parcel.rho = parcel.P/(Rd*parcel.Tv)\n",
      "r_eff_eq = r_eff(parcel.rho, parcel.wc, parcel['(NH4)2SO4_Neq'])*1e6\n",
      "r_eff_kn = r_eff(parcel.rho, parcel.wc, parcel['(NH4)2SO4_Nkn'])*1e6\n",
      "\n",
      "plot(parcel.index, r_eff_eq)\n",
      "plot(parcel.index, r_eff_kn)"
     ],
     "language": "python",
     "metadata": {},
     "outputs": [
      {
       "output_type": "pyout",
       "prompt_number": 42,
       "text": [
        "[<matplotlib.lines.Line2D at 0x10b494b10>]"
       ]
      },
      {
       "output_type": "display_data",
       "png": "[encoded data removed]"
      }
     ],
     "prompt_number": 42
    },
    {
     "cell_type": "code",
     "collapsed": false,
     "input": [],
     "language": "python",
     "metadata": {},
     "outputs": []
    }
   ],
   "metadata": {}
  }
 ]
}