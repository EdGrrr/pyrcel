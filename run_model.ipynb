{
 "metadata": {
  "name": "run_model"
 },
 "nbformat": 3,
 "nbformat_minor": 0,
 "worksheets": [
  {
   "cells": [
    {
     "cell_type": "heading",
     "level": 2,
     "metadata": {},
     "source": [
      "Parcel model quick setup and run"
     ]
    },
    {
     "cell_type": "code",
     "collapsed": false,
     "input": [
      "from lognorm import Lognorm\n",
      "from parcel import ParcelModel, AerosolSpecies\n",
      "from micro import kohler_crit, Rd, r_eff, activation\n",
      "import pandas"
     ],
     "language": "python",
     "metadata": {},
     "outputs": [],
     "prompt_number": 1
    },
    {
     "cell_type": "heading",
     "level": 4,
     "metadata": {},
     "source": [
      "Set the parcel's initial environmental conditions"
     ]
    },
    {
     "cell_type": "code",
     "collapsed": false,
     "input": [
      "P0 = 85000. # Pressure, Pa\n",
      "T0 = 294.0 # Temperature, K\n",
      "S0 = -0.02 # Supersaturation. 1-RH from wv term\n",
      "V = 0.5 # m/s"
     ],
     "language": "python",
     "metadata": {},
     "outputs": [],
     "prompt_number": 2
    },
    {
     "cell_type": "heading",
     "level": 4,
     "metadata": {},
     "source": [
      "Add aerosols to the parcel"
     ]
    },
    {
     "cell_type": "code",
     "collapsed": false,
     "input": [
      "aerosol1 = AerosolSpecies('(NH4)2SO4', Lognorm(mu=0.05, sigma=2.0, N=100.),\n",
      "                          bins=200, kappa=0.6)\n",
      "#aerosol2 = AerosolSpecies('NaCl', {'r_drys': [0.05, ], 'Nis': [10000.0, ]}, kappa=0.1)\n",
      "aerosol2 = AerosolSpecies('NaCl', Lognorm(mu=0.05, sigma=2.0, N=100.),\n",
      "                          bins=200, kappa=0.05)\n",
      "\n",
      "initial_aerosols = [aerosol1, aerosol2, ]\n",
      "#initial_aerosols = [aerosol1, ]\n",
      "\n",
      "aer_species = [a.species for a in initial_aerosols]\n",
      "aer_dict = dict()\n",
      "for aerosol in initial_aerosols:\n",
      "    aer_dict[aerosol.species] = aerosol\n",
      "\n",
      "## Plot the size distribution:\n",
      "figure(2, figsize=(12,10))\n",
      "clf()\n",
      "subplot(3,2,1)\n",
      "colors = 'bgrcmyk'\n",
      "for i, aerosol in enumerate(initial_aerosols):\n",
      "    rs, Nis = aerosol.rs, aerosol.Nis\n",
      "    bar(rs[:-1], Nis/np.diff(rs)*1e-6, diff(rs), color=colors[i], alpha=0.5)\n",
      "semilogx()\n",
      "xlabel(r'dry radius ($\\mu$m)'); ylabel(r'N ($m^{-3}$)')"
     ],
     "language": "python",
     "metadata": {},
     "outputs": [
      {
       "output_type": "pyout",
       "prompt_number": 6,
       "text": [
        "<matplotlib.text.Text at 0x10859e7d0>"
       ]
      },
      {
       "output_type": "display_data",
       "png": "[encoded data removed]"
      }
     ],
     "prompt_number": 6
    },
    {
     "cell_type": "heading",
     "level": 4,
     "metadata": {},
     "source": [
      "Setup and run the model"
     ]
    },
    {
     "cell_type": "code",
     "collapsed": false,
     "input": [
      "z_top = 100.0 # meters\n",
      "dt = 0.01 # seconds\n",
      "\n",
      "pm = ParcelModel(initial_aerosols, V, T0, S0, P0, console=True)\n",
      "parcel, aerosols = pm.run(z_top, dt)\n",
      "\n",
      "print \"...done\"\n",
      "\n",
      "xs = np.arange(501)\n",
      "parcel = parcel.ix[parcel.index % 1 == 0]\n",
      "aero_subset = {}\n",
      "for key in aerosols:\n",
      "    aerosol = aerosols[key]\n",
      "    subset = aerosol.ix[aerosol.index % 1 == 0]\n",
      "    aero_subset[key] = subset\n",
      "aerosols2 = aero_subset\n"
     ],
     "language": "python",
     "metadata": {},
     "outputs": [
      {
       "output_type": "stream",
       "stream": "stdout",
       "text": [
        "AEROSOL DISTRIBUTION\n",
        "       r      N\n",
        " (NH4)2SO4 2.54e-09 166.8\n",
        " (NH4)2SO4 2.61e-09 200.7\n",
        " (NH4)2SO4 2.69e-09 240.9\n",
        " (NH4)2SO4 2.78e-09 288.8\n",
        " (NH4)2SO4 2.86e-09 345.5\n",
        " (NH4)2SO4 2.95e-09 412.5\n",
        " (NH4)2SO4 3.04e-09 491.7\n",
        " (NH4)2SO4 3.13e-09 584.9\n",
        " (NH4)2SO4 3.22e-09 694.6\n",
        " (NH4)2SO4 3.32e-09 823.2\n",
        " (NH4)2SO4 3.42e-09 973.8\n",
        " (NH4)2SO4 3.53e-09 1149.9\n",
        " (NH4)2SO4 3.64e-09 1355.2\n",
        " (NH4)2SO4 3.75e-09 1594.3\n",
        " (NH4)2SO4 3.86e-09 1872.0\n",
        " (NH4)2SO4 3.98e-09 2194.0\n",
        " (NH4)2SO4 4.10e-09 2566.5\n",
        " (NH4)2SO4 4.22e-09 2996.8\n",
        " (NH4)2SO4 4.35e-09 3492.6\n",
        " (NH4)2SO4 4.48e-09 4062.8\n",
        " (NH4)2SO4 4.62e-09 4717.4\n",
        " (NH4)2SO4 4.76e-09 5467.2\n",
        " (NH4)2SO4 4.91e-09 6324.4\n",
        " (NH4)2SO4 5.05e-09 7302.3\n",
        " (NH4)2SO4 5.21e-09 8415.7\n",
        " (NH4)2SO4 5.37e-09 9680.7\n",
        " (NH4)2SO4 5.53e-09 11115.2\n",
        " (NH4)2SO4 5.70e-09 12738.4\n",
        " (NH4)2SO4 5.87e-09 14571.4\n",
        " (NH4)2SO4 6.05e-09 16637.1\n",
        " (NH4)2SO4 6.23e-09 18960.2\n",
        " (NH4)2SO4 6.42e-09 21567.4\n",
        " (NH4)2SO4 6.62e-09 24487.3\n",
        " (NH4)2SO4 6.82e-09 27750.6\n",
        " (NH4)2SO4 7.03e-09 31390.2\n",
        " (NH4)2SO4 7.24e-09 35440.9\n",
        " (NH4)2SO4 7.46e-09 39939.7\n",
        " (NH4)2SO4 7.69e-09 44925.7\n",
        " (NH4)2SO4 7.92e-09 50439.7\n",
        " (NH4)2SO4 8.16e-09 56525.0\n",
        " (NH4)2SO4 8.41e-09 63226.2\n",
        " (NH4)2SO4 8.67e-09 70589.9\n",
        " (NH4)2SO4 8.93e-09 78664.3\n",
        " (NH4)2SO4 9.20e-09 87498.7\n",
        " (NH4)2SO4 9.48e-09 97143.8\n",
        " (NH4)2SO4 9.77e-09 107650.8\n",
        " (NH4)2SO4 1.01e-08 119071.8\n",
        " (NH4)2SO4 1.04e-08 131458.8\n",
        " (NH4)2SO4 1.07e-08 144863.7\n",
        " (NH4)2SO4 1.10e-08 159337.8\n",
        " (NH4)2SO4 1.13e-08 174931.1\n",
        " (NH4)2SO4 1.17e-08 191692.1\n",
        " (NH4)2SO4 1.20e-08 209667.3\n",
        " (NH4)2SO4 1.24e-08 228900.4\n",
        " (NH4)2SO4 1.28e-08 249431.5\n",
        " (NH4)2SO4 1.32e-08 271297.2\n",
        " (NH4)2SO4 1.36e-08 294529.3\n",
        " (NH4)2SO4 1.40e-08 319154.3\n",
        " (NH4)2SO4 1.44e-08 345193.2\n",
        " (NH4)2SO4 1.49e-08 372660.1\n",
        " (NH4)2SO4 1.53e-08 401562.0\n",
        " (NH4)2SO4 1.58e-08 431898.4\n",
        " (NH4)2SO4 1.63e-08 463660.0\n",
        " (NH4)2SO4 1.68e-08 496829.0\n",
        " (NH4)2SO4 1.73e-08 531377.7\n",
        " (NH4)2SO4 1.78e-08 567268.8\n",
        " (NH4)2SO4 1.83e-08 604454.5\n",
        " (NH4)2SO4 1.89e-08 642876.4\n",
        " (NH4)2SO4 1.95e-08 682465.2\n",
        " (NH4)2SO4 2.01e-08 723140.5\n",
        " (NH4)2SO4 2.07e-08 764810.9\n",
        " (NH4)2SO4 2.13e-08 807373.7\n",
        " (NH4)2SO4 2.19e-08 850715.3\n",
        " (NH4)2SO4 2.26e-08 894711.6\n",
        " (NH4)2SO4 2.33e-08 939228.0\n",
        " (NH4)2SO4 2.40e-08 984120.3\n",
        " (NH4)2SO4 2.47e-08 1029234.9\n",
        " (NH4)2SO4 2.55e-08 1074409.7\n",
        " (NH4)2SO4 2.63e-08 1119475.4\n",
        " (NH4)2SO4 2.71e-08 1164255.6\n",
        " (NH4)2SO4 2.79e-08 1208568.4\n",
        " (NH4)2SO4 2.87e-08 1252227.8\n",
        " (NH4)2SO4 2.96e-08 1295044.1\n",
        " (NH4)2SO4 3.05e-08 1336826.3\n",
        " (NH4)2SO4 3.14e-08 1377382.4\n",
        " (NH4)2SO4 3.24e-08 1416521.7\n",
        " (NH4)2SO4 3.34e-08 1454055.9\n",
        " (NH4)2SO4 3.44e-08 1489800.6\n",
        " (NH4)2SO4 3.54e-08 1523576.7\n",
        " (NH4)2SO4 3.65e-08 1555212.3\n",
        " (NH4)2SO4 3.76e-08 1584543.5\n",
        " (NH4)2SO4 3.88e-08 1611416.6\n",
        " (NH4)2SO4 3.99e-08 1635688.7\n",
        " (NH4)2SO4 4.12e-08 1657229.4\n",
        " (NH4)2SO4 4.24e-08 1675921.8\n",
        " (NH4)2SO4 4.37e-08 1691663.7\n",
        " (NH4)2SO4 4.50e-08 1704368.4\n",
        " (NH4)2SO4 4.64e-08 1713965.5\n",
        " (NH4)2SO4 4.78e-08 1720401.6\n",
        " (NH4)2SO4 4.93e-08 1723640.8\n",
        " (NH4)2SO4 5.08e-08 1723664.9\n",
        " (NH4)2SO4 5.23e-08 1720473.8\n",
        " (NH4)2SO4 5.39e-08 1714085.4\n",
        " (NH4)2SO4 5.55e-08 1704535.3\n",
        " (NH4)2SO4 5.72e-08 1691876.7\n",
        " (NH4)2SO4 5.90e-08 1676179.7\n",
        " (NH4)2SO4 6.07e-08 1657530.7\n",
        " (NH4)2SO4 6.26e-08 1636031.9\n",
        " (NH4)2SO4 6.45e-08 1611799.8\n",
        " (NH4)2SO4 6.65e-08 1584964.7\n",
        " (NH4)2SO4 6.85e-08 1555669.2\n",
        " (NH4)2SO4 7.06e-08 1524067.0\n",
        " (NH4)2SO4 7.27e-08 1490321.6\n",
        " (NH4)2SO4 7.49e-08 1454605.2\n",
        " (NH4)2SO4 7.72e-08 1417096.4\n",
        " (NH4)2SO4 7.95e-08 1377979.8\n",
        " (NH4)2SO4 8.20e-08 1337443.5\n",
        " (NH4)2SO4 8.45e-08 1295678.3\n",
        " (NH4)2SO4 8.70e-08 1252876.0\n",
        " (NH4)2SO4 8.97e-08 1209227.9\n",
        " (NH4)2SO4 9.24e-08 1164923.4\n",
        " (NH4)2SO4 9.52e-08 1120148.9\n",
        " (NH4)2SO4 9.81e-08 1075086.2\n",
        " (NH4)2SO4 1.01e-07 1029911.6\n",
        " (NH4)2SO4 1.04e-07 984795.0\n",
        " (NH4)2SO4 1.07e-07 939898.2\n",
        " (NH4)2SO4 1.11e-07 895375.0\n",
        " (NH4)2SO4 1.14e-07 851369.9\n",
        " (NH4)2SO4 1.17e-07 808017.5\n",
        " (NH4)2SO4 1.21e-07 765442.2\n",
        " (NH4)2SO4 1.25e-07 723757.7\n",
        " (NH4)2SO4 1.28e-07 683066.7\n",
        " (NH4)2SO4 1.32e-07 643461.0\n",
        " (NH4)2SO4 1.36e-07 605021.1\n",
        " (NH4)2SO4 1.41e-07 567816.4\n",
        " (NH4)2SO4 1.45e-07 531905.5\n",
        " (NH4)2SO4 1.49e-07 497336.4\n",
        " (NH4)2SO4 1.54e-07 464146.5\n",
        " (NH4)2SO4 1.58e-07 432363.6\n",
        " (NH4)2SO4 1.63e-07 402005.8\n",
        " (NH4)2SO4 1.68e-07 373082.3\n",
        " (NH4)2SO4 1.73e-07 345594.0\n",
        " (NH4)2SO4 1.79e-07 319533.8\n",
        " (NH4)2SO4 1.84e-07 294887.7\n",
        " (NH4)2SO4 1.90e-07 271635.0\n",
        " (NH4)2SO4 1.95e-07 249749.0\n",
        " (NH4)2SO4 2.01e-07 229198.1\n",
        " (NH4)2SO4 2.07e-07 209946.0\n",
        " (NH4)2SO4 2.14e-07 191952.2\n",
        " (NH4)2SO4 2.20e-07 175173.3\n",
        " (NH4)2SO4 2.27e-07 159562.9\n",
        " (NH4)2SO4 2.34e-07 145072.4\n",
        " (NH4)2SO4 2.41e-07 131651.9\n",
        " (NH4)2SO4 2.48e-07 119250.0\n",
        " (NH4)2SO4 2.56e-07 107815.0\n",
        " (NH4)2SO4 2.64e-07 97294.6\n",
        " (NH4)2SO4 2.72e-07 87637.0\n",
        " (NH4)2SO4 2.80e-07 78790.8\n",
        " (NH4)2SO4 2.88e-07 70705.4\n",
        " (NH4)2SO4 2.97e-07 63331.4\n",
        " (NH4)2SO4 3.06e-07 56620.6\n",
        " (NH4)2SO4 3.16e-07 50526.5\n",
        " (NH4)2SO4 3.25e-07 45004.2\n",
        " (NH4)2SO4 3.35e-07 40010.7\n",
        " (NH4)2SO4 3.45e-07 35504.9\n",
        " (NH4)2SO4 3.56e-07 31447.7\n",
        " (NH4)2SO4 3.67e-07 27802.2\n",
        " (NH4)2SO4 3.78e-07 24533.5\n",
        " (NH4)2SO4 3.89e-07 21608.7\n",
        " (NH4)2SO4 4.01e-07 18997.0\n",
        " (NH4)2SO4 4.13e-07 16669.9\n",
        " (NH4)2SO4 4.26e-07 14600.5\n",
        " (NH4)2SO4 4.39e-07 12764.2\n",
        " (NH4)2SO4 4.52e-07 11138.0\n",
        " (NH4)2SO4 4.66e-07 9700.9\n",
        " (NH4)2SO4 4.80e-07 8433.5\n",
        " (NH4)2SO4 4.95e-07 7317.9\n",
        " (NH4)2SO4 5.10e-07 6338.1\n",
        " (NH4)2SO4 5.25e-07 5479.2\n",
        " (NH4)2SO4 5.41e-07 4727.9\n",
        " (NH4)2SO4 5.58e-07 4072.0\n",
        " (NH4)2SO4 5.75e-07 3500.5\n",
        " (NH4)2SO4 5.92e-07 3003.7\n",
        " (NH4)2SO4 6.10e-07 2572.5\n",
        " (NH4)2SO4 6.29e-07 2199.1\n",
        " (NH4)2SO4 6.48e-07 1876.4\n",
        " (NH4)2SO4 6.67e-07 1598.1\n",
        " (NH4)2SO4 6.88e-07 1358.5\n",
        " (NH4)2SO4 7.09e-07 1152.7\n",
        " (NH4)2SO4 7.30e-07 976.3\n",
        " (NH4)2SO4 7.52e-07 825.3\n",
        " (NH4)2SO4 7.75e-07 696.3\n",
        " (NH4)2SO4 7.99e-07 586.4\n",
        " (NH4)2SO4 8.23e-07 493.0\n",
        " (NH4)2SO4 8.48e-07 413.6\n",
        " (NH4)2SO4 8.74e-07 346.4\n",
        " (NH4)2SO4 9.00e-07 289.6\n",
        " (NH4)2SO4 9.28e-07 241.6\n",
        " (NH4)2SO4 9.56e-07 201.2\n",
        " (NH4)2SO4 9.85e-07 167.3\n",
        "      NaCl 2.54e-09 1667.9\n",
        "      NaCl 2.61e-09 2006.6\n",
        "      NaCl 2.69e-09 2409.5\n",
        "      NaCl 2.78e-09 2887.9\n",
        "      NaCl 2.86e-09 3454.8\n",
        "      NaCl 2.95e-09 4125.4\n",
        "      NaCl 3.04e-09 4916.9\n",
        "      NaCl 3.13e-09 5849.3\n",
        "      NaCl 3.22e-09 6945.5\n",
        "      NaCl 3.32e-09 8231.9\n",
        "      NaCl 3.42e-09 9738.2\n",
        "      NaCl 3.53e-09 11498.8\n",
        "      NaCl 3.64e-09 13552.3\n",
        "      NaCl 3.75e-09 15942.7\n",
        "      NaCl 3.86e-09 18719.8\n",
        "      NaCl 3.98e-09 21939.6\n",
        "      NaCl 4.10e-09 25665.2\n",
        "      NaCl 4.22e-09 29967.5\n",
        "      NaCl 4.35e-09 34925.8\n",
        "      NaCl 4.48e-09 40628.5\n",
        "      NaCl 4.62e-09 47174.1\n",
        "      NaCl 4.76e-09 54672.2\n",
        "      NaCl 4.91e-09 63243.9\n",
        "      NaCl 5.05e-09 73022.9\n",
        "      NaCl 5.21e-09 84156.9\n",
        "      NaCl 5.37e-09 96807.4\n",
        "      NaCl 5.53e-09 111152.0\n",
        "      NaCl 5.70e-09 127384.0\n",
        "      NaCl 5.87e-09 145714.1\n",
        "      NaCl 6.05e-09 166370.9\n",
        "      NaCl 6.23e-09 189601.8\n",
        "      NaCl 6.42e-09 215673.5\n",
        "      NaCl 6.62e-09 244872.6\n",
        "      NaCl 6.82e-09 277506.2\n",
        "      NaCl 7.03e-09 313902.2\n",
        "      NaCl 7.24e-09 354409.4\n",
        "      NaCl 7.46e-09 399397.4\n",
        "      NaCl 7.69e-09 449256.6\n",
        "      NaCl 7.92e-09 504397.3\n",
        "      NaCl 8.16e-09 565249.6\n",
        "      NaCl 8.41e-09 632261.7\n",
        "      NaCl 8.67e-09 705899.2\n",
        "      NaCl 8.93e-09 786642.9\n",
        "      NaCl 9.20e-09 874987.3\n",
        "      NaCl 9.48e-09 971437.8\n",
        "      NaCl 9.77e-09 1076508.4\n",
        "      NaCl 1.01e-08 1190718.3\n",
        "      NaCl 1.04e-08 1314588.3\n",
        "      NaCl 1.07e-08 1448637.2\n",
        "      NaCl 1.10e-08 1593377.6\n",
        "      NaCl 1.13e-08 1749310.5\n",
        "      NaCl 1.17e-08 1916921.2\n",
        "      NaCl 1.20e-08 2096673.4\n",
        "      NaCl 1.24e-08 2289003.6\n",
        "      NaCl 1.28e-08 2494315.0\n",
        "      NaCl 1.32e-08 2712971.9\n",
        "      NaCl 1.36e-08 2945292.6\n",
        "      NaCl 1.40e-08 3191543.4\n",
        "      NaCl 1.44e-08 3451931.9\n",
        "      NaCl 1.49e-08 3726600.5\n",
        "      NaCl 1.53e-08 4015620.1\n",
        "      NaCl 1.58e-08 4318983.6\n",
        "      NaCl 1.63e-08 4636600.2\n",
        "      NaCl 1.68e-08 4968289.6\n",
        "      NaCl 1.73e-08 5313776.8\n",
        "      NaCl 1.78e-08 5672687.7\n",
        "      NaCl 1.83e-08 6044544.8\n",
        "      NaCl 1.89e-08 6428763.9\n",
        "      NaCl 1.95e-08 6824652.1\n",
        "      NaCl 2.01e-08 7231405.4\n",
        "      NaCl 2.07e-08 7648108.9\n",
        "      NaCl 2.13e-08 8073736.6\n",
        "      NaCl 2.19e-08 8507153.0\n",
        "      NaCl 2.26e-08 8947116.0\n",
        "      NaCl 2.33e-08 9392280.4\n",
        "      NaCl 2.40e-08 9841202.9\n",
        "      NaCl 2.47e-08 10292348.5\n",
        "      NaCl 2.55e-08 10744097.4\n",
        "      NaCl 2.63e-08 11194753.9\n",
        "      NaCl 2.71e-08 11642555.6\n",
        "      NaCl 2.79e-08 12085684.3\n",
        "      NaCl 2.87e-08 12522277.7\n",
        "      NaCl 2.96e-08 12950441.4\n",
        "      NaCl 3.05e-08 13368262.7\n",
        "      NaCl 3.14e-08 13773823.9\n",
        "      NaCl 3.24e-08 14165217.3\n",
        "      NaCl 3.34e-08 14540559.3\n",
        "      NaCl 3.44e-08 14898005.9\n",
        "      NaCl 3.54e-08 15235767.2\n",
        "      NaCl 3.65e-08 15552122.6\n",
        "      NaCl 3.76e-08 15845435.2\n",
        "      NaCl 3.88e-08 16114165.9\n",
        "      NaCl 3.99e-08 16356886.7\n",
        "      NaCl 4.12e-08 16572293.6\n",
        "      NaCl 4.24e-08 16759218.0\n",
        "      NaCl 4.37e-08 16916637.3\n",
        "      NaCl 4.50e-08 17043684.4\n",
        "      NaCl 4.64e-08 17139655.4\n",
        "      NaCl 4.78e-08 17204016.4\n",
        "      NaCl 4.93e-08 17236408.0\n",
        "      NaCl 5.08e-08 17236649.1\n",
        "      NaCl 5.23e-08 17204738.3\n",
        "      NaCl 5.39e-08 17140854.2\n",
        "      NaCl 5.55e-08 17045353.4\n",
        "      NaCl 5.72e-08 16918767.1\n",
        "      NaCl 5.90e-08 16761796.9\n",
        "      NaCl 6.07e-08 16575307.5\n",
        "      NaCl 6.26e-08 16360319.1\n",
        "      NaCl 6.45e-08 16117998.2\n",
        "      NaCl 6.65e-08 15849647.0\n",
        "      NaCl 6.85e-08 15556691.6\n",
        "      NaCl 7.06e-08 15240669.6\n",
        "      NaCl 7.27e-08 14903216.5\n",
        "      NaCl 7.49e-08 14546051.8\n",
        "      NaCl 7.72e-08 14170964.4\n",
        "      NaCl 7.95e-08 13779797.7\n",
        "      NaCl 8.20e-08 13374434.6\n",
        "      NaCl 8.45e-08 12956782.8\n",
        "      NaCl 8.70e-08 12528759.8\n",
        "      NaCl 8.97e-08 12092278.7\n",
        "      NaCl 9.24e-08 11649233.9\n",
        "      NaCl 9.52e-08 11201488.6\n",
        "      NaCl 9.81e-08 10750861.7\n",
        "      NaCl 1.01e-07 10299116.4\n",
        "      NaCl 1.04e-07 9847949.5\n",
        "      NaCl 1.07e-07 9398982.0\n",
        "      NaCl 1.11e-07 8953750.3\n",
        "      NaCl 1.14e-07 8513699.1\n",
        "      NaCl 1.17e-07 8080175.1\n",
        "      NaCl 1.21e-07 7654422.0\n",
        "      NaCl 1.25e-07 7237576.9\n",
        "      NaCl 1.28e-07 6830667.3\n",
        "      NaCl 1.32e-07 6434610.1\n",
        "      NaCl 1.36e-07 6050210.6\n",
        "      NaCl 1.41e-07 5678163.7\n",
        "      NaCl 1.45e-07 5319055.0\n",
        "      NaCl 1.49e-07 4973363.6\n",
        "      NaCl 1.54e-07 4641465.1\n",
        "      NaCl 1.58e-07 4323636.1\n",
        "      NaCl 1.63e-07 4020058.1\n",
        "      NaCl 1.68e-07 3730823.4\n",
        "      NaCl 1.73e-07 3455940.0\n",
        "      NaCl 1.79e-07 3195338.4\n",
        "      NaCl 1.84e-07 2948877.2\n",
        "      NaCl 1.90e-07 2716349.6\n",
        "      NaCl 1.95e-07 2497490.3\n",
        "      NaCl 2.01e-07 2291981.4\n",
        "      NaCl 2.07e-07 2099459.7\n",
        "      NaCl 2.14e-07 1919522.2\n",
        "      NaCl 2.20e-07 1751733.0\n",
        "      NaCl 2.27e-07 1595628.6\n",
        "      NaCl 2.34e-07 1450724.3\n",
        "      NaCl 2.41e-07 1316519.0\n",
        "      NaCl 2.48e-07 1192500.3\n",
        "      NaCl 2.56e-07 1078149.6\n",
        "      NaCl 2.64e-07 972946.0\n",
        "      NaCl 2.72e-07 876370.2\n",
        "      NaCl 2.80e-07 787908.2\n",
        "      NaCl 2.88e-07 707054.3\n",
        "      NaCl 2.97e-07 633314.0\n",
        "      NaCl 3.06e-07 566206.1\n",
        "      NaCl 3.16e-07 505265.0\n",
        "      NaCl 3.25e-07 450041.9\n",
        "      NaCl 3.35e-07 400106.8\n",
        "      NaCl 3.45e-07 355048.8\n",
        "      NaCl 3.56e-07 314477.3\n",
        "      NaCl 3.67e-07 278022.3\n",
        "      NaCl 3.78e-07 245334.8\n",
        "      NaCl 3.89e-07 216086.7\n",
        "      NaCl 4.01e-07 189970.3\n",
        "      NaCl 4.13e-07 166698.9\n",
        "      NaCl 4.26e-07 146005.4\n",
        "      NaCl 4.39e-07 127642.2\n",
        "      NaCl 4.52e-07 111380.4\n",
        "      NaCl 4.66e-07 97009.1\n",
        "      NaCl 4.80e-07 84334.5\n",
        "      NaCl 4.95e-07 73179.1\n",
        "      NaCl 5.10e-07 63380.9\n",
        "      NaCl 5.25e-07 54792.2\n",
        "      NaCl 5.41e-07 47279.0\n",
        "      NaCl 5.58e-07 40719.9\n",
        "      NaCl 5.75e-07 35005.3\n",
        "      NaCl 5.92e-07 30036.6\n",
        "      NaCl 6.10e-07 25725.1\n",
        "      NaCl 6.29e-07 21991.4\n",
        "      NaCl 6.48e-07 18764.5\n",
        "      NaCl 6.67e-07 15981.2\n",
        "      NaCl 6.88e-07 13585.4\n",
        "      NaCl 7.09e-07 11527.2\n",
        "      NaCl 7.30e-07 9762.6\n",
        "      NaCl 7.52e-07 8252.7\n",
        "      NaCl 7.75e-07 6963.3\n",
        "      NaCl 7.99e-07 5864.4\n",
        "      NaCl 8.23e-07 4929.7\n",
        "      NaCl 8.48e-07 4136.3\n",
        "      NaCl 8.74e-07 3464.0\n",
        "      NaCl 9.00e-07 2895.7\n",
        "      NaCl 9.28e-07 2416.0\n",
        "      NaCl 9.56e-07 2012.1\n",
        "      NaCl 9.85e-07 1672.5\n",
        "\n",
        "--------------------------------------------\n",
        "calculating seeds for equilibrium solver...\n",
        " done"
       ]
      },
      {
       "output_type": "stream",
       "stream": "stdout",
       "text": [
        "\n",
        "PARCEL INITIAL CONDITIONS"
       ]
      },
      {
       "output_type": "stream",
       "stream": "stdout",
       "text": [
        "\n",
        "     P (hPa)    T (K)       wv       wc        S\n",
        "      850.0   294.00  1.9e-02   2.1e-08   -0.02\n",
        "\n",
        "n_steps = 20001\n",
        "\n",
        "Integration successful."
       ]
      },
      {
       "output_type": "stream",
       "stream": "stdout",
       "text": [
        "\n",
        "...done"
       ]
      },
      {
       "output_type": "stream",
       "stream": "stdout",
       "text": [
        "\n"
       ]
      }
     ],
     "prompt_number": 7
    },
    {
     "cell_type": "heading",
     "level": 3,
     "metadata": {},
     "source": [
      "Activation analysis"
     ]
    },
    {
     "cell_type": "code",
     "collapsed": false,
     "input": [
      "## Parameterization -\n",
      "Smax, actfracs = activation(V, T0, P0, initial_aerosols)\n",
      "\n",
      "for actfrac, species in zip(actfracs, aer_species):\n",
      "\n",
      "    print species\n",
      "    aerosol = aerosols2[species]\n",
      "    aer_meta = aer_dict[species]\n",
      "    Nis = aer_meta.Nis\n",
      "\n",
      "    Neq = []\n",
      "    Nkn = []\n",
      "    Nunact = []\n",
      "    S_max = S0\n",
      "\n",
      "    for S, T, i in zip(parcel.S, parcel['T'], xrange(len(parcel.S))):\n",
      "\n",
      "        r_crits, s_crits = zip(*[kohler_crit(T, r_dry, aer_meta.kappa) for r_dry in aer_meta.r_drys])\n",
      "        s_crits = np.array(s_crits)\n",
      "        r_crits = np.array(r_crits)\n",
      "        if S > S_max: S_max = S\n",
      "\n",
      "        big_s =  S_max >= s_crits\n",
      "        Neq.append(np.sum(Nis[big_s]))\n",
      "\n",
      "        rstep = np.array(aerosol.ix[i])\n",
      "        #active_radii = (S > s_crits) | (rstep > r_crits)\n",
      "        active_radii = (rstep > r_crits)\n",
      "        #sar = np.min(active_radii) if len(active_radii) > 0 else 1e99\n",
      "        if len(active_radii) > 0:\n",
      "            Nkn.append(np.sum(Nis[active_radii]))\n",
      "            Nunact.append(np.sum(Nis[(rstep < r_crits)]))\n",
      "        else:\n",
      "            Nkn.append(0.0)\n",
      "            Nunact.append(np.sum(Nis))\n",
      "\n",
      "        print parcel.index[i], Neq[i], Nkn[i], Nunact[i], S_max, S\n",
      "\n",
      "    Neq = np.array(Neq)\n",
      "    Nkn = np.array(Nkn)\n",
      "    Nunact = np.array(Nunact)\n",
      "\n",
      "    parcel[species+'_Neq'] = Neq\n",
      "    parcel[species+'_Nkn'] = Nkn\n",
      "    parcel[species+'_Nunact'] = Nunact\n",
      "\n",
      "    alphaz = Nkn/Neq\n",
      "    alphaz[isnan(alphaz)] = 0.\n",
      "    phiz = Nunact/Nkn\n",
      "    phiz[phiz == inf] = 1.\n",
      "\n",
      "    parcel[species+'_alpha'] = alphaz\n",
      "    parcel[species+'_phi'] = phiz\n",
      "\n",
      "    figure(2)\n",
      "    ax = subplot(3,2,5)\n",
      "    parcel[[species+'_Neq', species+'_Nkn']].plot(ax=ax, grid=True)\n",
      "    xlabel(\"Height\")\n",
      "\n",
      "    subplot(3,2,6)\n",
      "    parcel[species+'_alpha'].plot()\n",
      "    parcel[species+'_phi'].plot()\n",
      "    ylim(0, 1)\n",
      "    xlabel(\"Height\"); ylabel(r'$\\alpha(z),\\quad\\phi(z)$')\n",
      "    print alphaz[-1]    \n",
      "    print \"==\"*35\n",
      "    print species + \" Summary - \"\n",
      "    print \"Max activated fraction (%1.4f)\" % parcel.S.max()\n",
      "    print \"   Eq: \", Neq.max()/np.sum(aer_meta.Nis)\n",
      "    print \"  Kin: \", Nkn.max()/np.sum(aer_meta.Nis)\n",
      "    print \"Ghan/Abdul-Razzak\"\n",
      "    print \" frac: %1.3f (%1.4f)\" % (actfrac, Smax)\n",
      "    print \"\"\n",
      "    print \"Alpha maximum: %2.2f\" % alphaz.max()\n",
      "    print \"  Phi maximum: %2.2f\" % phiz.max()\n",
      "    print \"==\"*35"
     ],
     "language": "python",
     "metadata": {},
     "outputs": [
      {
       "output_type": "stream",
       "stream": "stdout",
       "text": [
        "(NH4)2SO4\n",
        "0.0"
       ]
      },
      {
       "output_type": "stream",
       "stream": "stdout",
       "text": [
        " 0.0 0.0 100013406.361 -0.02 -0.02\n",
        "1.0"
       ]
      },
      {
       "output_type": "stream",
       "stream": "stdout",
       "text": [
        " 0.0 0.0 100013406.361 -0.019513504561 -0.019513504561\n",
        "2.0"
       ]
      },
      {
       "output_type": "stream",
       "stream": "stdout",
       "text": [
        " 0.0 0.0 100013406.361 -0.0190267413925 -0.0190267413925\n",
        "3.0"
       ]
      },
      {
       "output_type": "stream",
       "stream": "stdout",
       "text": [
        " 0.0 0.0 100013406.361 -0.0185397057225 -0.0185397057225\n",
        "4.0"
       ]
      },
      {
       "output_type": "stream",
       "stream": "stdout",
       "text": [
        " 0.0 0.0 100013406.361 -0.0180523976546 -0.0180523976546\n",
        "5.0"
       ]
      },
      {
       "output_type": "stream",
       "stream": "stdout",
       "text": [
        " 0.0 0.0 100013406.361 -0.017564817435 -0.017564817435\n",
        "6.0"
       ]
      },
      {
       "output_type": "stream",
       "stream": "stdout",
       "text": [
        " 0.0 0.0 100013406.361 -0.0170769653693 -0.0170769653693\n",
        "7.0"
       ]
      },
      {
       "output_type": "stream",
       "stream": "stdout",
       "text": [
        " 0.0 0.0 100013406.361 -0.0165888418183 -0.0165888418183\n",
        "8.0"
       ]
      },
      {
       "output_type": "stream",
       "stream": "stdout",
       "text": [
        " 0.0 0.0 100013406.361 -0.0161004472036 -0.0161004472036\n",
        "9.0"
       ]
      },
      {
       "output_type": "stream",
       "stream": "stdout",
       "text": [
        " 0.0 0.0 100013406.361 -0.0156117820156 -0.0156117820156\n",
        "10.0"
       ]
      },
      {
       "output_type": "stream",
       "stream": "stdout",
       "text": [
        " 0.0 0.0 100013406.361 -0.0151228468242 -0.0151228468242\n",
        "11.0"
       ]
      },
      {
       "output_type": "stream",
       "stream": "stdout",
       "text": [
        " 0.0 0.0 100013406.361 -0.0146336422902 -0.0146336422902\n",
        "12.0"
       ]
      },
      {
       "output_type": "stream",
       "stream": "stdout",
       "text": [
        " 0.0 0.0 100013406.361 -0.0141441691801 -0.0141441691801\n",
        "13.0"
       ]
      },
      {
       "output_type": "stream",
       "stream": "stdout",
       "text": [
        " 0.0 0.0 100013406.361 -0.0136544283831 -0.0136544283831\n",
        "14.0"
       ]
      },
      {
       "output_type": "stream",
       "stream": "stdout",
       "text": [
        " 0.0 0.0 100013406.361 -0.0131644209315 -0.0131644209315\n",
        "15.0"
       ]
      },
      {
       "output_type": "stream",
       "stream": "stdout",
       "text": [
        " 0.0 0.0 100013406.361 -0.0126741480256 -0.0126741480256\n",
        "16.0"
       ]
      },
      {
       "output_type": "stream",
       "stream": "stdout",
       "text": [
        " 0.0 0.0 100013406.361 -0.0121836110638 -0.0121836110638\n",
        "17.0"
       ]
      },
      {
       "output_type": "stream",
       "stream": "stdout",
       "text": [
        " 0.0 0.0 100013406.361 -0.0116928116794 -0.0116928116794\n",
        "18.0"
       ]
      },
      {
       "output_type": "stream",
       "stream": "stdout",
       "text": [
        " 0.0 0.0 100013406.361 -0.0112017517853 -0.0112017517853\n",
        "19.0"
       ]
      },
      {
       "output_type": "stream",
       "stream": "stdout",
       "text": [
        " 0.0 0.0 100013406.361 -0.0107104336303 -0.0107104336303\n",
        "20.0"
       ]
      },
      {
       "output_type": "stream",
       "stream": "stdout",
       "text": [
        " 0.0 0.0 100013406.361 -0.0102188598688 -0.0102188598688\n",
        "21.0"
       ]
      },
      {
       "output_type": "stream",
       "stream": "stdout",
       "text": [
        " 0.0 0.0 100013406.361 -0.00972703364811 -0.00972703364811\n",
        "22.0"
       ]
      },
      {
       "output_type": "stream",
       "stream": "stdout",
       "text": [
        " 0.0 0.0 100013406.361 -0.00923495871941 -0.00923495871941\n",
        "23.0"
       ]
      },
      {
       "output_type": "stream",
       "stream": "stdout",
       "text": [
        " 0.0 0.0 100013406.361 -0.00874263958003 -0.00874263958003\n",
        "24.0"
       ]
      },
      {
       "output_type": "stream",
       "stream": "stdout",
       "text": [
        " 0.0 0.0 100013406.361 -0.00825008165679 -0.00825008165679\n",
        "25.0"
       ]
      },
      {
       "output_type": "stream",
       "stream": "stdout",
       "text": [
        " 0.0 0.0 100013406.361 -0.00775729154546 -0.00775729154546\n",
        "26.0"
       ]
      },
      {
       "output_type": "stream",
       "stream": "stdout",
       "text": [
        " 0.0 0.0 100013406.361 -0.00726427732738 -0.00726427732738\n",
        "27.0"
       ]
      },
      {
       "output_type": "stream",
       "stream": "stdout",
       "text": [
        " 0.0 0.0 100013406.361 -0.00677104899227 -0.00677104899227\n",
        "28.0"
       ]
      },
      {
       "output_type": "stream",
       "stream": "stdout",
       "text": [
        " 0.0 0.0 100013406.361 -0.00627761901152 -0.00627761901152\n",
        "29.0"
       ]
      },
      {
       "output_type": "stream",
       "stream": "stdout",
       "text": [
        " 0.0 0.0 100013406.361 -0.00578400312639 -0.00578400312639\n",
        "30.0"
       ]
      },
      {
       "output_type": "stream",
       "stream": "stdout",
       "text": [
        " 0.0 0.0 100013406.361 -0.00529022144896 -0.00529022144896\n",
        "31.0"
       ]
      },
      {
       "output_type": "stream",
       "stream": "stdout",
       "text": [
        " 0.0 0.0 100013406.361 -0.00479630002721 -0.00479630002721\n",
        "32.0"
       ]
      },
      {
       "output_type": "stream",
       "stream": "stdout",
       "text": [
        " 0.0 0.0 100013406.361 -0.00430227311227 -0.00430227311227\n",
        "33.0"
       ]
      },
      {
       "output_type": "stream",
       "stream": "stdout",
       "text": [
        " 0.0 0.0 100013406.361 -0.00380818651293 -0.00380818651293\n",
        "34.0"
       ]
      },
      {
       "output_type": "stream",
       "stream": "stdout",
       "text": [
        " 0.0 0.0 100013406.361 -0.00331410267426 -0.00331410267426\n",
        "35.0"
       ]
      },
      {
       "output_type": "stream",
       "stream": "stdout",
       "text": [
        " 0.0 0.0 100013406.361 -0.00282010856593 -0.00282010856593\n",
        "36.0"
       ]
      },
      {
       "output_type": "stream",
       "stream": "stdout",
       "text": [
        " 0.0 0.0 100013406.361 -0.00232632828531 -0.00232632828531\n",
        "37.0"
       ]
      },
      {
       "output_type": "stream",
       "stream": "stdout",
       "text": [
        " 0.0 0.0 100013406.361 -0.00183294383167 -0.00183294383167\n",
        "38.0"
       ]
      },
      {
       "output_type": "stream",
       "stream": "stdout",
       "text": [
        " 0.0 0.0 100013406.361 -0.00134023054572 -0.00134023054572\n",
        "39.0"
       ]
      },
      {
       "output_type": "stream",
       "stream": "stdout",
       "text": [
        " 0.0 0.0 100013406.361 -0.000848619867937 -0.000848619867937\n",
        "40.0"
       ]
      },
      {
       "output_type": "stream",
       "stream": "stdout",
       "text": [
        " 0.0 0.0 100013406.361 -0.000358814968239 -0.000358814968239\n",
        "41.0"
       ]
      },
      {
       "output_type": "stream",
       "stream": "stdout",
       "text": [
        " 776261.447156 0.0 100013406.361 0.00012798754981 0.00012798754981\n",
        "42.0"
       ]
      },
      {
       "output_type": "stream",
       "stream": "stdout",
       "text": [
        " 18218584.8862 0.0 100013406.361 0.000609657408563 0.000609657408563\n",
        "43.0"
       ]
      },
      {
       "output_type": "stream",
       "stream": "stdout",
       "text": [
        " 36495237.5493 0.0 100013406.361 0.00108223988071 0.00108223988071\n",
        "44.0"
       ]
      },
      {
       "output_type": "stream",
       "stream": "stdout",
       "text": [
        " 50019616.1144 0.0 100013406.361 0.00153819387219 0.00153819387219\n",
        "45.0"
       ]
      },
      {
       "output_type": "stream",
       "stream": "stdout",
       "text": [
        " 58573656.2563 32921180.0916 67092226.2697 0.00196330599777 0.00196330599777\n",
        "46.0"
       ]
      },
      {
       "output_type": "stream",
       "stream": "stdout",
       "text": [
        " 65153912.676 49735595.4361 50277810.9252 0.0023330253796 0.0023330253796\n",
        "47.0"
       ]
      },
      {
       "output_type": "stream",
       "stream": "stdout",
       "text": [
        " 68293668.4527 59040201.2082 40973205.1531 0.0026129278716 0.0026129278716\n",
        "48.0"
       ]
      },
      {
       "output_type": "stream",
       "stream": "stdout",
       "text": [
        " 71307045.7546 63823733.1163 36189673.245 0.00277054088586 0.00277054088586\n",
        "49.0"
       ]
      },
      {
       "output_type": "stream",
       "stream": "stdout",
       "text": [
        " 71307045.7546 66707380.1852 33306026.1761 0.00279503908604 0.00279503908604\n",
        "50.0"
       ]
      },
      {
       "output_type": "stream",
       "stream": "stdout",
       "text": [
        " 71307045.7546 67482468.3328 32530938.0285 0.00279503908604 0.0027062993667\n",
        "51.0"
       ]
      },
      {
       "output_type": "stream",
       "stream": "stdout",
       "text": [
        " 71307045.7546 66338261.7491 33675144.6122 0.00279503908604 0.00254367900418\n",
        "52.0"
       ]
      },
      {
       "output_type": "stream",
       "stream": "stdout",
       "text": [
        " 71307045.7546 66952683.3121 33060723.0492 0.00279503908604 0.00234841583976\n",
        "53.0"
       ]
      },
      {
       "output_type": "stream",
       "stream": "stdout",
       "text": [
        " 71307045.7546 67224318.2734 32789088.0879 0.00279503908604 0.00215200878665\n",
        "54.0"
       ]
      },
      {
       "output_type": "stream",
       "stream": "stdout",
       "text": [
        " 71307045.7546 67474067.2984 32539339.0629 0.00279503908604 0.00197288454937\n",
        "55.0"
       ]
      },
      {
       "output_type": "stream",
       "stream": "stdout",
       "text": [
        " 71307045.7546 67474067.2984 32539339.0629 0.00279503908604 0.00181888407318\n",
        "56.0"
       ]
      },
      {
       "output_type": "stream",
       "stream": "stdout",
       "text": [
        " 71307045.7546 67703265.4407 32310140.9206 0.00279503908604 0.0016910856244\n",
        "57.0"
       ]
      },
      {
       "output_type": "stream",
       "stream": "stdout",
       "text": [
        " 71307045.7546 67913211.41 32100194.9513 0.00279503908604 0.00158702543056\n",
        "58.0"
       ]
      },
      {
       "output_type": "stream",
       "stream": "stdout",
       "text": [
        " 71307045.7546 67913211.41 32100194.9513 0.00279503908604 0.00150285891649\n",
        "59.0"
       ]
      },
      {
       "output_type": "stream",
       "stream": "stdout",
       "text": [
        " 71307045.7546 68105163.6326 31908242.7287 0.00279503908604 0.00143459363993\n",
        "60.0"
       ]
      },
      {
       "output_type": "stream",
       "stream": "stdout",
       "text": [
        " 71307045.7546 68105163.6326 31908242.7287 0.00279503908604 0.00137867787802\n",
        "61.0"
       ]
      },
      {
       "output_type": "stream",
       "stream": "stdout",
       "text": [
        " 71307045.7546 68105163.6326 31908242.7287 0.00279503908604 0.00133220331504\n",
        "62.0"
       ]
      },
      {
       "output_type": "stream",
       "stream": "stdout",
       "text": [
        " 71307045.7546 68280336.9301 31733069.4312 0.00279503908604 0.00129290589975\n",
        "63.0"
       ]
      },
      {
       "output_type": "stream",
       "stream": "stdout",
       "text": [
        " 71307045.7546 68280336.9301 31733069.4312 0.00279503908604 0.0012590787746\n",
        "64.0"
       ]
      },
      {
       "output_type": "stream",
       "stream": "stdout",
       "text": [
        " 71307045.7546 68280336.9301 31733069.4312 0.00279503908604 0.00122946014587\n",
        "65.0"
       ]
      },
      {
       "output_type": "stream",
       "stream": "stdout",
       "text": [
        " 71307045.7546 68439899.7936 31573506.5677 0.00279503908604 0.00120312659729\n",
        "66.0"
       ]
      },
      {
       "output_type": "stream",
       "stream": "stdout",
       "text": [
        " 71307045.7546 68439899.7936 31573506.5677 0.00279503908604 0.0011794038097\n",
        "67.0"
       ]
      },
      {
       "output_type": "stream",
       "stream": "stdout",
       "text": [
        " 71307045.7546 68439899.7936 31573506.5677 0.00279503908604 0.0011577970596\n",
        "68.0"
       ]
      },
      {
       "output_type": "stream",
       "stream": "stdout",
       "text": [
        " 71307045.7546 68439899.7936 31573506.5677 0.00279503908604 0.00113793955379\n",
        "69.0"
       ]
      },
      {
       "output_type": "stream",
       "stream": "stdout",
       "text": [
        " 71307045.7546 68584972.2262 31428434.1351 0.00279503908604 0.00111955519353\n",
        "70.0"
       ]
      },
      {
       "output_type": "stream",
       "stream": "stdout",
       "text": [
        " 71307045.7546 68584972.2262 31428434.1351 0.00279503908604 0.0011024322868\n",
        "71.0"
       ]
      },
      {
       "output_type": "stream",
       "stream": "stdout",
       "text": [
        " 71307045.7546 68584972.2262 31428434.1351 0.00279503908604 0.00108640522461\n",
        "72.0"
       ]
      },
      {
       "output_type": "stream",
       "stream": "stdout",
       "text": [
        " 71307045.7546 68584972.2262 31428434.1351 0.00279503908604 0.00107134178493\n",
        "73.0"
       ]
      },
      {
       "output_type": "stream",
       "stream": "stdout",
       "text": [
        " 71307045.7546 68716624.1233 31296782.238 0.00279503908604 0.00105713433551\n",
        "74.0"
       ]
      },
      {
       "output_type": "stream",
       "stream": "stdout",
       "text": [
        " 71307045.7546 68716624.1233 31296782.238 0.00279503908604 0.00104369370404\n",
        "75.0"
       ]
      },
      {
       "output_type": "stream",
       "stream": "stdout",
       "text": [
        " 71307045.7546 68716624.1233 31296782.238 0.00279503908604 0.0010309448616\n",
        "76.0"
       ]
      },
      {
       "output_type": "stream",
       "stream": "stdout",
       "text": [
        " 71307045.7546 68716624.1233 31296782.238 0.00279503908604 0.00101882383767\n",
        "77.0"
       ]
      },
      {
       "output_type": "stream",
       "stream": "stdout",
       "text": [
        " 71307045.7546 68716624.1233 31296782.238 0.00279503908604 0.00100727547561\n",
        "78.0"
       ]
      },
      {
       "output_type": "stream",
       "stream": "stdout",
       "text": [
        " 71307045.7546 68835874.1557 31177532.2056 0.00279503908604 0.00099625176706\n",
        "79.0"
       ]
      },
      {
       "output_type": "stream",
       "stream": "stdout",
       "text": [
        " 71307045.7546 68835874.1557 31177532.2056 0.00279503908604 0.000985710590428\n",
        "80.0"
       ]
      },
      {
       "output_type": "stream",
       "stream": "stdout",
       "text": [
        " 71307045.7546 68835874.1557 31177532.2056 0.00279503908604 0.00097561473637\n",
        "81.0"
       ]
      },
      {
       "output_type": "stream",
       "stream": "stdout",
       "text": [
        " 71307045.7546 68835874.1557 31177532.2056 0.00279503908604 0.000965931141004\n",
        "82.0"
       ]
      },
      {
       "output_type": "stream",
       "stream": "stdout",
       "text": [
        " 71307045.7546 68835874.1557 31177532.2056 0.00279503908604 0.000956630272466\n",
        "83.0"
       ]
      },
      {
       "output_type": "stream",
       "stream": "stdout",
       "text": [
        " 71307045.7546 68835874.1557 31177532.2056 0.00279503908604 0.000947685633019\n",
        "84.0"
       ]
      },
      {
       "output_type": "stream",
       "stream": "stdout",
       "text": [
        " 71307045.7546 68943689.1205 31069717.2408 0.00279503908604 0.00093907334985\n",
        "85.0"
       ]
      },
      {
       "output_type": "stream",
       "stream": "stdout",
       "text": [
        " 71307045.7546 68943689.1205 31069717.2408 0.00279503908604 0.000930771835122\n",
        "86.0"
       ]
      },
      {
       "output_type": "stream",
       "stream": "stdout",
       "text": [
        " 71307045.7546 68943689.1205 31069717.2408 0.00279503908604 0.000922761500948\n",
        "87.0"
       ]
      },
      {
       "output_type": "stream",
       "stream": "stdout",
       "text": [
        " 71307045.7546 68943689.1205 31069717.2408 0.00279503908604 0.000915024518501\n",
        "88.0"
       ]
      },
      {
       "output_type": "stream",
       "stream": "stdout",
       "text": [
        " 71307045.7546 68943689.1205 31069717.2408 0.00279503908604 0.000907544612994\n",
        "89.0"
       ]
      },
      {
       "output_type": "stream",
       "stream": "stdout",
       "text": [
        " 71307045.7546 68943689.1205 31069717.2408 0.00279503908604 0.00090030688812\n",
        "90.0"
       ]
      },
      {
       "output_type": "stream",
       "stream": "stdout",
       "text": [
        " 71307045.7546 69040983.7214 30972422.6399 0.00279503908604 0.00089329767488\n",
        "91.0"
       ]
      },
      {
       "output_type": "stream",
       "stream": "stdout",
       "text": [
        " 71307045.7546 69040983.7214 30972422.6399 0.00279503908604 0.00088650440076\n",
        "92.0"
       ]
      },
      {
       "output_type": "stream",
       "stream": "stdout",
       "text": [
        " 71307045.7546 69040983.7214 30972422.6399 0.00279503908604 0.00087991547601\n",
        "93.0"
       ]
      },
      {
       "output_type": "stream",
       "stream": "stdout",
       "text": [
        " 71307045.7546 69040983.7214 30972422.6399 0.00279503908604 0.000873520194367\n",
        "94.0"
       ]
      },
      {
       "output_type": "stream",
       "stream": "stdout",
       "text": [
        " 71307045.7546 69040983.7214 30972422.6399 0.00279503908604 0.00086730864605\n",
        "95.0"
       ]
      },
      {
       "output_type": "stream",
       "stream": "stdout",
       "text": [
        " 71307045.7546 69040983.7214 30972422.6399 0.00279503908604 0.00086127164124\n",
        "96.0"
       ]
      },
      {
       "output_type": "stream",
       "stream": "stdout",
       "text": [
        " 71307045.7546 69040983.7214 30972422.6399 0.00279503908604 0.000855400642546\n",
        "97.0"
       ]
      },
      {
       "output_type": "stream",
       "stream": "stdout",
       "text": [
        " 71307045.7546 69040983.7214 30972422.6399 0.00279503908604 0.000849687705212\n",
        "98.0"
       ]
      },
      {
       "output_type": "stream",
       "stream": "stdout",
       "text": [
        " 71307045.7546 69128620.7396 30884785.6217 0.00279503908604 0.000844125424019\n",
        "99.0"
       ]
      },
      {
       "output_type": "stream",
       "stream": "stdout",
       "text": [
        " 71307045.7546 69128620.7396 30884785.6217 0.00279503908604 0.000838706886007\n",
        "100.0"
       ]
      },
      {
       "output_type": "stream",
       "stream": "stdout",
       "text": [
        " 71307045.7546 69128620.7396 30884785.6217 0.00279503908604 0.000833425628246\n",
        "0.969450073384"
       ]
      },
      {
       "output_type": "stream",
       "stream": "stdout",
       "text": [
        "\n",
        "======================================================================\n",
        "(NH4)2SO4 Summary - \n",
        "Max activated fraction (0.0028)\n",
        "   Eq:  0.712974873559\n",
        "  Kin:  0.691193543492\n",
        "Ghan/Abdul-Razzak\n",
        " frac: 0.578 (0.0019)\n",
        "\n",
        "Alpha maximum: 0.97\n",
        "  Phi maximum: 2.04\n",
        "======================================================================\n",
        "NaCl\n",
        "0.0"
       ]
      },
      {
       "output_type": "stream",
       "stream": "stdout",
       "text": [
        " 0.0 0.0 1000134063.61 -0.02 -0.02\n",
        "1.0"
       ]
      },
      {
       "output_type": "stream",
       "stream": "stdout",
       "text": [
        " 0.0 0.0 1000134063.61 -0.019513504561 -0.019513504561\n",
        "2.0"
       ]
      },
      {
       "output_type": "stream",
       "stream": "stdout",
       "text": [
        " 0.0 0.0 1000134063.61 -0.0190267413925 -0.0190267413925\n",
        "3.0"
       ]
      },
      {
       "output_type": "stream",
       "stream": "stdout",
       "text": [
        " 0.0 0.0 1000134063.61 -0.0185397057225 -0.0185397057225\n",
        "4.0"
       ]
      },
      {
       "output_type": "stream",
       "stream": "stdout",
       "text": [
        " 0.0 0.0 1000134063.61 -0.0180523976546 -0.0180523976546\n",
        "5.0"
       ]
      },
      {
       "output_type": "stream",
       "stream": "stdout",
       "text": [
        " 0.0 0.0 1000134063.61 -0.017564817435 -0.017564817435\n",
        "6.0"
       ]
      },
      {
       "output_type": "stream",
       "stream": "stdout",
       "text": [
        " 0.0 0.0 1000134063.61 -0.0170769653693 -0.0170769653693\n",
        "7.0"
       ]
      },
      {
       "output_type": "stream",
       "stream": "stdout",
       "text": [
        " 0.0 0.0 1000134063.61 -0.0165888418183 -0.0165888418183\n",
        "8.0"
       ]
      },
      {
       "output_type": "stream",
       "stream": "stdout",
       "text": [
        " 0.0 0.0 1000134063.61 -0.0161004472036 -0.0161004472036\n",
        "9.0"
       ]
      },
      {
       "output_type": "stream",
       "stream": "stdout",
       "text": [
        " 0.0 0.0 1000134063.61 -0.0156117820156 -0.0156117820156\n",
        "10.0"
       ]
      },
      {
       "output_type": "stream",
       "stream": "stdout",
       "text": [
        " 0.0 0.0 1000134063.61 -0.0151228468242 -0.0151228468242\n",
        "11.0"
       ]
      },
      {
       "output_type": "stream",
       "stream": "stdout",
       "text": [
        " 0.0 0.0 1000134063.61 -0.0146336422902 -0.0146336422902\n",
        "12.0"
       ]
      },
      {
       "output_type": "stream",
       "stream": "stdout",
       "text": [
        " 0.0 0.0 1000134063.61 -0.0141441691801 -0.0141441691801\n",
        "13.0"
       ]
      },
      {
       "output_type": "stream",
       "stream": "stdout",
       "text": [
        " 0.0 0.0 1000134063.61 -0.0136544283831 -0.0136544283831\n",
        "14.0"
       ]
      },
      {
       "output_type": "stream",
       "stream": "stdout",
       "text": [
        " 0.0 0.0 1000134063.61 -0.0131644209315 -0.0131644209315\n",
        "15.0"
       ]
      },
      {
       "output_type": "stream",
       "stream": "stdout",
       "text": [
        " 0.0 0.0 1000134063.61 -0.0126741480256 -0.0126741480256\n",
        "16.0"
       ]
      },
      {
       "output_type": "stream",
       "stream": "stdout",
       "text": [
        " 0.0 0.0 1000134063.61 -0.0121836110638 -0.0121836110638\n",
        "17.0"
       ]
      },
      {
       "output_type": "stream",
       "stream": "stdout",
       "text": [
        " 0.0 0.0 1000134063.61 -0.0116928116794 -0.0116928116794\n",
        "18.0"
       ]
      },
      {
       "output_type": "stream",
       "stream": "stdout",
       "text": [
        " 0.0 0.0 1000134063.61 -0.0112017517853 -0.0112017517853\n",
        "19.0"
       ]
      },
      {
       "output_type": "stream",
       "stream": "stdout",
       "text": [
        " 0.0 0.0 1000134063.61 -0.0107104336303 -0.0107104336303\n",
        "20.0"
       ]
      },
      {
       "output_type": "stream",
       "stream": "stdout",
       "text": [
        " 0.0 0.0 1000134063.61 -0.0102188598688 -0.0102188598688\n",
        "21.0"
       ]
      },
      {
       "output_type": "stream",
       "stream": "stdout",
       "text": [
        " 0.0 0.0 1000134063.61 -0.00972703364811 -0.00972703364811\n",
        "22.0"
       ]
      },
      {
       "output_type": "stream",
       "stream": "stdout",
       "text": [
        " 0.0 0.0 1000134063.61 -0.00923495871941 -0.00923495871941\n",
        "23.0"
       ]
      },
      {
       "output_type": "stream",
       "stream": "stdout",
       "text": [
        " 0.0 0.0 1000134063.61 -0.00874263958003 -0.00874263958003\n",
        "24.0"
       ]
      },
      {
       "output_type": "stream",
       "stream": "stdout",
       "text": [
        " 0.0 0.0 1000134063.61 -0.00825008165679 -0.00825008165679\n",
        "25.0"
       ]
      },
      {
       "output_type": "stream",
       "stream": "stdout",
       "text": [
        " 0.0 0.0 1000134063.61 -0.00775729154546 -0.00775729154546\n",
        "26.0"
       ]
      },
      {
       "output_type": "stream",
       "stream": "stdout",
       "text": [
        " 0.0 0.0 1000134063.61 -0.00726427732738 -0.00726427732738\n",
        "27.0"
       ]
      },
      {
       "output_type": "stream",
       "stream": "stdout",
       "text": [
        " 0.0 0.0 1000134063.61 -0.00677104899227 -0.00677104899227\n",
        "28.0"
       ]
      },
      {
       "output_type": "stream",
       "stream": "stdout",
       "text": [
        " 0.0 0.0 1000134063.61 -0.00627761901152 -0.00627761901152\n",
        "29.0"
       ]
      },
      {
       "output_type": "stream",
       "stream": "stdout",
       "text": [
        " 0.0 0.0 1000134063.61 -0.00578400312639 -0.00578400312639\n",
        "30.0"
       ]
      },
      {
       "output_type": "stream",
       "stream": "stdout",
       "text": [
        " 0.0 0.0 1000134063.61 -0.00529022144896 -0.00529022144896\n",
        "31.0"
       ]
      },
      {
       "output_type": "stream",
       "stream": "stdout",
       "text": [
        " 0.0 0.0 1000134063.61 -0.00479630002721 -0.00479630002721\n",
        "32.0"
       ]
      },
      {
       "output_type": "stream",
       "stream": "stdout",
       "text": [
        " 0.0 0.0 1000134063.61 -0.00430227311227 -0.00430227311227\n",
        "33.0"
       ]
      },
      {
       "output_type": "stream",
       "stream": "stdout",
       "text": [
        " 0.0 0.0 1000134063.61 -0.00380818651293 -0.00380818651293\n",
        "34.0"
       ]
      },
      {
       "output_type": "stream",
       "stream": "stdout",
       "text": [
        " 0.0 0.0 1000134063.61 -0.00331410267426 -0.00331410267426\n",
        "35.0"
       ]
      },
      {
       "output_type": "stream",
       "stream": "stdout",
       "text": [
        " 0.0 0.0 1000134063.61 -0.00282010856593 -0.00282010856593\n",
        "36.0"
       ]
      },
      {
       "output_type": "stream",
       "stream": "stdout",
       "text": [
        " 0.0 0.0 1000134063.61 -0.00232632828531 -0.00232632828531\n",
        "37.0"
       ]
      },
      {
       "output_type": "stream",
       "stream": "stdout",
       "text": [
        " 0.0 0.0 1000134063.61 -0.00183294383167 -0.00183294383167\n",
        "38.0"
       ]
      },
      {
       "output_type": "stream",
       "stream": "stdout",
       "text": [
        " 0.0 0.0 1000134063.61 -0.00134023054572 -0.00134023054572\n",
        "39.0"
       ]
      },
      {
       "output_type": "stream",
       "stream": "stdout",
       "text": [
        " 0.0 0.0 1000134063.61 -0.000848619867937 -0.000848619867937\n",
        "40.0"
       ]
      },
      {
       "output_type": "stream",
       "stream": "stdout",
       "text": [
        " 0.0 0.0 1000134063.61 -0.000358814968239 -0.000358814968239\n",
        "41.0"
       ]
      },
      {
       "output_type": "stream",
       "stream": "stdout",
       "text": [
        " 159944.206325 0.0 1000134063.61 0.00012798754981 0.00012798754981\n",
        "42.0"
       ]
      },
      {
       "output_type": "stream",
       "stream": "stdout",
       "text": [
        " 17120815.3596 0.0 1000134063.61 0.000609657408563 0.000609657408563\n",
        "43.0"
       ]
      },
      {
       "output_type": "stream",
       "stream": "stdout",
       "text": [
        " 59935120.5231 0.0 1000134063.61 0.00108223988071 0.00108223988071\n",
        "44.0"
       ]
      },
      {
       "output_type": "stream",
       "stream": "stdout",
       "text": [
        " 113220001.259 0.0 1000134063.61 0.00153819387219 0.00153819387219\n",
        "45.0"
       ]
      },
      {
       "output_type": "stream",
       "stream": "stdout",
       "text": [
        " 170984360.228 96099185.899 904034877.714 0.00196330599777 0.00196330599777\n",
        "46.0"
       ]
      },
      {
       "output_type": "stream",
       "stream": "stdout",
       "text": [
        " 205927361.455 174423234.391 825710829.222 0.0023330253796 0.0023330253796\n",
        "47.0"
       ]
      },
      {
       "output_type": "stream",
       "stream": "stdout",
       "text": [
        " 244787338.735 214264359.57 785869704.043 0.0026129278716 0.0026129278716\n",
        "48.0"
       ]
      },
      {
       "output_type": "stream",
       "stream": "stdout",
       "text": [
        " 258567136.392 241950990.663 758183072.95 0.00277054088586 0.00277054088586\n",
        "49.0"
       ]
      },
      {
       "output_type": "stream",
       "stream": "stdout",
       "text": [
        " 258567136.392 256400314.351 743733749.262 0.00279503908604 0.00279503908604\n",
        "50.0"
       ]
      },
      {
       "output_type": "stream",
       "stream": "stdout",
       "text": [
        " 258567136.392 256923671.509 743210392.105 0.00279503908604 0.0027062993667\n",
        "51.0"
       ]
      },
      {
       "output_type": "stream",
       "stream": "stdout",
       "text": [
        " 258567136.392 257329728.506 742804335.107 0.00279503908604 0.00254367900418\n",
        "52.0"
       ]
      },
      {
       "output_type": "stream",
       "stream": "stdout",
       "text": [
        " 258567136.392 257496427.446 742637636.167 0.00279503908604 0.00234841583976\n",
        "53.0"
       ]
      },
      {
       "output_type": "stream",
       "stream": "stdout",
       "text": [
        " 258567136.392 257642432.88 742491630.733 0.00279503908604 0.00215200878665\n",
        "54.0"
       ]
      },
      {
       "output_type": "stream",
       "stream": "stdout",
       "text": [
        " 258567136.392 257770075.103 742363988.51 0.00279503908604 0.00197288454937\n",
        "55.0"
       ]
      },
      {
       "output_type": "stream",
       "stream": "stdout",
       "text": [
        " 258567136.392 257881455.522 742252608.091 0.00279503908604 0.00181888407318\n",
        "56.0"
       ]
      },
      {
       "output_type": "stream",
       "stream": "stdout",
       "text": [
        " 258567136.392 257978464.627 742155598.986 0.00279503908604 0.0016910856244\n",
        "57.0"
       ]
      },
      {
       "output_type": "stream",
       "stream": "stdout",
       "text": [
        " 258567136.392 257978464.627 742155598.986 0.00279503908604 0.00158702543056\n",
        "58.0"
       ]
      },
      {
       "output_type": "stream",
       "stream": "stdout",
       "text": [
        " 258567136.392 258062799.131 742071264.482 0.00279503908604 0.00150285891649\n",
        "59.0"
       ]
      },
      {
       "output_type": "stream",
       "stream": "stdout",
       "text": [
        " 258567136.392 258062799.131 742071264.482 0.00279503908604 0.00143459363993\n",
        "60.0"
       ]
      },
      {
       "output_type": "stream",
       "stream": "stdout",
       "text": [
        " 258567136.392 258135978.263 741998085.35 0.00279503908604 0.00137867787802\n",
        "61.0"
       ]
      },
      {
       "output_type": "stream",
       "stream": "stdout",
       "text": [
        " 258567136.392 258135978.263 741998085.35 0.00279503908604 0.00133220331504\n",
        "62.0"
       ]
      },
      {
       "output_type": "stream",
       "stream": "stdout",
       "text": [
        " 258567136.392 258135978.263 741998085.35 0.00279503908604 0.00129290589975\n",
        "63.0"
       ]
      },
      {
       "output_type": "stream",
       "stream": "stdout",
       "text": [
        " 258567136.392 258199359.157 741934704.456 0.00279503908604 0.0012590787746\n",
        "64.0"
       ]
      },
      {
       "output_type": "stream",
       "stream": "stdout",
       "text": [
        " 258567136.392 258199359.157 741934704.456 0.00279503908604 0.00122946014587\n",
        "65.0"
       ]
      },
      {
       "output_type": "stream",
       "stream": "stdout",
       "text": [
        " 258567136.392 258199359.157 741934704.456 0.00279503908604 0.00120312659729\n",
        "66.0"
       ]
      },
      {
       "output_type": "stream",
       "stream": "stdout",
       "text": [
        " 258567136.392 258254151.343 741879912.27 0.00279503908604 0.0011794038097\n",
        "67.0"
       ]
      },
      {
       "output_type": "stream",
       "stream": "stdout",
       "text": [
        " 258567136.392 258254151.343 741879912.27 0.00279503908604 0.0011577970596\n",
        "68.0"
       ]
      },
      {
       "output_type": "stream",
       "stream": "stdout",
       "text": [
        " 258567136.392 258254151.343 741879912.27 0.00279503908604 0.00113793955379\n",
        "69.0"
       ]
      },
      {
       "output_type": "stream",
       "stream": "stdout",
       "text": [
        " 258567136.392 258254151.343 741879912.27 0.00279503908604 0.00111955519353\n",
        "70.0"
       ]
      },
      {
       "output_type": "stream",
       "stream": "stdout",
       "text": [
        " 258567136.392 258301430.317 741832633.296 0.00279503908604 0.0011024322868\n",
        "71.0"
       ]
      },
      {
       "output_type": "stream",
       "stream": "stdout",
       "text": [
        " 258567136.392 258301430.317 741832633.296 0.00279503908604 0.00108640522461\n",
        "72.0"
       ]
      },
      {
       "output_type": "stream",
       "stream": "stdout",
       "text": [
        " 258567136.392 258301430.317 741832633.296 0.00279503908604 0.00107134178493\n",
        "73.0"
       ]
      },
      {
       "output_type": "stream",
       "stream": "stdout",
       "text": [
        " 258567136.392 258301430.317 741832633.296 0.00279503908604 0.00105713433551\n",
        "74.0"
       ]
      },
      {
       "output_type": "stream",
       "stream": "stdout",
       "text": [
        " 258567136.392 258301430.317 741832633.296 0.00279503908604 0.00104369370404\n",
        "75.0"
       ]
      },
      {
       "output_type": "stream",
       "stream": "stdout",
       "text": [
        " 258567136.392 258342150.21 741791913.403 0.00279503908604 0.0010309448616\n",
        "76.0"
       ]
      },
      {
       "output_type": "stream",
       "stream": "stdout",
       "text": [
        " 258567136.392 258342150.21 741791913.403 0.00279503908604 0.00101882383767\n",
        "77.0"
       ]
      },
      {
       "output_type": "stream",
       "stream": "stdout",
       "text": [
        " 258567136.392 258342150.21 741791913.403 0.00279503908604 0.00100727547561\n",
        "78.0"
       ]
      },
      {
       "output_type": "stream",
       "stream": "stdout",
       "text": [
        " 258567136.392 258342150.21 741791913.403 0.00279503908604 0.00099625176706\n",
        "79.0"
       ]
      },
      {
       "output_type": "stream",
       "stream": "stdout",
       "text": [
        " 258567136.392 258342150.21 741791913.403 0.00279503908604 0.000985710590428\n",
        "80.0"
       ]
      },
      {
       "output_type": "stream",
       "stream": "stdout",
       "text": [
        " 258567136.392 258377155.554 741756908.06 0.00279503908604 0.00097561473637\n",
        "81.0"
       ]
      },
      {
       "output_type": "stream",
       "stream": "stdout",
       "text": [
        " 258567136.392 258377155.554 741756908.06 0.00279503908604 0.000965931141004\n",
        "82.0"
       ]
      },
      {
       "output_type": "stream",
       "stream": "stdout",
       "text": [
        " 258567136.392 258377155.554 741756908.06 0.00279503908604 0.000956630272466\n",
        "83.0"
       ]
      },
      {
       "output_type": "stream",
       "stream": "stdout",
       "text": [
        " 258567136.392 258377155.554 741756908.06 0.00279503908604 0.000947685633019\n",
        "84.0"
       ]
      },
      {
       "output_type": "stream",
       "stream": "stdout",
       "text": [
        " 258567136.392 258377155.554 741756908.06 0.00279503908604 0.00093907334985\n",
        "85.0"
       ]
      },
      {
       "output_type": "stream",
       "stream": "stdout",
       "text": [
        " 258567136.392 258377155.554 741756908.06 0.00279503908604 0.000930771835122\n",
        "86.0"
       ]
      },
      {
       "output_type": "stream",
       "stream": "stdout",
       "text": [
        " 258567136.392 258407192.185 741726871.428 0.00279503908604 0.000922761500948\n",
        "87.0"
       ]
      },
      {
       "output_type": "stream",
       "stream": "stdout",
       "text": [
        " 258567136.392 258407192.185 741726871.428 0.00279503908604 0.000915024518501\n",
        "88.0"
       ]
      },
      {
       "output_type": "stream",
       "stream": "stdout",
       "text": [
        " 258567136.392 258407192.185 741726871.428 0.00279503908604 0.000907544612994\n",
        "89.0"
       ]
      },
      {
       "output_type": "stream",
       "stream": "stdout",
       "text": [
        " 258567136.392 258407192.185 741726871.428 0.00279503908604 0.00090030688812\n",
        "90.0"
       ]
      },
      {
       "output_type": "stream",
       "stream": "stdout",
       "text": [
        " 258567136.392 258407192.185 741726871.428 0.00279503908604 0.00089329767488\n",
        "91.0"
       ]
      },
      {
       "output_type": "stream",
       "stream": "stdout",
       "text": [
        " 258567136.392 258407192.185 741726871.428 0.00279503908604 0.00088650440076\n",
        "92.0"
       ]
      },
      {
       "output_type": "stream",
       "stream": "stdout",
       "text": [
        " 258567136.392 258407192.185 741726871.428 0.00279503908604 0.00087991547601\n",
        "93.0"
       ]
      },
      {
       "output_type": "stream",
       "stream": "stdout",
       "text": [
        " 258567136.392 258432917.297 741701146.316 0.00279503908604 0.000873520194367\n",
        "94.0"
       ]
      },
      {
       "output_type": "stream",
       "stream": "stdout",
       "text": [
        " 258567136.392 258432917.297 741701146.316 0.00279503908604 0.00086730864605\n",
        "95.0"
       ]
      },
      {
       "output_type": "stream",
       "stream": "stdout",
       "text": [
        " 258567136.392 258432917.297 741701146.316 0.00279503908604 0.00086127164124\n",
        "96.0"
       ]
      },
      {
       "output_type": "stream",
       "stream": "stdout",
       "text": [
        " 258567136.392 258432917.297 741701146.316 0.00279503908604 0.000855400642546\n",
        "97.0"
       ]
      },
      {
       "output_type": "stream",
       "stream": "stdout",
       "text": [
        " 258567136.392 258432917.297 741701146.316 0.00279503908604 0.000849687705212\n",
        "98.0"
       ]
      },
      {
       "output_type": "stream",
       "stream": "stdout",
       "text": [
        " 258567136.392 258432917.297 741701146.316 0.00279503908604 0.000844125424019\n",
        "99.0"
       ]
      },
      {
       "output_type": "stream",
       "stream": "stdout",
       "text": [
        " 258567136.392 258432917.297 741701146.316 0.00279503908604 0.000838706886007\n",
        "100.0"
       ]
      },
      {
       "output_type": "stream",
       "stream": "stdout",
       "text": [
        " 258567136.392 258432917.297 741701146.316 0.00279503908604 0.000833425628246\n",
        "0.999480912012\n",
        "======================================================================\n",
        "NaCl Summary - \n",
        "Max activated fraction (0.0028)\n",
        "   Eq:  0.258532476594\n",
        "  Kin:  0.258398275491\n",
        "Ghan/Abdul-Razzak\n",
        " frac: 0.164 (0.0019)\n",
        "\n",
        "Alpha maximum: 1.00\n",
        "  Phi maximum: 9.41\n",
        "======================================================================\n"
       ]
      },
      {
       "output_type": "display_data",
       "png": "[encoded data removed]"
      }
     ],
     "prompt_number": 8
    },
    {
     "cell_type": "code",
     "collapsed": false,
     "input": [
      "from micro import *\n",
      "from scipy.special import erfc, erf\n",
      "\n",
      "T = T0 # K\n",
      "P = P0 # Pa\n",
      "\n",
      "## Sulfate aerosol, 1 mode\n",
      "sigma = aerosol1.distribution.sigma\n",
      "am = aerosol1.distribution.mu*1e-6\n",
      "N = aerosol1.distribution.N*1e6\n",
      "kappa = aerosol1.kappa\n",
      "Ma = 132.*1e-3\n",
      "rhoa = 1.77*1e3\n",
      "\n",
      "fi = 0.5*np.exp(2.5*(np.log(sigma)**2))\n",
      "gi = 1.0 + 0.25*np.log(sigma)\n",
      "\n",
      "## Smi = (2./np.sqrt(Bi))*((A/(3.*am))**(3./2.))\n",
      "A = (2.*sigma_w(T)*Mw)/(rho_w*R*T)\n",
      "Bi = (3.*1.*1.*Mw*rhoa)/(Ma*rho_w)\n",
      "Smi = (2./np.sqrt(Bi))*((A/(3.*am))**1.5)\n",
      "_, Smi2 = kohler_crit(T, am, kappa)\n",
      "\n",
      "print Smi, Smi2\n",
      "\n",
      "G_a = (rho_w*R*T)/(es(T-273.15)*Dv*Mw)\n",
      "G_b = (L*rho_w*((L*Mw/(R*T))-1))/(ka(T)*T)\n",
      "G = 1./(G_a + G_b)\n",
      "\n",
      "alpha = (g*Mw*L)/(Cp*R*(T**2)) - (G*Ma)/(R*T)\n",
      "gamma = (R*T)/(es(T-273.15)*Mw) + (Mw*(L**2))/(Cp*Ma*T*P)\n",
      "\n",
      "zeta = (2./3.)*A*(np.sqrt(alpha*V/G))\n",
      "etai = ((alpha*V/G)**(3./2.))/(N*gamma*rho_w*2.*np.pi)\n",
      "\n",
      "##\n",
      "Spa = fi*((zeta/etai)**(1.5))\n",
      "Spb = gi*(((Smi**2)/(etai + 3.*zeta))**(0.75))\n",
      "S_part = (1./(Smi**2))*(Spa + Spb)\n",
      "Smax = 1./np.sqrt(S_part)\n",
      "\n",
      "ac = am*((Smi/Smax)**(2./3.))\n",
      "u = 2.*np.log(Smi/Smax)/(3.*np.sqrt(2)*np.log(sigma))\n",
      "u2 = 2.*np.log(Smi2/Smax)/(3.*np.sqrt(2)*np.log(sigma))\n",
      "\n",
      "N_act = 0.5*N*erfc(u)\n",
      "N_act2 = 0.5*N*erfc(u2)\n",
      "\n",
      "print Smax\n",
      "print \"osmotic\", N_act, N_act/N\n",
      "print \"kappa\", N_act2, N_act2/N\n",
      "print \"parcel\", Neq.max(), Neq.max()/np.sum(aer_meta.Nis)\n",
      "\n",
      "x = np.linspace(-3, 3, 1000)\n",
      "plot(x, erfc(x))\n",
      "plot(u, erfc(u), marker='o', markersize=14)\n",
      "plot(u2, erfc(u2), marker='d', color='r', markersize=14)"
     ],
     "language": "python",
     "metadata": {},
     "outputs": [
      {
       "output_type": "stream",
       "stream": "stdout",
       "text": [
        "0.00306311930414 0.00475627981059\n",
        "0.0025904052528\n",
        "osmotic 523154048.92 0.435961707434\n",
        "kappa 335355729.825 0.279463108187\n",
        "parcel 362624842.874 0.302146862161\n"
       ]
      },
      {
       "output_type": "pyout",
       "prompt_number": 24,
       "text": [
        "[<matplotlib.lines.Line2D at 0x1100bd4d0>]"
       ]
      },
      {
       "output_type": "display_data",
       "png": "[encoded data removed]"
      }
     ],
     "prompt_number": 24
    },
    {
     "cell_type": "code",
     "collapsed": false,
     "input": [
      "f = figure()\n",
      "ax1 = f.add_subplot(111)\n",
      "rp = aerosols['NaCl'].r000.plot()\n",
      "sp = parcel.S.plot(ax=ax1, secondary_y=True, color='r')\n",
      "ylim(-0.02, 0.02)\n",
      "\n",
      "max_idx = np.argmax(parcel.S)\n",
      "t_at_max = parcel['T'][max_idx]\n",
      "z_at_max = parcel.index[max_idx]\n",
      "print parcel.S.max(), t_at_max\n",
      "\n",
      "rcs, scs = kohler_crit(t_at_max, aerosol2.r_drys[0], aerosol2.kappa)\n",
      "print rcs, scs\n",
      "plot(z_at_max, scs, marker='o', color='r')\n",
      "ax1.plot(z_at_max, rcs, marker='o')"
     ],
     "language": "python",
     "metadata": {},
     "outputs": [
      {
       "output_type": "stream",
       "stream": "stdout",
       "text": [
        "0.00396607892506 285.109613557\n",
        "1.04005961952e-09 1.54491577539\n"
       ]
      },
      {
       "output_type": "pyout",
       "prompt_number": 69,
       "text": [
        "[<matplotlib.lines.Line2D at 0x1116b14d0>]"
       ]
      },
      {
       "output_type": "display_data",
       "png": "[encoded data removed]"
      }
     ],
     "prompt_number": 69
    },
    {
     "cell_type": "code",
     "collapsed": false,
     "input": [
      "parcel.Tv = (1. + 0.61*parcel.wv)*parcel['T']\n",
      "parcel.rho = parcel.P/(Rd*parcel.Tv)\n",
      "r_eff_eq = r_eff(parcel.rho, parcel.wc, parcel['(NH4)2SO4_Neq'])*1e6\n",
      "r_eff_kn = r_eff(parcel.rho, parcel.wc, parcel['(NH4)2SO4_Nkn'])*1e6\n",
      "\n",
      "plot(parcel.index, r_eff_eq)\n",
      "plot(parcel.index, r_eff_kn)"
     ],
     "language": "python",
     "metadata": {},
     "outputs": [
      {
       "output_type": "pyout",
       "prompt_number": 42,
       "text": [
        "[<matplotlib.lines.Line2D at 0x10b494b10>]"
       ]
      },
      {
       "output_type": "display_data",
       "png": "[encoded data removed]"
      }
     ],
     "prompt_number": 42
    },
    {
     "cell_type": "code",
     "collapsed": false,
     "input": [],
     "language": "python",
     "metadata": {},
     "outputs": []
    }
   ],
   "metadata": {}
  }
 ]
}