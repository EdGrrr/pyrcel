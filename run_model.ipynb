{
 "metadata": {
  "name": "run_model"
 },
 "nbformat": 3,
 "nbformat_minor": 0,
 "worksheets": [
  {
   "cells": [
    {
     "cell_type": "heading",
     "level": 2,
     "metadata": {},
     "source": [
      "Parcel model quick setup and run"
     ]
    },
    {
     "cell_type": "code",
     "collapsed": false,
     "input": [
      "from lognorm import Lognorm\n",
      "from parcel import ParcelModel, AerosolSpecies\n",
      "from micro import kohler_crit, Rd, r_eff\n",
      "import pandas"
     ],
     "language": "python",
     "metadata": {},
     "outputs": [],
     "prompt_number": 2
    },
    {
     "cell_type": "heading",
     "level": 4,
     "metadata": {},
     "source": [
      "Set the parcel's initial environmental conditions"
     ]
    },
    {
     "cell_type": "code",
     "collapsed": false,
     "input": [
      "P0 = 85000. # Pressure, Pa\n",
      "T0 = 294.0 # Temperature, K\n",
      "S0 = -0.02 # Supersaturation. 1-RH from wv term\n",
      "V = 0.5 # m/s"
     ],
     "language": "python",
     "metadata": {},
     "outputs": [],
     "prompt_number": 20
    },
    {
     "cell_type": "heading",
     "level": 4,
     "metadata": {},
     "source": [
      "Add aerosols to the parcel"
     ]
    },
    {
     "cell_type": "code",
     "collapsed": false,
     "input": [
      "aerosol1 = AerosolSpecies('(NH4)2SO4', Lognorm(mu=0.03, sigma=2.0, N=1200.),\n",
      "                          bins=200, kappa=0.3)\n",
      "#aerosol2 = AerosolSpecies('NaCl', {'r_drys': [0.05, ], 'Nis': [10000.0, ]}, kappa=0.1)\n",
      "aerosol2 = AerosolSpecies('NaCl', Lognorm(mu=0.01, sigma=1.2, N=3000.),\n",
      "                          bins=40, kappa=0.15)\n",
      "\n",
      "#initial_aerosols = [aerosol1, aerosol2, ]\n",
      "initial_aerosols = [aerosol1, ]\n",
      "\n",
      "aer_species = [a.species for a in initial_aerosols]\n",
      "aer_dict = dict()\n",
      "for aerosol in initial_aerosols:\n",
      "    aer_dict[aerosol.species] = aerosol\n",
      "\n",
      "## Plot the size distribution:\n",
      "figure(2, figsize=(12,10))\n",
      "clf()\n",
      "subplot(3,2,1)\n",
      "colors = 'bgrcmyk'\n",
      "for i, aerosol in enumerate(initial_aerosols):\n",
      "    rs, Nis = aerosol.rs, aerosol.Nis\n",
      "    bar(rs[:-1], Nis/np.diff(rs)*1e-6, diff(rs), color=colors[i], alpha=0.5)\n",
      "semilogx()\n",
      "xlabel(r'dry radius ($\\mu$m)'); ylabel(r'N ($m^{-3}$)')"
     ],
     "language": "python",
     "metadata": {},
     "outputs": [
      {
       "output_type": "pyout",
       "prompt_number": 21,
       "text": [
        "<matplotlib.text.Text at 0x108825ad0>"
       ]
      },
      {
       "output_type": "display_data",
       "png": "[encoded data removed]"
      }
     ],
     "prompt_number": 21
    },
    {
     "cell_type": "heading",
     "level": 4,
     "metadata": {},
     "source": [
      "Setup and run the model"
     ]
    },
    {
     "cell_type": "code",
     "collapsed": false,
     "input": [
      "z_top = 100.0 # meters\n",
      "dt = 0.01 # seconds\n",
      "\n",
      "pm = ParcelModel(initial_aerosols, V, T0, S0, P0, console=True)\n",
      "parcel, aerosols = pm.run(z_top, dt)\n",
      "\n",
      "print \"...done\"\n",
      "\n",
      "xs = np.arange(501)\n",
      "parcel = parcel.ix[parcel.index % 1 == 0]\n",
      "aero_subset = {}\n",
      "for key in aerosols:\n",
      "    aerosol = aerosols[key]\n",
      "    subset = aerosol.ix[aerosol.index % 1 == 0]\n",
      "    aero_subset[key] = subset\n",
      "aerosols2 = aero_subset\n"
     ],
     "language": "python",
     "metadata": {},
     "outputs": [
      {
       "output_type": "stream",
       "stream": "stdout",
       "text": [
        "AEROSOL DISTRIBUTION\n",
        "       r      N\n",
        " (NH4)2SO4 1.52e-09 2001.5\n",
        " (NH4)2SO4 1.57e-09 2407.9\n",
        " (NH4)2SO4 1.62e-09 2891.4\n",
        " (NH4)2SO4 1.67e-09 3465.5\n",
        " (NH4)2SO4 1.72e-09 4145.8\n",
        " (NH4)2SO4 1.77e-09 4950.4\n",
        " (NH4)2SO4 1.82e-09 5900.2\n",
        " (NH4)2SO4 1.88e-09 7019.1\n",
        " (NH4)2SO4 1.93e-09 8334.6\n",
        " (NH4)2SO4 1.99e-09 9878.3\n",
        " (NH4)2SO4 2.05e-09 11685.9\n",
        " (NH4)2SO4 2.12e-09 13798.5\n",
        " (NH4)2SO4 2.18e-09 16262.7\n",
        " (NH4)2SO4 2.25e-09 19131.2\n",
        " (NH4)2SO4 2.32e-09 22463.7\n",
        " (NH4)2SO4 2.39e-09 26327.5\n",
        " (NH4)2SO4 2.46e-09 30798.2\n",
        " (NH4)2SO4 2.53e-09 35961.0\n",
        " (NH4)2SO4 2.61e-09 41910.9\n",
        " (NH4)2SO4 2.69e-09 48754.2\n",
        " (NH4)2SO4 2.77e-09 56609.0\n",
        " (NH4)2SO4 2.86e-09 65606.6\n",
        " (NH4)2SO4 2.94e-09 75892.6\n",
        " (NH4)2SO4 3.03e-09 87627.5\n",
        " (NH4)2SO4 3.12e-09 100988.2\n",
        " (NH4)2SO4 3.22e-09 116168.9\n",
        " (NH4)2SO4 3.32e-09 133382.4\n",
        " (NH4)2SO4 3.42e-09 152860.8\n",
        " (NH4)2SO4 3.52e-09 174856.9\n",
        " (NH4)2SO4 3.63e-09 199645.1\n",
        " (NH4)2SO4 3.74e-09 227522.2\n",
        " (NH4)2SO4 3.85e-09 258808.2\n",
        " (NH4)2SO4 3.97e-09 293847.1\n",
        " (NH4)2SO4 4.09e-09 333007.5\n",
        " (NH4)2SO4 4.22e-09 376682.7\n",
        " (NH4)2SO4 4.34e-09 425291.3\n",
        " (NH4)2SO4 4.48e-09 479276.9\n",
        " (NH4)2SO4 4.61e-09 539107.9\n",
        " (NH4)2SO4 4.75e-09 605276.8\n",
        " (NH4)2SO4 4.90e-09 678299.5\n",
        " (NH4)2SO4 5.05e-09 758714.1\n",
        " (NH4)2SO4 5.20e-09 847079.0\n",
        " (NH4)2SO4 5.36e-09 943971.5\n",
        " (NH4)2SO4 5.52e-09 1049984.8\n",
        " (NH4)2SO4 5.69e-09 1165725.4\n",
        " (NH4)2SO4 5.86e-09 1291810.1\n",
        " (NH4)2SO4 6.04e-09 1428861.9\n",
        " (NH4)2SO4 6.22e-09 1577505.9\n",
        " (NH4)2SO4 6.41e-09 1738364.7\n",
        " (NH4)2SO4 6.61e-09 1912053.1\n",
        " (NH4)2SO4 6.81e-09 2099172.6\n",
        " (NH4)2SO4 7.02e-09 2300305.5\n",
        " (NH4)2SO4 7.23e-09 2516008.1\n",
        " (NH4)2SO4 7.45e-09 2746804.3\n",
        " (NH4)2SO4 7.68e-09 2993178.0\n",
        " (NH4)2SO4 7.91e-09 3255566.3\n",
        " (NH4)2SO4 8.15e-09 3534351.1\n",
        " (NH4)2SO4 8.40e-09 3829852.1\n",
        " (NH4)2SO4 8.65e-09 4142318.3\n",
        " (NH4)2SO4 8.92e-09 4471920.6\n",
        " (NH4)2SO4 9.19e-09 4818744.1\n",
        " (NH4)2SO4 9.47e-09 5182780.3\n",
        " (NH4)2SO4 9.76e-09 5563920.3\n",
        " (NH4)2SO4 1.01e-08 5961947.5\n",
        " (NH4)2SO4 1.04e-08 6376532.2\n",
        " (NH4)2SO4 1.07e-08 6807225.3\n",
        " (NH4)2SO4 1.10e-08 7253453.7\n",
        " (NH4)2SO4 1.13e-08 7714516.7\n",
        " (NH4)2SO4 1.17e-08 8189582.5\n",
        " (NH4)2SO4 1.20e-08 8677686.5\n",
        " (NH4)2SO4 1.24e-08 9177730.7\n",
        " (NH4)2SO4 1.28e-08 9688483.9\n",
        " (NH4)2SO4 1.32e-08 10208583.6\n",
        " (NH4)2SO4 1.36e-08 10736539.2\n",
        " (NH4)2SO4 1.40e-08 11270736.4\n",
        " (NH4)2SO4 1.44e-08 11809443.5\n",
        " (NH4)2SO4 1.48e-08 12350818.2\n",
        " (NH4)2SO4 1.53e-08 12892916.9\n",
        " (NH4)2SO4 1.58e-08 13433704.7\n",
        " (NH4)2SO4 1.62e-08 13971066.7\n",
        " (NH4)2SO4 1.67e-08 14502821.2\n",
        " (NH4)2SO4 1.72e-08 15026733.2\n",
        " (NH4)2SO4 1.78e-08 15540529.7\n",
        " (NH4)2SO4 1.83e-08 16041915.2\n",
        " (NH4)2SO4 1.89e-08 16528588.7\n",
        " (NH4)2SO4 1.94e-08 16998260.7\n",
        " (NH4)2SO4 2.00e-08 17448671.2\n",
        " (NH4)2SO4 2.06e-08 17877607.0\n",
        " (NH4)2SO4 2.13e-08 18282920.6\n",
        " (NH4)2SO4 2.19e-08 18662547.1\n",
        " (NH4)2SO4 2.26e-08 19014522.2\n",
        " (NH4)2SO4 2.33e-08 19336999.1\n",
        " (NH4)2SO4 2.40e-08 19628264.1\n",
        " (NH4)2SO4 2.47e-08 19886752.3\n",
        " (NH4)2SO4 2.54e-08 20111061.6\n",
        " (NH4)2SO4 2.62e-08 20299964.8\n",
        " (NH4)2SO4 2.70e-08 20452421.3\n",
        " (NH4)2SO4 2.78e-08 20567586.5\n",
        " (NH4)2SO4 2.87e-08 20644819.6\n",
        " (NH4)2SO4 2.96e-08 20683689.5\n",
        " (NH4)2SO4 3.05e-08 20683978.9\n",
        " (NH4)2SO4 3.14e-08 20645686.0\n",
        " (NH4)2SO4 3.23e-08 20569025.1\n",
        " (NH4)2SO4 3.33e-08 20454424.0\n",
        " (NH4)2SO4 3.43e-08 20302520.6\n",
        " (NH4)2SO4 3.54e-08 20114156.3\n",
        " (NH4)2SO4 3.64e-08 19890369.0\n",
        " (NH4)2SO4 3.76e-08 19632382.9\n",
        " (NH4)2SO4 3.87e-08 19341597.9\n",
        " (NH4)2SO4 3.99e-08 19019576.4\n",
        " (NH4)2SO4 4.11e-08 18668029.9\n",
        " (NH4)2SO4 4.23e-08 18288803.5\n",
        " (NH4)2SO4 4.36e-08 17883859.8\n",
        " (NH4)2SO4 4.50e-08 17455262.2\n",
        " (NH4)2SO4 4.63e-08 17005157.3\n",
        " (NH4)2SO4 4.77e-08 16535757.2\n",
        " (NH4)2SO4 4.92e-08 16049321.5\n",
        " (NH4)2SO4 5.07e-08 15548139.4\n",
        " (NH4)2SO4 5.22e-08 15034511.8\n",
        " (NH4)2SO4 5.38e-08 14510734.4\n",
        " (NH4)2SO4 5.54e-08 13979080.7\n",
        " (NH4)2SO4 5.71e-08 13441786.4\n",
        " (NH4)2SO4 5.89e-08 12901034.1\n",
        " (NH4)2SO4 6.07e-08 12358939.7\n",
        " (NH4)2SO4 6.25e-08 11817539.4\n",
        " (NH4)2SO4 6.44e-08 11278778.4\n",
        " (NH4)2SO4 6.64e-08 10744500.3\n",
        " (NH4)2SO4 6.84e-08 10216438.9\n",
        " (NH4)2SO4 7.05e-08 9696210.1\n",
        " (NH4)2SO4 7.26e-08 9185306.4\n",
        " (NH4)2SO4 7.48e-08 8685092.3\n",
        " (NH4)2SO4 7.71e-08 8196800.8\n",
        " (NH4)2SO4 7.94e-08 7721532.1\n",
        " (NH4)2SO4 8.18e-08 7260252.8\n",
        " (NH4)2SO4 8.43e-08 6813796.5\n",
        " (NH4)2SO4 8.69e-08 6382866.0\n",
        " (NH4)2SO4 8.95e-08 5968036.3\n",
        " (NH4)2SO4 9.23e-08 5569758.2\n",
        " (NH4)2SO4 9.51e-08 5188363.3\n",
        " (NH4)2SO4 9.80e-08 4824069.7\n",
        " (NH4)2SO4 1.01e-07 4476988.0\n",
        " (NH4)2SO4 1.04e-07 4147128.0\n",
        " (NH4)2SO4 1.07e-07 3834406.1\n",
        " (NH4)2SO4 1.10e-07 3538652.6\n",
        " (NH4)2SO4 1.14e-07 3259619.5\n",
        " (NH4)2SO4 1.17e-07 2996988.3\n",
        " (NH4)2SO4 1.21e-07 2750377.7\n",
        " (NH4)2SO4 1.24e-07 2519351.6\n",
        " (NH4)2SO4 1.28e-07 2303426.7\n",
        " (NH4)2SO4 1.32e-07 2102079.6\n",
        " (NH4)2SO4 1.36e-07 1914754.4\n",
        " (NH4)2SO4 1.40e-07 1740869.2\n",
        " (NH4)2SO4 1.45e-07 1579822.8\n",
        " (NH4)2SO4 1.49e-07 1431000.4\n",
        " (NH4)2SO4 1.54e-07 1293779.6\n",
        " (NH4)2SO4 1.58e-07 1167535.2\n",
        " (NH4)2SO4 1.63e-07 1051644.2\n",
        " (NH4)2SO4 1.68e-07 945489.8\n",
        " (NH4)2SO4 1.73e-07 848465.1\n",
        " (NH4)2SO4 1.78e-07 759976.8\n",
        " (NH4)2SO4 1.84e-07 679447.3\n",
        " (NH4)2SO4 1.89e-07 606318.0\n",
        " (NH4)2SO4 1.95e-07 540050.3\n",
        " (NH4)2SO4 2.01e-07 480128.1\n",
        " (NH4)2SO4 2.07e-07 426058.5\n",
        " (NH4)2SO4 2.13e-07 377372.7\n",
        " (NH4)2SO4 2.20e-07 333626.8\n",
        " (NH4)2SO4 2.27e-07 294401.8\n",
        " (NH4)2SO4 2.34e-07 259304.0\n",
        " (NH4)2SO4 2.41e-07 227964.4\n",
        " (NH4)2SO4 2.48e-07 200038.7\n",
        " (NH4)2SO4 2.55e-07 175206.5\n",
        " (NH4)2SO4 2.63e-07 153170.7\n",
        " (NH4)2SO4 2.71e-07 133656.5\n",
        " (NH4)2SO4 2.80e-07 116410.9\n",
        " (NH4)2SO4 2.88e-07 101201.4\n",
        " (NH4)2SO4 2.97e-07 87815.0\n",
        " (NH4)2SO4 3.06e-07 76057.1\n",
        " (NH4)2SO4 3.15e-07 65750.6\n",
        " (NH4)2SO4 3.25e-07 56734.8\n",
        " (NH4)2SO4 3.35e-07 48863.9\n",
        " (NH4)2SO4 3.45e-07 42006.4\n",
        " (NH4)2SO4 3.55e-07 36044.0\n",
        " (NH4)2SO4 3.66e-07 30870.1\n",
        " (NH4)2SO4 3.77e-07 26389.7\n",
        " (NH4)2SO4 3.89e-07 22517.4\n",
        " (NH4)2SO4 4.00e-07 19177.5\n",
        " (NH4)2SO4 4.13e-07 16302.5\n",
        " (NH4)2SO4 4.25e-07 13832.7\n",
        " (NH4)2SO4 4.38e-07 11715.1\n",
        " (NH4)2SO4 4.51e-07 9903.2\n",
        " (NH4)2SO4 4.65e-07 8356.0\n",
        " (NH4)2SO4 4.79e-07 7037.3\n",
        " (NH4)2SO4 4.94e-07 5915.6\n",
        " (NH4)2SO4 5.09e-07 4963.5\n",
        " (NH4)2SO4 5.24e-07 4156.9\n",
        " (NH4)2SO4 5.40e-07 3474.8\n",
        " (NH4)2SO4 5.57e-07 2899.2\n",
        " (NH4)2SO4 5.74e-07 2414.5\n",
        " (NH4)2SO4 5.91e-07 2007.1\n",
        "\n",
        "--------------------------------------------\n",
        "calculating seeds for equilibrium solver...\n",
        " done"
       ]
      },
      {
       "output_type": "stream",
       "stream": "stdout",
       "text": [
        "\n",
        "PARCEL INITIAL CONDITIONS"
       ]
      },
      {
       "output_type": "stream",
       "stream": "stdout",
       "text": [
        "\n",
        "     P (hPa)    T (K)       wv       wc        S\n",
        "      850.0   294.00  1.9e-02   1.4e-08   -0.02\n",
        "\n",
        "n_steps = 20001\n",
        "\n",
        "Integration successful."
       ]
      },
      {
       "output_type": "stream",
       "stream": "stdout",
       "text": [
        "\n",
        "...done"
       ]
      },
      {
       "output_type": "stream",
       "stream": "stdout",
       "text": [
        "\n"
       ]
      }
     ],
     "prompt_number": 22
    },
    {
     "cell_type": "heading",
     "level": 3,
     "metadata": {},
     "source": [
      "Activation analysis"
     ]
    },
    {
     "cell_type": "code",
     "collapsed": false,
     "input": [
      "for species in aer_species:\n",
      "\n",
      "    print species\n",
      "    aerosol = aerosols2[species]\n",
      "    aer_meta = aer_dict[species]\n",
      "    Nis = aer_meta.Nis\n",
      "\n",
      "    Neq = []\n",
      "    Nkn = []\n",
      "    Nunact = []\n",
      "    S_max = S0\n",
      "\n",
      "    for S, T, i in zip(parcel.S, parcel['T'], xrange(len(parcel.S))):\n",
      "\n",
      "        r_crits, s_crits = zip(*[kohler_crit(T, r_dry, aer_meta.kappa) for r_dry in aer_meta.r_drys])\n",
      "        s_crits = np.array(s_crits)\n",
      "        r_crits = np.array(r_crits)\n",
      "        if S > S_max: S_max = S\n",
      "\n",
      "        big_s =  S_max >= s_crits\n",
      "        Neq.append(np.sum(Nis[big_s]))\n",
      "\n",
      "        rstep = np.array(aerosol.ix[i])\n",
      "        #active_radii = (S > s_crits) | (rstep > r_crits)\n",
      "        active_radii = (rstep > r_crits)\n",
      "        #sar = np.min(active_radii) if len(active_radii) > 0 else 1e99\n",
      "        if len(active_radii) > 0:\n",
      "            Nkn.append(np.sum(Nis[active_radii]))\n",
      "            Nunact.append(np.sum(Nis[(rstep < r_crits)]))\n",
      "        else:\n",
      "            Nkn.append(0.0)\n",
      "            Nunact.append(np.sum(Nis))\n",
      "\n",
      "        print parcel.index[i], Neq[i], Nkn[i], Nunact[i], S_max, S\n",
      "\n",
      "    Neq = np.array(Neq)\n",
      "    Nkn = np.array(Nkn)\n",
      "    Nunact = np.array(Nunact)\n",
      "\n",
      "    parcel[species+'_Neq'] = Neq\n",
      "    parcel[species+'_Nkn'] = Nkn\n",
      "    parcel[species+'_Nunact'] = Nunact\n",
      "\n",
      "    alphaz = Nkn/Neq\n",
      "    alphaz[isnan(alphaz)] = 0.\n",
      "    phiz = Nunact/Nkn\n",
      "    phiz[phiz == inf] = 1.\n",
      "\n",
      "    parcel[species+'_alpha'] = alphaz\n",
      "    parcel[species+'_phi'] = phiz\n",
      "\n",
      "    figure(2)\n",
      "    ax = subplot(3,2,5)\n",
      "    parcel[[species+'_Neq', species+'_Nkn']].plot(ax=ax, grid=True)\n",
      "    xlabel(\"Height\")\n",
      "\n",
      "    subplot(3,2,6)\n",
      "    parcel[species+'_alpha'].plot()\n",
      "    parcel[species+'_phi'].plot()\n",
      "    ylim(0, 1)\n",
      "    xlabel(\"Height\"); ylabel(r'$\\alpha(z),\\quad\\phi(z)$')\n",
      "    print alphaz[-1]\n",
      "\n",
      "    print \"==\"*35\n",
      "    print species + \" Summary - \"\n",
      "    print \"Max activated fraction\"\n",
      "    print \"   Eq: \", Neq.max()/np.sum(aer_meta.Nis)\n",
      "    print \"  Kin: \", Nkn.max()/np.sum(aer_meta.Nis)\n",
      "    print \"\"\n",
      "    print \"Alpha maximum: %2.2f\" % alphaz.max()\n",
      "    print \"  Phi maximum: %2.2f\" % phiz.max()\n",
      "    print \"==\"*35"
     ],
     "language": "python",
     "metadata": {},
     "outputs": [
      {
       "output_type": "stream",
       "stream": "stdout",
       "text": [
        "(NH4)2SO4\n",
        "0.0"
       ]
      },
      {
       "output_type": "stream",
       "stream": "stdout",
       "text": [
        " 0.0 0.0 1200160876.34 -0.02 -0.02\n",
        "1.0"
       ]
      },
      {
       "output_type": "stream",
       "stream": "stdout",
       "text": [
        " 0.0 0.0 1200160876.34 -0.0195134729014 -0.0195134729014\n",
        "2.0"
       ]
      },
      {
       "output_type": "stream",
       "stream": "stdout",
       "text": [
        " 0.0 0.0 1200160876.34 -0.0190266725804 -0.0190266725804\n",
        "3.0"
       ]
      },
      {
       "output_type": "stream",
       "stream": "stdout",
       "text": [
        " 0.0 0.0 1200160876.34 -0.0185395976917 -0.0185395976917\n",
        "4.0"
       ]
      },
      {
       "output_type": "stream",
       "stream": "stdout",
       "text": [
        " 0.0 0.0 1200160876.34 -0.0180522483065 -0.0180522483065\n",
        "5.0"
       ]
      },
      {
       "output_type": "stream",
       "stream": "stdout",
       "text": [
        " 0.0 0.0 1200160876.34 -0.0175646245219 -0.0175646245219\n",
        "6.0"
       ]
      },
      {
       "output_type": "stream",
       "stream": "stdout",
       "text": [
        " 0.0 0.0 1200160876.34 -0.0170767264634 -0.0170767264634\n",
        "7.0"
       ]
      },
      {
       "output_type": "stream",
       "stream": "stdout",
       "text": [
        " 0.0 0.0 1200160876.34 -0.0165885542893 -0.0165885542893\n",
        "8.0"
       ]
      },
      {
       "output_type": "stream",
       "stream": "stdout",
       "text": [
        " 0.0 0.0 1200160876.34 -0.0161001081949 -0.0161001081949\n",
        "9.0"
       ]
      },
      {
       "output_type": "stream",
       "stream": "stdout",
       "text": [
        " 0.0 0.0 1200160876.34 -0.0156113884178 -0.0156113884178\n",
        "10.0"
       ]
      },
      {
       "output_type": "stream",
       "stream": "stdout",
       "text": [
        " 0.0 0.0 1200160876.34 -0.0151223952448 -0.0151223952448\n",
        "11.0"
       ]
      },
      {
       "output_type": "stream",
       "stream": "stdout",
       "text": [
        " 0.0 0.0 1200160876.34 -0.0146331290185 -0.0146331290185\n",
        "12.0"
       ]
      },
      {
       "output_type": "stream",
       "stream": "stdout",
       "text": [
        " 0.0 0.0 1200160876.34 -0.0141435901465 -0.0141435901465\n",
        "13.0"
       ]
      },
      {
       "output_type": "stream",
       "stream": "stdout",
       "text": [
        " 0.0 0.0 1200160876.34 -0.0136537791121 -0.0136537791121\n",
        "14.0"
       ]
      },
      {
       "output_type": "stream",
       "stream": "stdout",
       "text": [
        " 0.0 0.0 1200160876.34 -0.0131636964866 -0.0131636964866\n",
        "15.0"
       ]
      },
      {
       "output_type": "stream",
       "stream": "stdout",
       "text": [
        " 0.0 0.0 1200160876.34 -0.012673342945 -0.012673342945\n",
        "16.0"
       ]
      },
      {
       "output_type": "stream",
       "stream": "stdout",
       "text": [
        " 0.0 0.0 1200160876.34 -0.0121827192841 -0.0121827192841\n",
        "17.0"
       ]
      },
      {
       "output_type": "stream",
       "stream": "stdout",
       "text": [
        " 0.0 0.0 1200160876.34 -0.0116918264456 -0.0116918264456\n",
        "18.0"
       ]
      },
      {
       "output_type": "stream",
       "stream": "stdout",
       "text": [
        " 0.0 0.0 1200160876.34 -0.0112006655441 -0.0112006655441\n",
        "19.0"
       ]
      },
      {
       "output_type": "stream",
       "stream": "stdout",
       "text": [
        " 0.0 0.0 1200160876.34 -0.0107092379015 -0.0107092379015\n",
        "20.0"
       ]
      },
      {
       "output_type": "stream",
       "stream": "stdout",
       "text": [
        " 0.0 0.0 1200160876.34 -0.0102175450911 -0.0102175450911\n",
        "21.0"
       ]
      },
      {
       "output_type": "stream",
       "stream": "stdout",
       "text": [
        " 0.0 0.0 1200160876.34 -0.00972558899176 -0.00972558899176\n",
        "22.0"
       ]
      },
      {
       "output_type": "stream",
       "stream": "stdout",
       "text": [
        " 0.0 0.0 1200160876.34 -0.00923337185828 -0.00923337185828\n",
        "23.0"
       ]
      },
      {
       "output_type": "stream",
       "stream": "stdout",
       "text": [
        " 0.0 0.0 1200160876.34 -0.00874089641085 -0.00874089641085\n",
        "24.0"
       ]
      },
      {
       "output_type": "stream",
       "stream": "stdout",
       "text": [
        " 0.0 0.0 1200160876.34 -0.00824816595177 -0.00824816595177\n",
        "25.0"
       ]
      },
      {
       "output_type": "stream",
       "stream": "stdout",
       "text": [
        " 0.0 0.0 1200160876.34 -0.00775518451881 -0.00775518451881\n",
        "26.0"
       ]
      },
      {
       "output_type": "stream",
       "stream": "stdout",
       "text": [
        " 0.0 0.0 1200160876.34 -0.00726195708916 -0.00726195708916\n",
        "27.0"
       ]
      },
      {
       "output_type": "stream",
       "stream": "stdout",
       "text": [
        " 0.0 0.0 1200160876.34 -0.00676848985445 -0.00676848985445\n",
        "28.0"
       ]
      },
      {
       "output_type": "stream",
       "stream": "stdout",
       "text": [
        " 0.0 0.0 1200160876.34 -0.00627479059742 -0.00627479059742\n",
        "29.0"
       ]
      },
      {
       "output_type": "stream",
       "stream": "stdout",
       "text": [
        " 0.0 0.0 1200160876.34 -0.0057808692151 -0.0057808692151\n",
        "30.0"
       ]
      },
      {
       "output_type": "stream",
       "stream": "stdout",
       "text": [
        " 0.0 0.0 1200160876.34 -0.00528673845984 -0.00528673845984\n",
        "31.0"
       ]
      },
      {
       "output_type": "stream",
       "stream": "stdout",
       "text": [
        " 0.0 0.0 1200160876.34 -0.00479241500769 -0.00479241500769\n",
        "32.0"
       ]
      },
      {
       "output_type": "stream",
       "stream": "stdout",
       "text": [
        " 0.0 0.0 1200160876.34 -0.00429792103278 -0.00429792103278\n",
        "33.0"
       ]
      },
      {
       "output_type": "stream",
       "stream": "stdout",
       "text": [
        " 0.0 0.0 1200160876.34 -0.00380328658154 -0.00380328658154\n",
        "34.0"
       ]
      },
      {
       "output_type": "stream",
       "stream": "stdout",
       "text": [
        " 0.0 0.0 1200160876.34 -0.00330855324707 -0.00330855324707\n",
        "35.0"
       ]
      },
      {
       "output_type": "stream",
       "stream": "stdout",
       "text": [
        " 0.0 0.0 1200160876.34 -0.00281378002101 -0.00281378002101\n",
        "36.0"
       ]
      },
      {
       "output_type": "stream",
       "stream": "stdout",
       "text": [
        " 0.0 0.0 1200160876.34 -0.0023190529147 -0.0023190529147\n",
        "37.0"
       ]
      },
      {
       "output_type": "stream",
       "stream": "stdout",
       "text": [
        " 0.0 0.0 1200160876.34 -0.00182450134569 -0.00182450134569\n",
        "38.0"
       ]
      },
      {
       "output_type": "stream",
       "stream": "stdout",
       "text": [
        " 0.0 0.0 1200160876.34 -0.00133032715571 -0.00133032715571\n",
        "39.0"
       ]
      },
      {
       "output_type": "stream",
       "stream": "stdout",
       "text": [
        " 0.0 0.0 1200160876.34 -0.000836858230049 -0.000836858230049\n",
        "40.0"
       ]
      },
      {
       "output_type": "stream",
       "stream": "stdout",
       "text": [
        " 0.0 0.0 1200160876.34 -0.000344652172684 -0.000344652172684\n",
        "41.0"
       ]
      },
      {
       "output_type": "stream",
       "stream": "stdout",
       "text": [
        " 441332.681865 0.0 1200160876.34 0.000145293808759 0.000145293808759\n",
        "42.0"
       ]
      },
      {
       "output_type": "stream",
       "stream": "stdout",
       "text": [
        " 31115122.7425 0.0 1200160876.34 0.000631100160503 0.000631100160503\n",
        "43.0"
       ]
      },
      {
       "output_type": "stream",
       "stream": "stdout",
       "text": [
        " 100100591.968 0.0 1200160876.34 0.00110904825157 0.00110904825157\n",
        "44.0"
       ]
      },
      {
       "output_type": "stream",
       "stream": "stdout",
       "text": [
        " 168103719.138 0.0 1200160876.34 0.00157155329413 0.00157155329413\n",
        "45.0"
       ]
      },
      {
       "output_type": "stream",
       "stream": "stdout",
       "text": [
        " 247112833.746 154553501.812 1045607374.52 0.00200336650114 0.00200336650114\n",
        "46.0"
       ]
      },
      {
       "output_type": "stream",
       "stream": "stdout",
       "text": [
        " 293744806.482 250370893.41 949789982.925 0.00237676976869 0.00237676976869\n",
        "47.0"
       ]
      },
      {
       "output_type": "stream",
       "stream": "stdout",
       "text": [
        " 344740983.089 302962560.317 897198316.019 0.00265196851002 0.00265196851002\n",
        "48.0"
       ]
      },
      {
       "output_type": "stream",
       "stream": "stdout",
       "text": [
        " 362624842.874 339710869.008 860450007.328 0.00279239050059 0.00279239050059\n",
        "49.0"
       ]
      },
      {
       "output_type": "stream",
       "stream": "stdout",
       "text": [
        " 362624842.874 359221225.188 840939651.148 0.00279239050059 0.00278922708803\n",
        "50.0"
       ]
      },
      {
       "output_type": "stream",
       "stream": "stdout",
       "text": [
        " 362624842.874 360024656.424 840136219.911 0.00279239050059 0.00267018912048\n",
        "51.0"
       ]
      },
      {
       "output_type": "stream",
       "stream": "stdout",
       "text": [
        " 362624842.874 360358283.208 839802593.128 0.00279239050059 0.0024831166643\n",
        "52.0"
       ]
      },
      {
       "output_type": "stream",
       "stream": "stdout",
       "text": [
        " 362624842.874 360911988.996 839248887.34 0.00279239050059 0.00227238755325\n",
        "53.0"
       ]
      },
      {
       "output_type": "stream",
       "stream": "stdout",
       "text": [
        " 362624842.874 361139953.41 839020922.925 0.00279239050059 0.00206859401995\n",
        "54.0"
       ]
      },
      {
       "output_type": "stream",
       "stream": "stdout",
       "text": [
        " 362624842.874 361139953.41 839020922.925 0.00279239050059 0.00188826195918\n",
        "55.0"
       ]
      },
      {
       "output_type": "stream",
       "stream": "stdout",
       "text": [
        " 362624842.874 361339992.139 838820884.197 0.00279239050059 0.00173711267561\n",
        "56.0"
       ]
      },
      {
       "output_type": "stream",
       "stream": "stdout",
       "text": [
        " 362624842.874 361515198.66 838645677.676 0.00279239050059 0.00161433863977\n",
        "57.0"
       ]
      },
      {
       "output_type": "stream",
       "stream": "stdout",
       "text": [
        " 362624842.874 361515198.66 838645677.676 0.00279239050059 0.00151607752321\n",
        "58.0"
       ]
      },
      {
       "output_type": "stream",
       "stream": "stdout",
       "text": [
        " 362624842.874 361668369.327 838492507.009 0.00279239050059 0.00143760167856\n",
        "59.0"
       ]
      },
      {
       "output_type": "stream",
       "stream": "stdout",
       "text": [
        " 362624842.874 361668369.327 838492507.009 0.00279239050059 0.00137445400427\n",
        "60.0"
       ]
      },
      {
       "output_type": "stream",
       "stream": "stdout",
       "text": [
        " 362624842.874 361802025.83 838358850.505 0.00279239050059 0.00132290553802\n",
        "61.0"
       ]
      },
      {
       "output_type": "stream",
       "stream": "stdout",
       "text": [
        " 362624842.874 361802025.83 838358850.505 0.00279239050059 0.00128004200967\n",
        "62.0"
       ]
      },
      {
       "output_type": "stream",
       "stream": "stdout",
       "text": [
        " 362624842.874 361802025.83 838358850.505 0.00279239050059 0.00124367976167\n",
        "63.0"
       ]
      },
      {
       "output_type": "stream",
       "stream": "stdout",
       "text": [
        " 362624842.874 361918436.756 838242439.58 0.00279239050059 0.00121222434842\n",
        "64.0"
       ]
      },
      {
       "output_type": "stream",
       "stream": "stdout",
       "text": [
        " 362624842.874 361918436.756 838242439.58 0.00279239050059 0.001184527782\n",
        "65.0"
       ]
      },
      {
       "output_type": "stream",
       "stream": "stdout",
       "text": [
        " 362624842.874 361918436.756 838242439.58 0.00279239050059 0.00115976720152\n",
        "66.0"
       ]
      },
      {
       "output_type": "stream",
       "stream": "stdout",
       "text": [
        " 362624842.874 361918436.756 838242439.58 0.00279239050059 0.00113735057596\n",
        "67.0"
       ]
      },
      {
       "output_type": "stream",
       "stream": "stdout",
       "text": [
        " 362624842.874 362019638.161 838141238.175 0.00279239050059 0.00111684732888\n",
        "68.0"
       ]
      },
      {
       "output_type": "stream",
       "stream": "stdout",
       "text": [
        " 362624842.874 362019638.161 838141238.175 0.00279239050059 0.00109793910528\n",
        "69.0"
       ]
      },
      {
       "output_type": "stream",
       "stream": "stdout",
       "text": [
        " 362624842.874 362019638.161 838141238.175 0.00279239050059 0.00108038565362\n",
        "70.0"
       ]
      },
      {
       "output_type": "stream",
       "stream": "stdout",
       "text": [
        " 362624842.874 362019638.161 838141238.175 0.00279239050059 0.00106400152367\n",
        "71.0"
       ]
      },
      {
       "output_type": "stream",
       "stream": "stdout",
       "text": [
        " 362624842.874 362107453.119 838053423.217 0.00279239050059 0.00104864025872\n",
        "72.0"
       ]
      },
      {
       "output_type": "stream",
       "stream": "stdout",
       "text": [
        " 362624842.874 362107453.119 838053423.217 0.00279239050059 0.00103418366934\n",
        "73.0"
       ]
      },
      {
       "output_type": "stream",
       "stream": "stdout",
       "text": [
        " 362624842.874 362107453.119 838053423.217 0.00279239050059 0.00102053450654\n",
        "74.0"
       ]
      },
      {
       "output_type": "stream",
       "stream": "stdout",
       "text": [
        " 362624842.874 362107453.119 838053423.217 0.00279239050059 0.00100761139429\n",
        "75.0"
       ]
      },
      {
       "output_type": "stream",
       "stream": "stdout",
       "text": [
        " 362624842.874 362183510.192 837977366.144 0.00279239050059 0.000995345263909\n",
        "76.0"
       ]
      },
      {
       "output_type": "stream",
       "stream": "stdout",
       "text": [
        " 362624842.874 362183510.192 837977366.144 0.00279239050059 0.00098367679279\n",
        "77.0"
       ]
      },
      {
       "output_type": "stream",
       "stream": "stdout",
       "text": [
        " 362624842.874 362183510.192 837977366.144 0.00279239050059 0.000972554522679\n",
        "78.0"
       ]
      },
      {
       "output_type": "stream",
       "stream": "stdout",
       "text": [
        " 362624842.874 362183510.192 837977366.144 0.00279239050059 0.0009619334453\n",
        "79.0"
       ]
      },
      {
       "output_type": "stream",
       "stream": "stdout",
       "text": [
        " 362624842.874 362183510.192 837977366.144 0.00279239050059 0.000951773915858\n",
        "80.0"
       ]
      },
      {
       "output_type": "stream",
       "stream": "stdout",
       "text": [
        " 362624842.874 362183510.192 837977366.144 0.00279239050059 0.000942040801721\n",
        "81.0"
       ]
      },
      {
       "output_type": "stream",
       "stream": "stdout",
       "text": [
        " 362624842.874 362249260.815 837911615.521 0.00279239050059 0.000932702803626\n",
        "82.0"
       ]
      },
      {
       "output_type": "stream",
       "stream": "stdout",
       "text": [
        " 362624842.874 362249260.815 837911615.521 0.00279239050059 0.000923731906263\n",
        "83.0"
       ]
      },
      {
       "output_type": "stream",
       "stream": "stdout",
       "text": [
        " 362624842.874 362249260.815 837911615.521 0.00279239050059 0.000915102927869\n",
        "84.0"
       ]
      },
      {
       "output_type": "stream",
       "stream": "stdout",
       "text": [
        " 362624842.874 362249260.815 837911615.521 0.00279239050059 0.000906793146961\n",
        "85.0"
       ]
      },
      {
       "output_type": "stream",
       "stream": "stdout",
       "text": [
        " 362624842.874 362249260.815 837911615.521 0.00279239050059 0.000898781990107\n",
        "86.0"
       ]
      },
      {
       "output_type": "stream",
       "stream": "stdout",
       "text": [
        " 362624842.874 362249260.815 837911615.521 0.00279239050059 0.000891050768689\n",
        "87.0"
       ]
      },
      {
       "output_type": "stream",
       "stream": "stdout",
       "text": [
        " 362624842.874 362305995.584 837854880.751 0.00279239050059 0.00088358245539\n",
        "88.0"
       ]
      },
      {
       "output_type": "stream",
       "stream": "stdout",
       "text": [
        " 362624842.874 362305995.584 837854880.751 0.00279239050059 0.000876361493248\n",
        "89.0"
       ]
      },
      {
       "output_type": "stream",
       "stream": "stdout",
       "text": [
        " 362624842.874 362305995.584 837854880.751 0.00279239050059 0.000869373631618\n",
        "90.0"
       ]
      },
      {
       "output_type": "stream",
       "stream": "stdout",
       "text": [
        " 362624842.874 362305995.584 837854880.751 0.00279239050059 0.000862605784549\n",
        "91.0"
       ]
      },
      {
       "output_type": "stream",
       "stream": "stdout",
       "text": [
        " 362624842.874 362305995.584 837854880.751 0.00279239050059 0.000856045907937\n",
        "92.0"
       ]
      },
      {
       "output_type": "stream",
       "stream": "stdout",
       "text": [
        " 362624842.874 362305995.584 837854880.751 0.00279239050059 0.000849682892517\n",
        "93.0"
       ]
      },
      {
       "output_type": "stream",
       "stream": "stdout",
       "text": [
        " 362624842.874 362305995.584 837854880.751 0.00279239050059 0.000843506470286\n",
        "94.0"
       ]
      },
      {
       "output_type": "stream",
       "stream": "stdout",
       "text": [
        " 362624842.874 362354859.455 837806016.881 0.00279239050059 0.000837507132351\n",
        "95.0"
       ]
      },
      {
       "output_type": "stream",
       "stream": "stdout",
       "text": [
        " 362624842.874 362354859.455 837806016.881 0.00279239050059 0.000831676056585\n",
        "96.0"
       ]
      },
      {
       "output_type": "stream",
       "stream": "stdout",
       "text": [
        " 362624842.874 362354859.455 837806016.881 0.00279239050059 0.000826005043699\n",
        "97.0"
       ]
      },
      {
       "output_type": "stream",
       "stream": "stdout",
       "text": [
        " 362624842.874 362354859.455 837806016.881 0.00279239050059 0.000820486460547\n",
        "98.0"
       ]
      },
      {
       "output_type": "stream",
       "stream": "stdout",
       "text": [
        " 362624842.874 362354859.455 837806016.881 0.00279239050059 0.000815113189763\n",
        "99.0"
       ]
      },
      {
       "output_type": "stream",
       "stream": "stdout",
       "text": [
        " 362624842.874 362354859.455 837806016.881 0.00279239050059 0.000809878584837\n",
        "100.0"
       ]
      },
      {
       "output_type": "stream",
       "stream": "stdout",
       "text": [
        " 362624842.874 362354859.455 837806016.881 0.00279239050059 0.000804776429982\n",
        "0.999255474566"
       ]
      },
      {
       "output_type": "stream",
       "stream": "stdout",
       "text": [
        "\n",
        "======================================================================\n",
        "(NH4)2SO4 Summary - \n",
        "Max activated fraction\n",
        "   Eq:  0.302146862161\n",
        "  Kin:  0.301921906138\n",
        "\n",
        "Alpha maximum: 1.00\n",
        "  Phi maximum: 6.77\n",
        "======================================================================\n"
       ]
      },
      {
       "output_type": "display_data",
       "png": "[encoded data removed]"
      }
     ],
     "prompt_number": 23
    },
    {
     "cell_type": "code",
     "collapsed": false,
     "input": [
      "from micro import *\n",
      "from scipy.special import erfc, erf\n",
      "\n",
      "T = T0 # K\n",
      "P = P0 # Pa\n",
      "\n",
      "## Sulfate aerosol, 1 mode\n",
      "sigma = aerosol1.distribution.sigma\n",
      "am = aerosol1.distribution.mu*1e-6\n",
      "N = aerosol1.distribution.N*1e6\n",
      "kappa = aerosol1.kappa\n",
      "Ma = 132.*1e-3\n",
      "rhoa = 1.77*1e3\n",
      "\n",
      "fi = 0.5*np.exp(2.5*(np.log(sigma)**2))\n",
      "gi = 1.0 + 0.25*np.log(sigma)\n",
      "\n",
      "## Smi = (2./np.sqrt(Bi))*((A/(3.*am))**(3./2.))\n",
      "A = (2.*sigma_w(T)*Mw)/(rho_w*R*T)\n",
      "Bi = (3.*1.*1.*Mw*rhoa)/(Ma*rho_w)\n",
      "Smi = (2./np.sqrt(Bi))*((A/(3.*am))**1.5)\n",
      "_, Smi2 = kohler_crit(T, am, kappa)\n",
      "\n",
      "print Smi, Smi2\n",
      "\n",
      "G_a = (rho_w*R*T)/(es(T-273.15)*Dv*Mw)\n",
      "G_b = (L*rho_w*((L*Mw/(R*T))-1))/(ka(T)*T)\n",
      "G = 1./(G_a + G_b)\n",
      "\n",
      "alpha = (g*Mw*L)/(Cp*R*(T**2)) - (G*Ma)/(R*T)\n",
      "gamma = (R*T)/(es(T-273.15)*Mw) + (Mw*(L**2))/(Cp*Ma*T*P)\n",
      "\n",
      "zeta = (2./3.)*A*(np.sqrt(alpha*V/G))\n",
      "etai = ((alpha*V/G)**(3./2.))/(N*gamma*rho_w*2.*np.pi)\n",
      "\n",
      "##\n",
      "Spa = fi*((zeta/etai)**(1.5))\n",
      "Spb = gi*(((Smi**2)/(etai + 3.*zeta))**(0.75))\n",
      "S_part = (1./(Smi**2))*(Spa + Spb)\n",
      "Smax = 1./np.sqrt(S_part)\n",
      "\n",
      "ac = am*((Smi/Smax)**(2./3.))\n",
      "u = 2.*np.log(Smi/Smax)/(3.*np.sqrt(2)*np.log(sigma))\n",
      "u2 = 2.*np.log(Smi2/Smax)/(3.*np.sqrt(2)*np.log(sigma))\n",
      "\n",
      "N_act = 0.5*N*erfc(u)\n",
      "N_act2 = 0.5*N*erfc(u2)\n",
      "\n",
      "print Smax\n",
      "print \"osmotic\", N_act, N_act/N\n",
      "print \"kappa\", N_act2, N_act2/N\n",
      "print \"parcel\", Neq.max(), Neq.max()/np.sum(aer_meta.Nis)\n",
      "\n",
      "x = np.linspace(-3, 3, 1000)\n",
      "plot(x, erfc(x))\n",
      "plot(u, erfc(u), marker='o', markersize=14)\n",
      "plot(u2, erfc(u2), marker='d', color='r', markersize=14)"
     ],
     "language": "python",
     "metadata": {},
     "outputs": [
      {
       "output_type": "stream",
       "stream": "stdout",
       "text": [
        "0.00306311930414 0.00475627981059\n",
        "0.0025904052528\n",
        "osmotic 523154048.92 0.435961707434\n",
        "kappa 335355729.825 0.279463108187\n",
        "parcel 362624842.874 0.302146862161\n"
       ]
      },
      {
       "output_type": "pyout",
       "prompt_number": 24,
       "text": [
        "[<matplotlib.lines.Line2D at 0x1100bd4d0>]"
       ]
      },
      {
       "output_type": "display_data",
       "png": "[encoded data removed]"
      }
     ],
     "prompt_number": 24
    },
    {
     "cell_type": "code",
     "collapsed": false,
     "input": [
      "f = figure()\n",
      "ax1 = f.add_subplot(111)\n",
      "rp = aerosols['NaCl'].r000.plot()\n",
      "sp = parcel.S.plot(ax=ax1, secondary_y=True, color='r')\n",
      "ylim(-0.02, 0.02)\n",
      "\n",
      "max_idx = np.argmax(parcel.S)\n",
      "t_at_max = parcel['T'][max_idx]\n",
      "z_at_max = parcel.index[max_idx]\n",
      "print parcel.S.max(), t_at_max\n",
      "\n",
      "rcs, scs = kohler_crit(t_at_max, aerosol2.r_drys[0], aerosol2.kappa)\n",
      "print rcs, scs\n",
      "plot(z_at_max, scs, marker='o', color='r')\n",
      "ax1.plot(z_at_max, rcs, marker='o')"
     ],
     "language": "python",
     "metadata": {},
     "outputs": [
      {
       "output_type": "stream",
       "stream": "stdout",
       "text": [
        "0.00396607892506 285.109613557\n",
        "1.04005961952e-09 1.54491577539\n"
       ]
      },
      {
       "output_type": "pyout",
       "prompt_number": 69,
       "text": [
        "[<matplotlib.lines.Line2D at 0x1116b14d0>]"
       ]
      },
      {
       "output_type": "display_data",
       "png": "[encoded data removed]"
      }
     ],
     "prompt_number": 69
    },
    {
     "cell_type": "code",
     "collapsed": false,
     "input": [
      "parcel.Tv = (1. + 0.61*parcel.wv)*parcel['T']\n",
      "parcel.rho = parcel.P/(Rd*parcel.Tv)\n",
      "r_eff_eq = r_eff(parcel.rho, parcel.wc, parcel['(NH4)2SO4_Neq'])*1e6\n",
      "r_eff_kn = r_eff(parcel.rho, parcel.wc, parcel['(NH4)2SO4_Nkn'])*1e6\n",
      "\n",
      "plot(parcel.index, r_eff_eq)\n",
      "plot(parcel.index, r_eff_kn)"
     ],
     "language": "python",
     "metadata": {},
     "outputs": [
      {
       "output_type": "pyout",
       "prompt_number": 42,
       "text": [
        "[<matplotlib.lines.Line2D at 0x10b494b10>]"
       ]
      },
      {
       "output_type": "display_data",
       "png": "[encoded data removed]"
      }
     ],
     "prompt_number": 42
    },
    {
     "cell_type": "code",
     "collapsed": false,
     "input": [],
     "language": "python",
     "metadata": {},
     "outputs": []
    }
   ],
   "metadata": {}
  }
 ]
}