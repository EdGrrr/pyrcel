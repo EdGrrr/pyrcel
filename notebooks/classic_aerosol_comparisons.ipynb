{
 "metadata": {
  "name": "",
  "signature": "sha256:7a7d07258fde98b69debf93f36c3be2f797e4643f37690ba68987e04e469ea2c"
 },
 "nbformat": 3,
 "nbformat_minor": 0,
 "worksheets": [
  {
   "cells": [
    {
     "cell_type": "markdown",
     "metadata": {},
     "source": [
      "As a sanity check that the parcel model and parameterizations are working okay, plot up figures such as Nenes and Seinfeld (2003) Figures 6/12 - basically, run a bunch of simulations with canonical aerosols."
     ]
    },
    {
     "cell_type": "code",
     "collapsed": false,
     "input": [
      "import parcel_model as pm\n",
      "from parcel_model.pce_params import pce_deg3, pce_deg4\n",
      "import numpy as np"
     ],
     "language": "python",
     "metadata": {},
     "outputs": [],
     "prompt_number": 1
    },
    {
     "cell_type": "code",
     "collapsed": false,
     "input": [
      "%matplotlib inline\n",
      "import matplotlib.pyplot as plt\n",
      "import seaborn as sns"
     ],
     "language": "python",
     "metadata": {},
     "outputs": [],
     "prompt_number": 2
    },
    {
     "cell_type": "markdown",
     "metadata": {},
     "source": [
      "Define aerosol distributions and simulation parameters"
     ]
    },
    {
     "cell_type": "code",
     "collapsed": false,
     "input": [
      "P0 = 80000. # Pressure, Pa\n",
      "T0 = 283.0 # Temperature, K\n",
      "S0 = -0.01 # Supersaturation. 1-RH from wv term\n",
      "\n",
      "VsSM = np.logspace(np.log10(0.1), np.log10(10.0), 12)\n",
      "VsTM = np.logspace(np.log10(0.1), np.log10(3.0), 6)\n",
      "\n",
      "simulation_sets = [\n",
      "    ## NS 2003\n",
      "    ('SM1', ([0.01*1.0000,   200.0, 2.5], ), 'D', '#00009C'),\n",
      "    ('SM2', ([0.01,  1000.0, 2.5], ), 's', '#EE1289'),\n",
      "    ('SM3', ([0.01,  1000.0, 1.5], ), 'o', 'r'),\n",
      "    ('SM4', ([ 0.1,   200.0, 2.5], ), 's', 'k'),\n",
      "    ('SM5', ([0.01, 10000.0, 2.5], ), '^', 'g'),\n",
      "\n",
      "    ## FN 2005\n",
      "    #('SM1', ([0.025,  100.0, 1.3], ), 'D', '#00009C'),\n",
      "    #('SM2', ([0.025,  500.0, 1.3], ), 's', '#EE1289'),\n",
      "    #('SM3', ([ 0.05,  500.0, 1.8], ), 'o', 'r'),\n",
      "    #('SM4', ([ 0.25,  100.0, 1.8], ), 's', 'k'),\n",
      "    #('SM5', ([ 0.75, 1000.0, 1.8], ), '^', 'g'),\n",
      "\n",
      "    #('TM1-M', ([0.005,    340., 1.6],\n",
      "    #           [0.035,    60.,  2.0],\n",
      "    #           [0.31,  3.1,  2.7]), 'D', '#0099FF'),\n",
      "    #('TM1-C', ([0.008,   1000., 1.6],\n",
      "    #           [0.034,   800.,  2.1],\n",
      "    #           [0.46, 0.72,  2.2]), 'D', '#0099FF'),\n",
      "    #('TM1-B', ([0.008,   6400., 1.7],\n",
      "    #           [0.038,  2300.,  2.0],\n",
      "    #           [0.51, 2.16, 2.16]), 'D', '#0099FF'),\n",
      "    #('TM1-U', ([0.007, 106000., 1.8],\n",
      "    #           [0.027, 32000., 2.16],\n",
      "    #           [0.41, 2.21, 2.21]), 'D', '#0099FF'),\n",
      "\n",
      "    #('TM2-M', ([0.005,    340*2., 1.6],\n",
      "    #           [0.035,    60.*2,  2.0],\n",
      "    #           [0.31,  3.1*2,  2.7]), '*', 'k'),\n",
      "    #('TM2-C', ([0.008,   1000*2., 1.6],\n",
      "    #           [0.034,   800*2.,  2.1],\n",
      "    #           [0.46, 0.72*2,  2.2]), '*', 'k'),\n",
      "    #('TM2-B', ([0.008,   6400*2., 1.7],\n",
      "    #           [0.038,  2300*2.,  2.0],\n",
      "    #           [0.51, 2.16*2, 2.16]), '*', 'k'),\n",
      "    #('TM2-U', ([0.007, 106000*2., 1.8],\n",
      "    #           [0.027, 32000*2., 2.16],\n",
      "    #           [0.41, 2.21*2, 2.21]), '*', 'k'),\n",
      "\n",
      "]\n",
      "results = {}"
     ],
     "language": "python",
     "metadata": {},
     "outputs": [],
     "prompt_number": 20
    },
    {
     "cell_type": "markdown",
     "metadata": {},
     "source": [
      "Run the simulation sets and save them for later"
     ]
    },
    {
     "cell_type": "code",
     "collapsed": false,
     "input": [
      "SKIP_LIST = [ ]\n",
      "\n",
      "for sm in simulation_sets:\n",
      "    result_list = []\n",
      "\n",
      "    print sm\n",
      "    print \"--\"*30\n",
      "    \n",
      "    label, aer_params, marker, color = sm\n",
      "\n",
      "    if label in results or label in SKIP_LIST: continue\n",
      "    \n",
      "    initial_aerosols = []\n",
      "    for mu, N, sigma in aer_params:\n",
      "        aer = pm.AerosolSpecies(label, pm.Lognorm(mu, sigma, N),\n",
      "                                bins=200, kappa=0.54)\n",
      "        initial_aerosols.append(aer)\n",
      "    \n",
      "    Vs = VsTM if label.startswith(\"TM\") else VsSM\n",
      "    \n",
      "    for V in Vs:\n",
      "        (p, a), ghan_Smax, nenes_Smax = pm.iterate_runs(V, initial_aerosols,\n",
      "                                                        T0, P0,\n",
      "                                                        output=\"dataframes\",\n",
      "                                                        dt=0.05, t_end=500./V)\n",
      "        parcel_Smax = p.S.max()\n",
      "        \n",
      "        #parcel_Smax, ghan_Smax, nenes_Smax = 0, 0, 0\n",
      "        \n",
      "        if len(initial_aerosols) == 1:\n",
      "            pce3_smax, _ = pce_deg3(V, T0, P0, initial_aerosols[0])\n",
      "            pce4_smax, _ = pce_deg4(V, T0, P0, initial_aerosols[0])\n",
      "        else:\n",
      "            pce3_smax = np.nan\n",
      "            pce4_smax = np.nan\n",
      "        \n",
      "        print V, pce3_smax, pce4_smax\n",
      "        \n",
      "        result_list.append([parcel_Smax, ghan_Smax, nenes_Smax,\n",
      "                            pce3_smax, pce4_smax])\n",
      "        \n",
      "        \n",
      "    \n",
      "    results[label] = np.array(result_list)\n",
      "    \n",
      "import pickle\n",
      "pickle.dump( [results, VsSM, VsTM], open( \"cac_results.p\", \"wb\" ) )"
     ],
     "language": "python",
     "metadata": {},
     "outputs": [
      {
       "output_type": "stream",
       "stream": "stdout",
       "text": [
        "('SM1', ([0.01, 200.0, 2.5],), 'D', '#00009C')\n",
        "------------------------------------------------------------\n",
        " Trying CVODE with default tolerance\n",
        "0.1"
       ]
      },
      {
       "output_type": "stream",
       "stream": "stdout",
       "text": [
        " 0.0147209124206 0.00247128724485\n",
        " Trying CVODE with default tolerance\n",
        "0.151991108295"
       ]
      },
      {
       "output_type": "stream",
       "stream": "stdout",
       "text": [
        " 0.0160449539049 0.00335466323654\n",
        " Trying CVODE with default tolerance\n",
        "0.231012970008"
       ]
      },
      {
       "output_type": "stream",
       "stream": "stdout",
       "text": [
        " 0.0175691719916 0.0045723499251\n",
        " Trying CVODE with default tolerance\n",
        "0.351119173422"
       ]
      },
      {
       "output_type": "stream",
       "stream": "stdout",
       "text": [
        " 0.0193309566347 0.006170345397\n",
        " Trying CVODE with default tolerance\n",
        "0.533669923121"
       ]
      },
      {
       "output_type": "stream",
       "stream": "stdout",
       "text": [
        " 0.0213760699861 0.00819840019426\n",
        " Trying CVODE with default tolerance\n",
        "0.81113083079"
       ]
      },
      {
       "output_type": "stream",
       "stream": "stdout",
       "text": [
        " 0.023760772722 0.0107085215079\n",
        " Trying CVODE with default tolerance\n",
        "1.23284673944"
       ]
      },
      {
       "output_type": "stream",
       "stream": "stdout",
       "text": [
        " 0.0265545413142 0.0137520889246\n",
        " Trying CVODE with default tolerance\n",
        "1.87381742286"
       ]
      },
      {
       "output_type": "stream",
       "stream": "stdout",
       "text": [
        " 0.0298435523942 0.0173747669987\n",
        " Trying CVODE with default tolerance\n",
        "2.84803586844"
       ]
      },
      {
       "output_type": "stream",
       "stream": "stdout",
       "text": [
        " 0.0337351659482 0.0216079720864\n",
        " Trying CVODE with default tolerance\n",
        "4.32876128108"
       ]
      },
      {
       "output_type": "stream",
       "stream": "stdout",
       "text": [
        " 0.0383637130669 0.0264550063667\n",
        " Trying CVODE with default tolerance\n",
        "6.57933224658"
       ]
      },
      {
       "output_type": "stream",
       "stream": "stdout",
       "text": [
        " 0.0438979926443 0.0318690020305\n",
        " Trying CVODE with default tolerance\n",
        "10.0"
       ]
      },
      {
       "output_type": "stream",
       "stream": "stdout",
       "text": [
        " 0.0505510133148 0.037718359758\n",
        "('SM2', ([0.01, 1000.0, 2.5],), 's', '#EE1289')\n",
        "------------------------------------------------------------\n",
        " Trying CVODE with default tolerance\n",
        "0.1"
       ]
      },
      {
       "output_type": "stream",
       "stream": "stdout",
       "text": [
        " 0.011498693201 -9.78008437207e-05\n",
        " Trying CVODE with default tolerance\n",
        "0.151991108295"
       ]
      },
      {
       "output_type": "stream",
       "stream": "stdout",
       "text": [
        " 0.0125425511481 0.000516535510897\n",
        " Trying CVODE with default tolerance\n",
        "0.231012970008"
       ]
      },
      {
       "output_type": "stream",
       "stream": "stdout",
       "text": [
        " 0.0137470324131 0.00139606066833\n",
        " Trying CVODE with default tolerance\n",
        "0.351119173422"
       ]
      },
      {
       "output_type": "stream",
       "stream": "stdout",
       "text": [
        " 0.015143427702 0.00257513515798\n",
        " Trying CVODE with default tolerance\n",
        "0.533669923121"
       ]
      },
      {
       "output_type": "stream",
       "stream": "stdout",
       "text": [
        " 0.0167702511748 0.0040895331321\n",
        " Trying CVODE with default tolerance\n",
        "0.81113083079"
       ]
      },
      {
       "output_type": "stream",
       "stream": "stdout",
       "text": [
        " 0.018675129006 0.00597443867244\n",
        " Trying CVODE with default tolerance\n",
        "1.23284673944"
       ]
      },
      {
       "output_type": "stream",
       "stream": "stdout",
       "text": [
        " 0.0209172272642 0.00826093972227\n",
        " Trying CVODE with default tolerance\n",
        "1.87381742286"
       ]
      },
      {
       "output_type": "stream",
       "stream": "stdout",
       "text": [
        " 0.0235703837781 0.0109701791996\n",
        " Trying CVODE with default tolerance\n",
        "2.84803586844"
       ]
      },
      {
       "output_type": "stream",
       "stream": "stdout",
       "text": [
        " 0.0267271616528 0.0141038892284\n",
        " Trying CVODE with default tolerance\n",
        "4.32876128108"
       ]
      },
      {
       "output_type": "stream",
       "stream": "stdout",
       "text": [
        " 0.0305041128812 0.0176293828204\n",
        " Trying CVODE with default tolerance\n",
        "6.57933224658"
       ]
      },
      {
       "output_type": "stream",
       "stream": "stdout",
       "text": [
        " 0.0350486352237 0.021456098682\n",
        " Trying CVODE with default tolerance\n",
        "10.0"
       ]
      },
      {
       "output_type": "stream",
       "stream": "stdout",
       "text": [
        " 0.0405479325441 0.0253993252616\n",
        "('SM3', ([0.01, 1000.0, 1.5],), 'o', 'r')\n",
        "------------------------------------------------------------\n",
        " Trying CVODE with default tolerance\n",
        "0.1"
       ]
      },
      {
       "output_type": "stream",
       "stream": "stdout",
       "text": [
        " 0.0152197520609 0.000256467422794\n",
        " Trying CVODE with default tolerance\n",
        "0.151991108295"
       ]
      },
      {
       "output_type": "stream",
       "stream": "stdout",
       "text": [
        " 0.0162607980483 0.000862967953774\n",
        " Trying CVODE with default tolerance\n",
        "0.231012970008"
       ]
      },
      {
       "output_type": "stream",
       "stream": "stdout",
       "text": [
        " 0.0174622458169 0.00177195628604\n",
        " Trying CVODE with default tolerance\n",
        "0.351119173422"
       ]
      },
      {
       "output_type": "stream",
       "stream": "stdout",
       "text": [
        " 0.0188553575731 0.00301876456237\n",
        " Trying CVODE with default tolerance\n",
        "0.533669923121"
       ]
      },
      {
       "output_type": "stream",
       "stream": "stdout",
       "text": [
        " 0.0204786144687 0.00463925986271\n",
        " Trying CVODE with default tolerance\n",
        "0.81113083079"
       ]
      },
      {
       "output_type": "stream",
       "stream": "stdout",
       "text": [
        " 0.0223796043711 0.00666731208691\n",
        " Trying CVODE with default tolerance\n",
        "1.23284673944"
       ]
      },
      {
       "output_type": "stream",
       "stream": "stdout",
       "text": [
        " 0.0246174488059 0.0091305240012\n",
        " Trying CVODE with default tolerance\n",
        "1.87381742286"
       ]
      },
      {
       "output_type": "stream",
       "stream": "stdout",
       "text": [
        " 0.0272659337077 0.0120432874006\n",
        " Trying CVODE with default tolerance\n",
        "2.84803586844"
       ]
      },
      {
       "output_type": "stream",
       "stream": "stdout",
       "text": [
        " 0.0304175616072 0.0153957585956\n",
        " Trying CVODE with default tolerance\n",
        "4.32876128108"
       ]
      },
      {
       "output_type": "stream",
       "stream": "stdout",
       "text": [
        " 0.0341888136566 0.0191366436547\n",
        " Trying CVODE with default tolerance\n",
        "6.57933224658"
       ]
      },
      {
       "output_type": "stream",
       "stream": "stdout",
       "text": [
        " 0.0387270046113 0.0231466347252\n",
        " Trying CVODE with default tolerance\n",
        "10.0"
       ]
      },
      {
       "output_type": "stream",
       "stream": "stdout",
       "text": [
        " 0.0442192408881 0.0271977722497\n",
        "('SM4', ([0.1, 200.0, 2.5],), 's', 'k')\n",
        "------------------------------------------------------------\n",
        " Trying CVODE with default tolerance\n",
        "0.1"
       ]
      },
      {
       "output_type": "stream",
       "stream": "stdout",
       "text": [
        " 0.000754308169713 0.000492320892582\n",
        " Trying CVODE with default tolerance\n",
        "0.151991108295"
       ]
      },
      {
       "output_type": "stream",
       "stream": "stdout",
       "text": [
        " 0.000978900785175 0.000667638017957\n",
        " Trying CVODE with default tolerance\n",
        "0.231012970008"
       ]
      },
      {
       "output_type": "stream",
       "stream": "stdout",
       "text": [
        " 0.00127620065186 0.000960168976774\n",
        " Trying CVODE with default tolerance\n",
        "0.351119173422"
       ]
      },
      {
       "output_type": "stream",
       "stream": "stdout",
       "text": [
        " 0.00166483684418 0.00139324727056\n",
        " Trying CVODE with default tolerance\n",
        "0.533669923121"
       ]
      },
      {
       "output_type": "stream",
       "stream": "stdout",
       "text": [
        " 0.00216841298889 0.00199214632677\n",
        " Trying CVODE with default tolerance\n",
        "0.81113083079"
       ]
      },
      {
       "output_type": "stream",
       "stream": "stdout",
       "text": [
        " 0.00281695302846 0.00278302904603\n",
        " Trying CVODE with default tolerance\n",
        "1.23284673944"
       ]
      },
      {
       "output_type": "stream",
       "stream": "stdout",
       "text": [
        " 0.00364879389881 0.00379089503172\n",
        " Trying CVODE with default tolerance\n",
        "1.87381742286"
       ]
      },
      {
       "output_type": "stream",
       "stream": "stdout",
       "text": [
        " 0.00471306975785 0.00503590103188\n",
        " Trying CVODE with default tolerance\n",
        "2.84803586844"
       ]
      },
      {
       "output_type": "stream",
       "stream": "stdout",
       "text": [
        " 0.00607298089686 0.00652708287525\n",
        " Trying CVODE with default tolerance\n",
        "4.32876128108"
       ]
      },
      {
       "output_type": "stream",
       "stream": "stdout",
       "text": [
        " 0.00781010569118 0.00825197512446\n",
        " Trying CVODE with default tolerance\n",
        "6.57933224658"
       ]
      },
      {
       "output_type": "stream",
       "stream": "stdout",
       "text": [
        " 0.0100301018116 0.0101598112313\n",
        " Trying CVODE with default tolerance\n",
        "10.0"
       ]
      },
      {
       "output_type": "stream",
       "stream": "stdout",
       "text": [
        " 0.0128702614532 0.0121347454712\n",
        "('SM5', ([0.01, 10000.0, 2.5],), '^', 'g')\n",
        "------------------------------------------------------------\n",
        " Trying CVODE with default tolerance\n",
        "0.1"
       ]
      },
      {
       "output_type": "stream",
       "stream": "stdout",
       "text": [
        " 0.00644135300428 0.00523838295018\n",
        " Trying CVODE with default tolerance\n",
        "0.151991108295"
       ]
      },
      {
       "output_type": "stream",
       "stream": "stdout",
       "text": [
        " 0.00729483813764 0.00520106129623\n",
        " Trying CVODE with default tolerance\n",
        "0.231012970008"
       ]
      },
      {
       "output_type": "stream",
       "stream": "stdout",
       "text": [
        " 0.00817943874266 0.00542285409501\n",
        " Trying CVODE with default tolerance\n",
        "0.351119173422"
       ]
      },
      {
       "output_type": "stream",
       "stream": "stdout",
       "text": [
        " 0.00910316234703 0.00594009353269\n",
        " Trying CVODE with default tolerance\n",
        "0.533669923121"
       ]
      },
      {
       "output_type": "stream",
       "stream": "stdout",
       "text": [
        " 0.0100763522199 0.0067913455029\n",
        " Trying CVODE with default tolerance\n",
        "0.81113083079"
       ]
      },
      {
       "output_type": "stream",
       "stream": "stdout",
       "text": [
        " 0.0111124803814 0.00801565437697\n",
        " Trying CVODE with default tolerance\n",
        "1.23284673944"
       ]
      },
      {
       "output_type": "stream",
       "stream": "stdout",
       "text": [
        " 0.0122292282057 0.00964935376626\n",
        " Trying CVODE with default tolerance\n",
        "1.87381742286"
       ]
      },
      {
       "output_type": "stream",
       "stream": "stdout",
       "text": [
        " 0.0134499614077 0.0117206206156\n",
        " Trying CVODE with default tolerance\n",
        "2.84803586844"
       ]
      },
      {
       "output_type": "stream",
       "stream": "stdout",
       "text": [
        " 0.0148057460011 0.0142405208121\n",
        " Trying CVODE with default tolerance\n",
        "4.32876128108"
       ]
      },
      {
       "output_type": "stream",
       "stream": "stdout",
       "text": [
        " 0.0163381063527 0.0171886484861\n",
        " Trying CVODE with default tolerance\n",
        "6.57933224658"
       ]
      },
      {
       "output_type": "stream",
       "stream": "stdout",
       "text": [
        " 0.0181028011783 0.0204904895694\n",
        " Trying CVODE with default tolerance\n",
        "10.0"
       ]
      },
      {
       "output_type": "stream",
       "stream": "stdout",
       "text": [
        " 0.0201749956644 0.0239821795154\n"
       ]
      }
     ],
     "prompt_number": 21
    },
    {
     "cell_type": "markdown",
     "metadata": {},
     "source": [
      "Plot the results"
     ]
    },
    {
     "cell_type": "code",
     "collapsed": false,
     "input": [
      "with sns.axes_style(\"ticks\"):\n",
      "    fig, axs = plt.subplots(2, 2, num=1, figsize=(12, 8))\n",
      "    axs = axs.flatten()\n",
      "    \n",
      "    ax_arg, ax_fn, ax_pce3, ax_pce4 = axs\n",
      "    \n",
      "    ss = np.logspace(-2, 1, 101)\n",
      "    for ax in axs:\n",
      "        ax.plot(ss, ss, linestyle='dashed', color='k')\n",
      "        ax.set(xscale=\"log\", yscale=\"log\")\n",
      "        \n",
      "        ax.set_xlim(ss[0], ss[-1])\n",
      "        ax.set_ylim(ss[0], ss[-1])\n",
      "        \n",
      "        ax.set_xlabel(\"Superaturation Max, % (parcel model)\")\n",
      "        \n",
      "    ax_arg.set_ylabel(\"Supersaturation Max, %\\nAbdul-Razzak and Ghan, 2000\")\n",
      "    ax_fn.set_ylabel(\"Superaturation Max, %\\nFountoukis and Nenes, 2005\")\n",
      "    ax_pce3.set_ylabel(\"Superaturation Max, %\\nPCE - Degree 3\")\n",
      "    ax_pce4.set_ylabel(\"Superaturation Max, %\\nPCE - Degree 4\")\n",
      "    \n",
      "    plt.tight_layout()\n",
      "    \n",
      "for sm in simulation_sets:\n",
      "    \n",
      "    print sm\n",
      "    label, aer_params, marker, color = sm\n",
      "    \n",
      "    if not (label in results): continue\n",
      "    \n",
      "    res_parcel = results[label][:, 0]*100\n",
      "    res_arg = results[label][:, 1]*100\n",
      "    res_fn = results[label][:, 2]*100\n",
      "    res_pce3 = results[label][:, 3]*100\n",
      "    res_pce4 = results[label][:, 4]*100\n",
      "    \n",
      "    print res_fn.min(), res_parcel.min(), \" | \", \\\n",
      "          res_fn.max(), res_parcel.max()\n",
      "\n",
      "    ax_arg.scatter(res_parcel, res_arg,\n",
      "                   s=40, color=color, marker=marker, label=label)\n",
      "    ax_fn.scatter(res_parcel, res_fn,\n",
      "                  s=40, color=color, marker=marker, label=label)\n",
      "    ax_pce3.scatter(res_parcel, res_pce3,\n",
      "                  s=40, color=color, marker=marker, label=label)\n",
      "    ax_pce4.scatter(res_parcel, res_pce4,\n",
      "                  s=40, color=color, marker=marker, label=label)\n",
      "    \n",
      "    print \"--\"*30\n",
      "\n",
      "for ax in axs:\n",
      "    ax.legend(loc='best', numpoints=1)"
     ],
     "language": "python",
     "metadata": {},
     "outputs": [
      {
       "output_type": "stream",
       "stream": "stdout",
       "text": [
        "('SM1', ([0.01, 200.0, 2.5],), 'D', '#00009C')\n",
        "0.33861269867 0.314796571886  |  3.48983507638 2.92572819519\n",
        "------------------------------------------------------------\n",
        "('SM2', ([0.01, 1000.0, 2.5],), 's', '#EE1289')\n",
        "0.210978078823 0.22218664353  |  1.89567189453 1.69324426493\n",
        "------------------------------------------------------------\n",
        "('SM3', ([0.01, 1000.0, 1.5],), 'o', 'r')\n",
        "0.579158713883 0.483224322161  |  2.14426101046 1.88114618743\n",
        "------------------------------------------------------------\n",
        "('SM4', ([0.1, 200.0, 2.5],), 's', 'k')\n",
        "0.0851960040324 0.0571193799901  |  2.54150858433 1.84986802081\n",
        "------------------------------------------------------------"
       ]
      },
      {
       "output_type": "stream",
       "stream": "stdout",
       "text": [
        "\n",
        "('SM5', ([0.01, 10000.0, 2.5],), '^', 'g')\n",
        "0.0961071537887 0.128744184624  |  0.847704196643 0.898602157117\n",
        "------------------------------------------------------------\n"
       ]
      },
      {
       "metadata": {},
       "output_type": "display_data",
       "png": "[encoded data removed]",
       "text": [
        "<matplotlib.figure.Figure at 0x103aa2b10>"
       ]
      }
     ],
     "prompt_number": 22
    },
    {
     "cell_type": "markdown",
     "metadata": {},
     "source": [
      "---"
     ]
    },
    {
     "cell_type": "code",
     "collapsed": false,
     "input": [],
     "language": "python",
     "metadata": {},
     "outputs": []
    }
   ],
   "metadata": {}
  }
 ]
}