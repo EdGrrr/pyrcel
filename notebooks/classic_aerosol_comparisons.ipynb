{
 "metadata": {
  "name": "",
  "signature": "sha256:261c505b93970fa2df13bab9a23392057875e51f7efbda72d261c37a17597afa"
 },
 "nbformat": 3,
 "nbformat_minor": 0,
 "worksheets": [
  {
   "cells": [
    {
     "cell_type": "markdown",
     "metadata": {},
     "source": [
      "As a sanity check that the parcel model and parameterizations are working okay, plot up figures such as Nenes and Seinfeld (2003) Figures 6/12 - basically, run a bunch of simulations with canonical aerosols."
     ]
    },
    {
     "cell_type": "code",
     "collapsed": false,
     "input": [
      "import parcel_model as pm\n",
      "from parcel_model.pce_params import pce_deg3, pce_deg4\n",
      "from parcel_model.param import pce_param as pce_agu\n",
      "import numpy as np"
     ],
     "language": "python",
     "metadata": {},
     "outputs": [],
     "prompt_number": 34
    },
    {
     "cell_type": "code",
     "collapsed": false,
     "input": [
      "%matplotlib inline\n",
      "import matplotlib.pyplot as plt\n",
      "import seaborn as sns"
     ],
     "language": "python",
     "metadata": {},
     "outputs": [],
     "prompt_number": 35
    },
    {
     "cell_type": "markdown",
     "metadata": {},
     "source": [
      "Define aerosol distributions and simulation parameters"
     ]
    },
    {
     "cell_type": "code",
     "collapsed": false,
     "input": [
      "P0 = 80000. # Pressure, Pa\n",
      "T0 = 283.0 # Temperature, K\n",
      "S0 = -0.01 # Supersaturation. 1-RH from wv term\n",
      "\n",
      "VsSM = np.logspace(np.log10(0.1), np.log10(10.0), 12)\n",
      "VsTM = np.logspace(np.log10(0.1), np.log10(3.0), 6)\n",
      "\n",
      "simulation_sets = [\n",
      "    ## NS 2003\n",
      "    ('SM1', ([0.01*2,   200.0, 2.5], ), 'D', '#00009C'),\n",
      "    ('SM2', ([0.01*2,  1000.0, 2.5], ), 's', '#EE1289'),\n",
      "    ('SM3', ([0.01*2,  1000.0, 1.5], ), 'o', 'r'),\n",
      "    ('SM4', ([ 0.1*2,   200.0, 2.5], ), 's', 'k'),\n",
      "    ('SM5', ([0.01*2, 10000.0*0.8, 2.5], ), '^', 'g'),\n",
      "\n",
      "    ## FN 2005\n",
      "    #('SM1', ([0.025,  100.0, 1.3], ), 'D', '#00009C'),\n",
      "    #('SM2', ([0.025,  500.0, 1.3], ), 's', '#EE1289'),\n",
      "    #('SM3', ([ 0.05,  500.0, 1.8], ), 'o', 'r'),\n",
      "    #('SM4', ([ 0.25,  100.0, 1.8], ), 's', 'k'),\n",
      "    #('SM5', ([ 0.75, 1000.0, 1.8], ), '^', 'g'),\n",
      "\n",
      "    #('TM1-M', ([0.005,    340., 1.6],\n",
      "    #           [0.035,    60.,  2.0],\n",
      "    #           [0.31,  3.1,  2.7]), 'D', '#0099FF'),\n",
      "    #('TM1-C', ([0.008,   1000., 1.6],\n",
      "    #           [0.034,   800.,  2.1],\n",
      "    #           [0.46, 0.72,  2.2]), 'D', '#0099FF'),\n",
      "    #('TM1-B', ([0.008,   6400., 1.7],\n",
      "    #           [0.038,  2300.,  2.0],\n",
      "    #           [0.51, 2.16, 2.16]), 'D', '#0099FF'),\n",
      "    #('TM1-U', ([0.007, 106000., 1.8],\n",
      "    #           [0.027, 32000., 2.16],\n",
      "    #           [0.41, 2.21, 2.21]), 'D', '#0099FF'),\n",
      "\n",
      "    #('TM2-M', ([0.005,    340*2., 1.6],\n",
      "    #           [0.035,    60.*2,  2.0],\n",
      "    #           [0.31,  3.1*2,  2.7]), '*', 'k'),\n",
      "    #('TM2-C', ([0.008,   1000*2., 1.6],\n",
      "    #           [0.034,   800*2.,  2.1],\n",
      "    #           [0.46, 0.72*2,  2.2]), '*', 'k'),\n",
      "    #('TM2-B', ([0.008,   6400*2., 1.7],\n",
      "    #           [0.038,  2300*2.,  2.0],\n",
      "    #           [0.51, 2.16*2, 2.16]), '*', 'k'),\n",
      "    #('TM2-U', ([0.007, 106000*2., 1.8],\n",
      "    #           [0.027, 32000*2., 2.16],\n",
      "    #           [0.41, 2.21*2, 2.21]), '*', 'k'),\n",
      "\n",
      "]\n",
      "results = {}"
     ],
     "language": "python",
     "metadata": {},
     "outputs": [],
     "prompt_number": 44
    },
    {
     "cell_type": "markdown",
     "metadata": {},
     "source": [
      "Run the simulation sets and save them for later"
     ]
    },
    {
     "cell_type": "code",
     "collapsed": false,
     "input": [
      "SKIP_LIST = [ ]\n",
      "\n",
      "for sm in simulation_sets:\n",
      "    result_list = []\n",
      "\n",
      "    print sm\n",
      "    print \"--\"*30\n",
      "    \n",
      "    label, aer_params, marker, color = sm\n",
      "\n",
      "    if label in results or label in SKIP_LIST: continue\n",
      "    \n",
      "    initial_aerosols = []\n",
      "    for mu, N, sigma in aer_params:\n",
      "        aer = pm.AerosolSpecies(label, pm.Lognorm(mu, sigma, N),\n",
      "                                bins=200, kappa=0.54)\n",
      "        initial_aerosols.append(aer)\n",
      "    \n",
      "    Vs = VsTM if label.startswith(\"TM\") else VsSM\n",
      "    \n",
      "    for V in Vs:\n",
      "        (p, a), ghan_Smax, nenes_Smax = pm.iterate_runs(V, initial_aerosols,\n",
      "                                                        T0, P0,\n",
      "                                                        output=\"dataframes\",\n",
      "                                                        dt=0.05, t_end=500./V)\n",
      "        parcel_Smax = p.S.max()\n",
      "        \n",
      "        #parcel_Smax, ghan_Smax, nenes_Smax = 0, 0, 0\n",
      "        \n",
      "        if len(initial_aerosols) == 1:\n",
      "            pce3_smax, _ = pce_deg3(V, T0, P0, initial_aerosols[0])\n",
      "            pce4_smax, _ = pce_deg4(V, T0, P0, initial_aerosols[0])\n",
      "            pce_agu_smax = pce_agu(aer.distribution.N,\n",
      "                                      aer.distribution.mu,\n",
      "                                      aer.distribution.sigma,\n",
      "                                      aer.kappa, V, T0, P0)\n",
      "        else:\n",
      "            pce3_smax = np.nan\n",
      "            pce4_smax = np.nan\n",
      "            pce_agu_smax = np.nan\n",
      "        \n",
      "        print V, pce3_smax, pce4_smax, pce_agu_smax\n",
      "        \n",
      "        result_list.append([parcel_Smax, ghan_Smax, nenes_Smax,\n",
      "                            pce3_smax, pce4_smax, pce_agu_smax])\n",
      "        \n",
      "        \n",
      "    \n",
      "    results[label] = np.array(result_list)\n",
      "    \n",
      "import pickle\n",
      "#pickle.dump( [simulation_sets, results, VsSM, VsTM], \n",
      "#            open( \"cac_results.p\", \"wb\" ) )"
     ],
     "language": "python",
     "metadata": {},
     "outputs": [
      {
       "output_type": "stream",
       "stream": "stdout",
       "text": [
        "('SM1', ([0.02, 200.0, 2.5],), 'D', '#00009C')\n",
        "------------------------------------------------------------\n",
        " Trying CVODE with default tolerance\n",
        "0.1"
       ]
      },
      {
       "output_type": "stream",
       "stream": "stdout",
       "text": [
        " 0.0026217736961 0.00230384372972 0.00192953677547\n",
        " Trying CVODE with default tolerance\n",
        "0.151991108295"
       ]
      },
      {
       "output_type": "stream",
       "stream": "stdout",
       "text": [
        " 0.00308803934455 0.00273149414892 0.00231741762993\n",
        " Trying CVODE with default tolerance\n",
        "0.231012970008"
       ]
      },
      {
       "output_type": "stream",
       "stream": "stdout",
       "text": [
        " 0.00366270171759 0.00333482772149 0.00286430879021\n",
        " Trying CVODE with default tolerance\n",
        "0.351119173422"
       ]
      },
      {
       "output_type": "stream",
       "stream": "stdout",
       "text": [
        " 0.00436994408565 0.00414194803398 0.00358551877259\n",
        " Trying CVODE with default tolerance\n",
        "0.533669923121"
       ]
      },
      {
       "output_type": "stream",
       "stream": "stdout",
       "text": [
        " 0.00523997805995 0.00518287425135 0.00450173068213\n",
        " Trying CVODE with default tolerance\n",
        "0.81113083079"
       ]
      },
      {
       "output_type": "stream",
       "stream": "stdout",
       "text": [
        " 0.00631070875299 0.00648819140384 0.00564249382562\n",
        " Trying CVODE with default tolerance\n",
        "1.23284673944"
       ]
      },
      {
       "output_type": "stream",
       "stream": "stdout",
       "text": [
        " 0.00762989470367 0.00808653222512 0.00705350159589\n",
        " Trying CVODE with default tolerance\n",
        "1.87381742286"
       ]
      },
      {
       "output_type": "stream",
       "stream": "stdout",
       "text": [
        " 0.00925795787284 0.0100001931619 0.00881444513265\n",
        " Trying CVODE with default tolerance\n",
        "2.84803586844"
       ]
      },
      {
       "output_type": "stream",
       "stream": "stdout",
       "text": [
        " 0.0112716499244 0.0122378105923 0.0110943901323\n",
        " Trying CVODE with default tolerance\n",
        "4.32876128108"
       ]
      },
      {
       "output_type": "stream",
       "stream": "stdout",
       "text": [
        " 0.0137688492085 0.0147824505997 nan\n",
        " Trying CVODE with default tolerance\n",
        "6.57933224658"
       ]
      },
      {
       "output_type": "stream",
       "stream": "stdout",
       "text": [
        " 0.0168748543992 0.017572596016 nan\n",
        " Trying CVODE with default tolerance\n",
        "10.0"
       ]
      },
      {
       "output_type": "stream",
       "stream": "stdout",
       "text": [
        " 0.0207506638057 0.020472195332 nan\n",
        "('SM2', ([0.02, 1000.0, 2.5],), 's', '#EE1289')\n",
        "------------------------------------------------------------\n",
        " Trying CVODE with default tolerance\n",
        "0.1"
       ]
      },
      {
       "output_type": "stream",
       "stream": "stdout",
       "text": [
        " 0.00130382351531 0.00133237909894 0.00112259979145\n",
        " Trying CVODE with default tolerance\n",
        "0.151991108295"
       ]
      },
      {
       "output_type": "stream",
       "stream": "stdout",
       "text": [
        " 0.00158138443244 0.0015751276616 0.00143906618476\n",
        " Trying CVODE with default tolerance\n",
        "0.231012970008"
       ]
      },
      {
       "output_type": "stream",
       "stream": "stdout",
       "text": [
        " 0.00193314998898 0.00193041961299 0.00183879886241\n",
        " Trying CVODE with default tolerance\n",
        "0.351119173422"
       ]
      },
      {
       "output_type": "stream",
       "stream": "stdout",
       "text": [
        " 0.00237778714457 0.00241545315942 0.00233015748754\n",
        " Trying CVODE with default tolerance\n",
        "0.533669923121"
       ]
      },
      {
       "output_type": "stream",
       "stream": "stdout",
       "text": [
        " 0.00293891526675 0.0030471122869 0.00292426829775\n",
        " Trying CVODE with default tolerance\n",
        "0.81113083079"
       ]
      },
      {
       "output_type": "stream",
       "stream": "stdout",
       "text": [
        " 0.00364654242238 0.0038401269092 0.00363674656826\n",
        " Trying CVODE with default tolerance\n",
        "1.23284673944"
       ]
      },
      {
       "output_type": "stream",
       "stream": "stdout",
       "text": [
        " 0.00453894571974 0.00480395369813 0.00449120805694\n",
        " Trying CVODE with default tolerance\n",
        "1.87381742286"
       ]
      },
      {
       "output_type": "stream",
       "stream": "stdout",
       "text": [
        " 0.00566513959074 0.00593765506976 0.00552758704726\n",
        " Trying CVODE with default tolerance\n",
        "2.84803586844"
       ]
      },
      {
       "output_type": "stream",
       "stream": "stdout",
       "text": [
        " 0.00708812422133 0.00722167155824 0.00682592394439\n",
        " Trying CVODE with default tolerance\n",
        "4.32876128108"
       ]
      },
      {
       "output_type": "stream",
       "stream": "stdout",
       "text": [
        " 0.00888917134929 0.00860480317614 nan\n",
        " Trying CVODE with default tolerance\n",
        "6.57933224658"
       ]
      },
      {
       "output_type": "stream",
       "stream": "stdout",
       "text": [
        " 0.0111734922496 0.00998383720956 nan\n",
        " Trying CVODE with default tolerance\n",
        "10.0"
       ]
      },
      {
       "output_type": "stream",
       "stream": "stdout",
       "text": [
        " 0.0140777509401 0.0111719303078 nan\n",
        "('SM3', ([0.02, 1000.0, 1.5],), 'o', 'r')\n",
        "------------------------------------------------------------\n",
        " Trying CVODE with default tolerance\n",
        "0.1"
       ]
      },
      {
       "output_type": "stream",
       "stream": "stdout",
       "text": [
        " 0.00258441469988 0.00198140786911 0.00222978125868\n",
        " Trying CVODE with default tolerance\n",
        "0.151991108295"
       ]
      },
      {
       "output_type": "stream",
       "stream": "stdout",
       "text": [
        " 0.00288087741568 0.00225651210635 0.00251802752798\n",
        " Trying CVODE with default tolerance\n",
        "0.231012970008"
       ]
      },
      {
       "output_type": "stream",
       "stream": "stdout",
       "text": [
        " 0.00325259578895 0.00266950549312 0.00289307204318\n",
        " Trying CVODE with default tolerance\n",
        "0.351119173422"
       ]
      },
      {
       "output_type": "stream",
       "stream": "stdout",
       "text": [
        " 0.00371834664787 0.00323614568061 0.0033632731375\n",
        " Trying CVODE with default tolerance\n",
        "0.533669923121"
       ]
      },
      {
       "output_type": "stream",
       "stream": "stdout",
       "text": [
        " 0.00430187200263 0.00397045679588 0.00393964694063\n",
        " Trying CVODE with default tolerance\n",
        "0.81113083079"
       ]
      },
      {
       "output_type": "stream",
       "stream": "stdout",
       "text": [
        " 0.00503331665857 0.00488223485997 0.00463743644579\n",
        " Trying CVODE with default tolerance\n",
        "1.23284673944"
       ]
      },
      {
       "output_type": "stream",
       "stream": "stdout",
       "text": [
        " 0.00595110994902 0.00597300862349 0.00547917744733\n",
        " Trying CVODE with default tolerance\n",
        "1.87381742286"
       ]
      },
      {
       "output_type": "stream",
       "stream": "stdout",
       "text": [
        " 0.00710443546223 0.007229630736 0.00650135347857\n",
        " Trying CVODE with default tolerance\n",
        "2.84803586844"
       ]
      },
      {
       "output_type": "stream",
       "stream": "stdout",
       "text": [
        " 0.00855648095089 0.00861425320594 0.00776781227181\n",
        " Trying CVODE with default tolerance\n",
        "4.32876128108"
       ]
      },
      {
       "output_type": "stream",
       "stream": "stdout",
       "text": [
        " 0.0103887256178 0.0100488083482 nan\n",
        " Trying CVODE with default tolerance\n",
        "6.57933224658"
       ]
      },
      {
       "output_type": "stream",
       "stream": "stdout",
       "text": [
        " 0.0127066095657 0.0113911654004 nan\n",
        " Trying CVODE with default tolerance\n",
        "10.0"
       ]
      },
      {
       "output_type": "stream",
       "stream": "stdout",
       "text": [
        " 0.015647048404 0.0123987034915 nan\n",
        "('SM4', ([0.2, 200.0, 2.5],), 's', 'k')\n",
        "------------------------------------------------------------\n",
        " Trying CVODE with default tolerance\n",
        "0.1"
       ]
      },
      {
       "output_type": "stream",
       "stream": "stdout",
       "text": [
        " 0.000176189180021 0.000248265224601 2.98960178803e-06\n",
        " Trying CVODE with default tolerance\n",
        "0.151991108295"
       ]
      },
      {
       "output_type": "stream",
       "stream": "stdout",
       "text": [
        " 0.000307326292112 0.00023610005303 4.69099805309e-05\n",
        " Trying CVODE with default tolerance\n",
        "0.231012970008"
       ]
      },
      {
       "output_type": "stream",
       "stream": "stdout",
       "text": [
        " 0.000488466147824 0.000307370613093 0.000191525039488\n",
        " Trying CVODE with default tolerance\n",
        "0.351119173422"
       ]
      },
      {
       "output_type": "stream",
       "stream": "stdout",
       "text": [
        " 0.000734429713987 0.000483954083056 0.000449528742126\n",
        " Trying CVODE with default tolerance\n",
        "0.533669923121"
       ]
      },
      {
       "output_type": "stream",
       "stream": "stdout",
       "text": [
        " 0.00106424871314 0.000790185499506 0.000838137567771\n",
        " Trying CVODE with default tolerance\n",
        "0.81113083079"
       ]
      },
      {
       "output_type": "stream",
       "stream": "stdout",
       "text": [
        " 0.00150244552219 0.00125215894415 0.00138211256518\n",
        " Trying CVODE with default tolerance\n",
        "1.23284673944"
       ]
      },
      {
       "output_type": "stream",
       "stream": "stdout",
       "text": [
        " 0.00208072268735 0.00189618519834 0.00212019576418\n",
        " Trying CVODE with default tolerance\n",
        "1.87381742286"
       ]
      },
      {
       "output_type": "stream",
       "stream": "stdout",
       "text": [
        " 0.00284019822261 0.002745845693 0.00312150182306\n",
        " Trying CVODE with default tolerance\n",
        "2.84803586844"
       ]
      },
      {
       "output_type": "stream",
       "stream": "stdout",
       "text": [
        " 0.00383436942749 0.00381676016636 0.00454140060587\n",
        " Trying CVODE with default tolerance\n",
        "4.32876128108"
       ]
      },
      {
       "output_type": "stream",
       "stream": "stdout",
       "text": [
        " 0.005133050814 0.00510768757142 nan\n",
        " Trying CVODE with default tolerance\n",
        "6.57933224658"
       ]
      },
      {
       "output_type": "stream",
       "stream": "stdout",
       "text": [
        " 0.00682761667463 0.00658581336455 nan\n",
        " Trying CVODE with default tolerance\n",
        "10.0"
       ]
      },
      {
       "output_type": "stream",
       "stream": "stdout",
       "text": [
        " 0.00903799375236 0.00816289944885 nan\n",
        "('SM5', ([0.02, 8000.0, 2.5],), '^', 'g')\n",
        "------------------------------------------------------------\n",
        " Trying CVODE with default tolerance\n",
        "0.1"
       ]
      },
      {
       "output_type": "stream",
       "stream": "stdout",
       "text": [
        " 0.000578609462059 0.000654962312206 -0.00041714107977\n",
        " Trying CVODE with default tolerance\n",
        "0.151991108295"
       ]
      },
      {
       "output_type": "stream",
       "stream": "stdout",
       "text": [
        " 0.00072062579504 0.000758561804631 -0.000132988224048\n",
        " Trying CVODE with default tolerance\n",
        "0.231012970008"
       ]
      },
      {
       "output_type": "stream",
       "stream": "stdout",
       "text": [
        " 0.000878073247436 0.000920121100556 0.000192846796316\n",
        " Trying CVODE with default tolerance\n",
        "0.351119173422"
       ]
      },
      {
       "output_type": "stream",
       "stream": "stdout",
       "text": [
        " 0.00105927630434 0.00114735173969 0.000565114494851\n",
        " Trying CVODE with default tolerance\n",
        "0.533669923121"
       ]
      },
      {
       "output_type": "stream",
       "stream": "stdout",
       "text": [
        " 0.00127536985702 0.00144570528123 0.000990088056858\n",
        " Trying CVODE with default tolerance\n",
        "0.81113083079"
       ]
      },
      {
       "output_type": "stream",
       "stream": "stdout",
       "text": [
        " 0.00154125974235 0.00181610580339 0.00147652671099\n",
        " Trying CVODE with default tolerance\n",
        "1.23284673944"
       ]
      },
      {
       "output_type": "stream",
       "stream": "stdout",
       "text": [
        " 0.00187691868418 0.00225130672913 0.00203770037572\n",
        " Trying CVODE with default tolerance\n",
        "1.87381742286"
       ]
      },
      {
       "output_type": "stream",
       "stream": "stdout",
       "text": [
        " 0.00230913663222 0.00273012780248 0.0026965304734\n",
        " Trying CVODE with default tolerance\n",
        "2.84803586844"
       ]
      },
      {
       "output_type": "stream",
       "stream": "stdout",
       "text": [
        " 0.00287388713931 0.00320844101302 0.0035042358783\n",
        " Trying CVODE with default tolerance\n",
        "4.32876128108"
       ]
      },
      {
       "output_type": "stream",
       "stream": "stdout",
       "text": [
        " 0.0036195294476 0.00360518879827 nan\n",
        " Trying CVODE with default tolerance\n",
        "6.57933224658"
       ]
      },
      {
       "output_type": "stream",
       "stream": "stdout",
       "text": [
        " 0.00461114495452 0.0037808325854 nan\n",
        " Trying CVODE with default tolerance\n",
        "10.0"
       ]
      },
      {
       "output_type": "stream",
       "stream": "stdout",
       "text": [
        " 0.00593641433077 0.00350429146039 nan\n"
       ]
      }
     ],
     "prompt_number": 45
    },
    {
     "cell_type": "markdown",
     "metadata": {},
     "source": [
      "Plot the results"
     ]
    },
    {
     "cell_type": "code",
     "collapsed": false,
     "input": [
      "with sns.axes_style(\"ticks\"):\n",
      "    fig, axs = plt.subplots(2, 2, num=1, figsize=(12, 8))\n",
      "    axs = axs.flatten()\n",
      "    \n",
      "    ax_arg, ax_fn, ax_pce3, ax_pce4 = axs\n",
      "    \n",
      "    ss = np.logspace(-2, 1, 101)\n",
      "    for ax in axs:\n",
      "        ax.plot(ss, ss, linestyle='dashed', color='k')\n",
      "        ax.set(xscale=\"log\", yscale=\"log\")\n",
      "        \n",
      "        ax.set_xlim(ss[0], ss[-1])\n",
      "        ax.set_ylim(ss[0], ss[-1])\n",
      "        \n",
      "        ax.set_xlabel(\"Superaturation Max, % (parcel model)\")\n",
      "        \n",
      "    ax_arg.set_ylabel(\"Supersaturation Max, %\\nAbdul-Razzak and Ghan, 2000\")\n",
      "    ax_fn.set_ylabel(\"Superaturation Max, %\\nFountoukis and Nenes, 2005\")\n",
      "    ax_pce3.set_ylabel(\"Superaturation Max, %\\nPCE - Degree 3\")\n",
      "    ax_pce4.set_ylabel(\"Superaturation Max, %\\nPCE - Degree 4\")\n",
      "    \n",
      "    plt.tight_layout()\n",
      "    \n",
      "for sm in simulation_sets:\n",
      "    \n",
      "    print sm\n",
      "    label, aer_params, marker, color = sm\n",
      "    \n",
      "    if not (label in results): continue\n",
      "    \n",
      "    res_parcel = results[label][:, 0]*100\n",
      "    res_arg = results[label][:, 1]*100\n",
      "    res_fn = results[label][:, 2]*100\n",
      "    res_pce3 = results[label][:, 3]*100\n",
      "    res_pce4 = results[label][:, 4]*100\n",
      "    res_pce_agu = results[label][:, 5]*100\n",
      "    \n",
      "    print res_fn.min(), res_parcel.min(), \" | \", \\\n",
      "          res_fn.min(), res_parcel.max(), \" | \", \\\n",
      "          res_pce_agu.min(), res_pce_agu.max()\n",
      "\n",
      "    ax_arg.scatter(res_parcel, res_arg,\n",
      "                   s=40, color=color, marker=marker, label=label)\n",
      "    ax_fn.scatter(res_parcel, res_fn,\n",
      "                  s=40, color=color, marker=marker, label=label)\n",
      "    ax_pce3.scatter(res_parcel, res_pce3,\n",
      "                  s=40, color=color, marker=marker, label=label)\n",
      "    ax_pce4.scatter(res_parcel, res_pce_agu,\n",
      "                  s=40, color=color, marker=marker, label=label)\n",
      "    \n",
      "    print \"--\"*30\n",
      "\n",
      "for ax in axs:\n",
      "    ax.legend(loc='best', numpoints=1)"
     ],
     "language": "python",
     "metadata": {},
     "outputs": [
      {
       "output_type": "stream",
       "stream": "stdout",
       "text": [
        "('SM1', ([0.02, 200.0, 2.5],), 'D', '#00009C')\n",
        "0.221458892004 0.224866480532  |  0.221458892004 2.46885270206  |  nan nan\n",
        "------------------------------------------------------------\n",
        "('SM2', ([0.02, 1000.0, 2.5],), 's', '#EE1289')\n",
        "0.129369100051 0.14406839967  |  0.129369100051 1.3625912591  |  nan nan\n",
        "------------------------------------------------------------\n",
        "('SM3', ([0.02, 1000.0, 1.5],), 'o', 'r')\n",
        "0.274427147483 0.270912077162  |  0.274427147483 1.34408923455  |  nan nan\n",
        "------------------------------------------------------------\n",
        "('SM4', ([0.2, 200.0, 2.5],), 's', 'k')\n",
        "0.0637800364958 0.019872075595  |  0.0637800364958 1.25328212447  |  nan nan\n",
        "------------------------------------------------------------"
       ]
      },
      {
       "output_type": "stream",
       "stream": "stdout",
       "text": [
        "\n",
        "('SM5', ([0.02, 8000.0, 2.5],), '^', 'g')\n",
        "0.040947832524 0.0604021826571  |  0.040947832524 0.698335136224  |  nan nan\n",
        "------------------------------------------------------------\n"
       ]
      },
      {
       "metadata": {},
       "output_type": "display_data",
       "png": "[encoded data removed]",
       "text": [
        "<matplotlib.figure.Figure at 0x10aa0e750>"
       ]
      }
     ],
     "prompt_number": 46
    },
    {
     "cell_type": "markdown",
     "metadata": {},
     "source": [
      "---"
     ]
    }
   ],
   "metadata": {}
  }
 ]
}