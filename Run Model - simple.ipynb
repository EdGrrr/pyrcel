{
 "metadata": {
  "name": "Run Model - simple"
 },
 "nbformat": 3,
 "nbformat_minor": 0,
 "worksheets": [
  {
   "cells": [
    {
     "cell_type": "heading",
     "level": 2,
     "metadata": {},
     "source": [
      "Parcel model quick setup and run"
     ]
    },
    {
     "cell_type": "code",
     "collapsed": false,
     "input": [
      "from lognorm import Lognorm\n",
      "from parcel import ParcelModel, AerosolSpecies\n",
      "from micro import kohler_crit, Rd\n",
      "from activation import arg2000, fn2005, act_fraction, ming2006\n",
      "import pandas\n",
      "import time"
     ],
     "language": "python",
     "metadata": {},
     "outputs": [],
     "prompt_number": 1
    },
    {
     "cell_type": "heading",
     "level": 4,
     "metadata": {},
     "source": [
      "Set the parcel's initial environmental conditions"
     ]
    },
    {
     "cell_type": "code",
     "collapsed": false,
     "input": [
      "P0 = 80000. # Pressure, Pa\n",
      "T0 = 283.15 # Temperature, K\n",
      "S0 = -0.00 # Supersaturation. 1-RH from wv term\n",
      "V = 0.7076312079 # m/s"
     ],
     "language": "python",
     "metadata": {},
     "outputs": [],
     "prompt_number": 2
    },
    {
     "cell_type": "heading",
     "level": 4,
     "metadata": {},
     "source": [
      "Add aerosols to the parcel"
     ]
    },
    {
     "cell_type": "code",
     "collapsed": false,
     "input": [
      "aerosol1 = AerosolSpecies('(NH4)2SO4', Lognorm(mu=0.02494149518, sigma=1.301854178, N=2299.298741 ),\n",
      "                          bins=200, kappa=0.4983795899)\n",
      "initial_aerosols = [aerosol1, ]\n",
      "\n",
      "aer_species = [a.species for a in initial_aerosols]\n",
      "aer_dict = dict()\n",
      "for aerosol in initial_aerosols:\n",
      "    aer_dict[aerosol.species] = aerosol"
     ],
     "language": "python",
     "metadata": {},
     "outputs": [],
     "prompt_number": 3
    },
    {
     "cell_type": "heading",
     "level": 4,
     "metadata": {},
     "source": [
      "Setup and run the model"
     ]
    },
    {
     "cell_type": "code",
     "collapsed": false,
     "input": [
      "z_top = 50.0 # meters\n",
      "dt = 0.01 # seconds\n",
      "\n",
      "pm = ParcelModel(initial_aerosols, V, T0, S0, P0, console=False)\n",
      "start = time.time()\n",
      "parcel, aerosols = pm.run(z_top, dt)\n",
      "end = time.time()\n",
      "\n",
      "print \"...done\"\n",
      "print aerosol1.bins, end-start\n",
      "\n",
      "xs = np.arange(501)\n",
      "#parcel = parcel.ix[parcel.index % 1 == 0]\n",
      "aero_subset = {}\n",
      "for key in aerosols:\n",
      "    aerosol = aerosols[key]\n",
      "    #subset = aerosol.ix[aerosol.index % 1 == 0]\n",
      "    subset = aerosol.ix[:]\n",
      "    aero_subset[key] = subset\n",
      "aerosols2 = aero_subset"
     ],
     "language": "python",
     "metadata": {},
     "outputs": [
      {
       "output_type": "stream",
       "stream": "stdout",
       "text": [
        "...done\n",
        "200 4.45521807671\n"
       ]
      }
     ],
     "prompt_number": 9
    },
    {
     "cell_type": "markdown",
     "metadata": {},
     "source": [
      "#### Print activation stuff"
     ]
    },
    {
     "cell_type": "code",
     "collapsed": false,
     "input": [
      "ghan_Smax, ghan_ratio = arg2000(V, T0, P0, initial_aerosols)\n",
      "nenes_Smax, nenes_ratio = fn2005(V, T0, P0, initial_aerosols)\n",
      "#ming_Smax, ming_ratio = activate_ming(V, T0, P0, initial_aerosols[0])\n",
      "\n",
      "aer = initial_aerosols[0]\n",
      "aer_par = aerosols2[aer.species].ix[-1].values\n",
      "\n",
      "parcel_ratio, _ = act_fraction(parcel.S.max(), T0, aer_par, aer.kappa, aer.r_drys, aer.Nis)\n",
      "\n",
      "print \"       Smax\"\n",
      "print \" Nenes\", nenes_Smax\n",
      "print \"  Ghan\", ghan_Smax\n",
      "#print \"  Ming\", ming_Smax\n",
      "print \"Parcel\", parcel.S.max()"
     ],
     "language": "python",
     "metadata": {},
     "outputs": [
      {
       "output_type": "stream",
       "stream": "stdout",
       "text": [
        "       Smax\n",
        " Nenes 0.00402278856451\n",
        "  Ghan 0.00279970628193\n",
        "Parcel 0.00421122224942\n"
       ]
      }
     ],
     "prompt_number": 7
    },
    {
     "cell_type": "code",
     "collapsed": false,
     "input": [
      "parcel.S.plot()"
     ],
     "language": "python",
     "metadata": {},
     "outputs": [
      {
       "output_type": "pyout",
       "prompt_number": 6,
       "text": [
        "<matplotlib.axes.AxesSubplot at 0x10a437e10>"
       ]
      },
      {
       "output_type": "display_data",
       "png": "[encoded data removed]"
      }
     ],
     "prompt_number": 6
    },
    {
     "cell_type": "code",
     "collapsed": false,
     "input": [],
     "language": "python",
     "metadata": {},
     "outputs": [],
     "prompt_number": 6
    },
    {
     "cell_type": "code",
     "collapsed": false,
     "input": [],
     "language": "python",
     "metadata": {},
     "outputs": []
    }
   ],
   "metadata": {}
  }
 ]
}