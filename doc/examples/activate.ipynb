{
 "metadata": {
  "name": "",
  "signature": "sha256:2ed899a7a5028da3b89d3c1a68b4c735a0f8656266b9f60afadca312edbab04b"
 },
 "nbformat": 3,
 "nbformat_minor": 0,
 "worksheets": [
  {
   "cells": [
    {
     "cell_type": "raw",
     "metadata": {},
     "source": [
      ".. _example_activate:\n",
      "\n",
      ".. currentmodule:: parcel_model"
     ]
    },
    {
     "cell_type": "heading",
     "level": 1,
     "metadata": {},
     "source": [
      "Example: Activation"
     ]
    },
    {
     "cell_type": "markdown",
     "metadata": {},
     "source": [
      "In this example, we will study the effect of updraft speed on the activation of a lognormal ammonium sulfate accumulation mode aerosol."
     ]
    },
    {
     "cell_type": "code",
     "collapsed": false,
     "input": [
      "import parcel_model as pm\n",
      "import numpy as np\n",
      "\n",
      "%matplotlib inline\n",
      "import matplotlib.pyplot as plt\n",
      "import seaborn as sns"
     ],
     "language": "python",
     "metadata": {},
     "outputs": [],
     "prompt_number": null
    },
    {
     "cell_type": "markdown",
     "metadata": {},
     "source": [
      "First, we indicate the parcel's initial thermodynamic conditions."
     ]
    },
    {
     "cell_type": "code",
     "collapsed": false,
     "input": [
      "P0 = 100000. # Pressure, Pa\n",
      "T0 = 279.    # Temperature, K\n",
      "S0 = -0.1   # Supersaturation, 1-RH"
     ],
     "language": "python",
     "metadata": {},
     "outputs": [],
     "prompt_number": null
    },
    {
     "cell_type": "markdown",
     "metadata": {},
     "source": [
      "We next define the aerosol distribution to follow the reference simulation from [Ghan et al, 2011](http://onlinelibrary.wiley.com/doi/10.1029/2011MS000074/abstract)"
     ]
    },
    {
     "cell_type": "code",
     "collapsed": false,
     "input": [
      "aer =  pm.AerosolSpecies('ammonium sulfate', \n",
      "                          pm.Lognorm(mu=0.05, sigma=2.0, N=1000.),\n",
      "                          kappa=0.7, bins=100)"
     ],
     "language": "python",
     "metadata": {},
     "outputs": [],
     "prompt_number": null
    },
    {
     "cell_type": "markdown",
     "metadata": {},
     "source": [
      "Loop over updraft several velocities in the range 0.1 - 10.0 m/s. We will peform a detailed parcel model calculation, as well as calculations with two activation parameterizations. We will also use an accommodation coefficient of $\\alpha_c = 0.1$, following the recommendations of [Raatikainen et al (2013)](http://www.pnas.org/content/110/10/3760).\n",
      "\n",
      "First, the parcel model calculations:"
     ]
    },
    {
     "cell_type": "code",
     "collapsed": false,
     "input": [
      "Vs = np.logspace(-1, np.log10(10,), 11.)[::-1] # 0.1 - 5.0 m/s\n",
      "accom = 0.1\n",
      "\n",
      "smaxes, act_fracs = [], []\n",
      "for V in Vs:\n",
      "    ## Initialize the model\n",
      "    model = pm.ParcelModel([aer,], V, T0, S0, P0, accom=accom, console=False)\n",
      "    par_out, aer_out = model.run(t_end=2500., dt=0.05, solver='cvode',\n",
      "                                 output='dataframes', terminate=True)\n",
      "    \n",
      "    ## Extract the supersaturation/activation details from the model\n",
      "    ## output\n",
      "    S_max = par_out['S'].max()\n",
      "    time_at_Smax = par_out['S'].argmax()\n",
      "    wet_sizes_at_Smax = aer_out['ammonium sulfate'].ix[time_at_Smax].iloc[0]\n",
      "    wet_sizes_at_Smax = np.array(wet_sizes_at_Smax.tolist())\n",
      "\n",
      "    frac_eq, _ = pm.act_fraction(S_max, T0, wet_sizes_at_Smax, aer)\n",
      "    \n",
      "    ## Save the output\n",
      "    smaxes.append(S_max)\n",
      "    act_fracs.append(frac_eq)\n",
     ],
     "language": "python",
     "metadata": {},
     "outputs": [],
     "prompt_number": null
    },
    {
     "cell_type": "markdown",
     "metadata": {},
     "source": [
      "Now the activation parameterizations:"
     ]
    },
    {
     "cell_type": "code",
     "collapsed": false,
     "input": [
      "smaxes_arg, act_fracs_arg = [], []\n",
      "smaxes_mbn, act_fracs_mbn = [], []\n",
      "\n",
      "for V in Vs:\n",
      "    smax_arg, _, afs_arg = pm.arg2000(V, T0, P0, [aer], accom=accom)\n",
      "    smax_mbn, _, afs_mbn = pm.mbn2014(V, T0, P0, [aer], accom=accom)\n",
      "\n",
      "    smaxes_arg.append(smax_arg)\n",
      "    act_fracs_arg.append(afs_arg[0])\n",
      "    smaxes_mbn.append(smax_mbn)\n",
      "    act_fracs_mbn.append(afs_mbn[0])    "
     ],
     "language": "python",
     "metadata": {},
     "outputs": [],
     "prompt_number": null
    },
    {
     "cell_type": "markdown",
     "metadata": {},
     "source": [
      "Finally, we compile our results into a nice plot for visualization."
     ]
    },
    {
     "cell_type": "code",
     "collapsed": false,
     "input": [
      "sns.set(context=\"notebook\", style='ticks')\n",
      "sns.set_palette(\"husl\", 3)\n",
      "fig, [ax_s, ax_a] = plt.subplots(1, 2, sharex=True, figsize=(10,4))\n",
      "\n",
      "ax_s.plot(Vs, np.array(smaxes)*100., color='k', lw=2, label=\"Parcel Model\")\n",
      "ax_s.plot(Vs, np.array(smaxes_mbn)*100., linestyle='None', \n",
      "          marker=\"o\", ms=10, label=\"MBN2014\" )\n",
      "ax_s.plot(Vs, np.array(smaxes_arg)*100., linestyle='None', \n",
      "          marker=\"o\", ms=10, label=\"ARG2000\" )\n",
      "ax_s.semilogx()\n",
      "ax_s.set_ylabel(\"Superaturation Max, %\")\n",
      "ax_s.set_ylim(0, 2.)\n",
      "\n",
      "ax_a.plot(Vs, act_fracs, color='k', lw=2, label=\"Parcel Model\")\n",
      "ax_a.plot(Vs, act_fracs_mbn, linestyle='None', \n",
      "          marker=\"o\", ms=10, label=\"MBN2014\" )\n",
      "ax_a.plot(Vs, act_fracs_arg, linestyle='None', \n",
      "          marker=\"o\", ms=10, label=\"ARG2000\" )\n",
      "ax_a.semilogx()\n",
      "ax_a.set_ylabel(\"Activated Fraction\")\n",
      "ax_a.set_ylim(0, 1.)\n",
      "\n",
      "plt.tight_layout()\n",
      "sns.despine()\n",
      "\n",
      "for ax in [ax_s, ax_a]:\n",
      "    ax.legend(loc='upper left')\n",
      "    ax.xaxis.set_ticks([0.1, 0.2, 0.5, 1.0, 2.0, 5.0, 10.0])\n",
      "    ax.xaxis.set_ticklabels([0.1, 0.2, 0.5, 1.0, 2.0, 5.0, 10.0])\n",
      "    ax.set_xlabel(\"Updraft speed, m/s\")"
     ],
     "language": "python",
     "metadata": {},
     "outputs": [],
     "prompt_number": null
    }
   ],
   "metadata": {}
  }
 ]
}