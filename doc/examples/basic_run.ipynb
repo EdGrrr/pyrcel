{
 "metadata": {
  "name": "",
  "signature": "sha256:021d270bf79300150dfdf8a43746a4d34779ebc9e564964ee7f5b47a047e9f47"
 },
 "nbformat": 3,
 "nbformat_minor": 0,
 "worksheets": [
  {
   "cells": [
    {
     "cell_type": "markdown",
     "metadata": {},
     "source": [
      ".. _example_activation::\n",
      "\n",
      ".. currentmodule:: parcel_model"
     ]
    },
    {
     "cell_type": "markdown",
     "metadata": {},
     "source": [
      "# Example: Basic Run"
     ]
    },
    {
     "cell_type": "markdown",
     "metadata": {},
     "source": [
      "In this example, we will setup a simple parcel model simulation containing two aerosol modes. We will then run the model with a 1 m/s updraft, and observe how the aerosol population bifurcates into swelled aerosol and cloud droplets."
     ]
    },
    {
     "cell_type": "code",
     "collapsed": false,
     "input": [
      "import parcel_model as pm\n",
      "import numpy as np\n",
      "import matplotlib.pyplot as plt"
     ],
     "language": "python",
     "metadata": {},
     "outputs": [],
     "prompt_number": null
    },
    {
     "cell_type": "markdown",
     "metadata": {},
     "source": [
      "First, we indicate the parcel's initial thermodynamic conditions."
     ]
    },
    {
     "cell_type": "code",
     "collapsed": false,
     "input": [
      "P0 = 77500. # Pressure, Pa\n",
      "T0 = 286.   # Temperature, K\n",
      "S0 = -0.02  # Supersaturation, 1-RH (98% here)"
     ],
     "language": "python",
     "metadata": {},
     "outputs": [],
     "prompt_number": null
    },
    {
     "cell_type": "markdown",
     "metadata": {},
     "source": [
      "Next, we define the aerosols present in the parcel. The model itself is agnostic to how the aerosol are specified; it simply expects lists of the radii of wetted aerosol radii, their number concentration, and their hygroscopicity. We can make container objects (:class:`AerosolSpecies`) that wrap all of this information so that we never need to worry about it.\n",
      "\n",
      "Here, let's construct two aerosol modes:\n",
      "\n",
      "+----------+---------------------------+--------------------+---------+------------------------+\n",
      "| Mode     | $\\kappa$ (hygroscopicity) | Mean size (micron) | Std dev | Number Conc (cm\\*\\*-3) |\n",
      "+==========+===========================+====================+=========+========================+\n",
      "| sulfate  | 0.54                      | 0.015              | 1.6     | 850                    |\n",
      "+----------+---------------------------+--------------------+---------+------------------------+\n",
      "| sea salt | 1.2                       | 0.85               | 1.2     | 10                     |\n",
      "+----------+---------------------------+--------------------+---------+------------------------+\n",
      "\n",
      "We'll define each mode using the :class:`Lognorm` distribution packaged with the model."
     ]
    },
    {
     "cell_type": "code",
     "collapsed": false,
     "input": [
      "accum =  pm.AerosolSpecies('sulfate', \n",
      "                            pm.Lognorm(mu=0.015, sigma=1.6, N=850.),\n",
      "                            kappa=0.54, bins=200)\n",
      "sea_salt = pm.AerosolSpecies('sea salt',\n",
      "                             pm.Lognorm(mu=0.85, sigma=1.2, N=10.),\n",
      "                             kappa=1.2, bins=10)"
     ],
     "language": "python",
     "metadata": {},
     "outputs": [],
     "prompt_number": null
    }
   ],
   "metadata": {}
  }
 ]
}